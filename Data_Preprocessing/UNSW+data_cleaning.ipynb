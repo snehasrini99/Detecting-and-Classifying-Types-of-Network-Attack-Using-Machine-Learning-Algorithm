{
  "nbformat": 4,
  "nbformat_minor": 0,
  "metadata": {
    "colab": {
      "provenance": []
    },
    "kernelspec": {
      "name": "python3",
      "display_name": "Python 3"
    },
    "language_info": {
      "name": "python"
    }
  },
  "cells": [
    {
      "cell_type": "markdown",
      "source": [
        "# Dataset"
      ],
      "metadata": {
        "id": "sirCe6Vc6Vxp"
      }
    },
    {
      "cell_type": "code",
      "execution_count": 1,
      "metadata": {
        "id": "0uhJpQRkhZU0"
      },
      "outputs": [],
      "source": [
        "import numpy as np  # for array\n",
        "import pandas as pd  # for csv files and dataframe\n",
        "import matplotlib.pyplot as plt  # for plotting\n",
        "import seaborn as sns  # plotting\n",
        "from scipy import stats\n",
        "\n",
        "import pickle  # To load data int disk\n",
        "from prettytable import PrettyTable  # To print in tabular format\n",
        "\n",
        "import warnings\n",
        "warnings.filterwarnings(\"ignore\")\n",
        "\n",
        "from sklearn.preprocessing import StandardScaler\n",
        "from sklearn.preprocessing import LabelEncoder, OneHotEncoder\n",
        "\n",
        "from sklearn.model_selection import train_test_split\n",
        "from sklearn.linear_model import LogisticRegression, SGDClassifier\n",
        "from sklearn.svm import LinearSVC\n",
        "from sklearn.naive_bayes import MultinomialNB\n",
        "from sklearn.tree import DecisionTreeClassifier\n",
        "from sklearn.ensemble import RandomForestClassifier\n",
        "import xgboost as xgb\n",
        "\n",
        "from sklearn.metrics import accuracy_score, confusion_matrix, make_scorer\n",
        "from sklearn.metrics import auc, f1_score, roc_curve\n",
        "from sklearn.model_selection import GridSearchCV, RandomizedSearchCV\n",
        "from sklearn.model_selection import cross_validate, cross_val_predict\n",
        "\n",
        "%matplotlib inline"
      ]
    },
    {
      "cell_type": "code",
      "source": [
        "from google.colab import drive\n",
        "drive.mount('/content/drive')"
      ],
      "metadata": {
        "colab": {
          "base_uri": "https://localhost:8080/"
        },
        "id": "G7YcR_X1M0Gn",
        "outputId": "ea3d79a7-843f-4c60-9572-2dd318542d35"
      },
      "execution_count": 2,
      "outputs": [
        {
          "output_type": "stream",
          "name": "stdout",
          "text": [
            "Mounted at /content/drive\n"
          ]
        }
      ]
    },
    {
      "cell_type": "code",
      "source": [
        "# Creating a empty dict, where I will save all parameters required for test data transformation\n",
        "\n",
        "saved_dict = {}"
      ],
      "metadata": {
        "id": "m4J_XidYus7y"
      },
      "execution_count": 3,
      "outputs": []
    },
    {
      "cell_type": "code",
      "source": [
        "# Reading datasets\n",
        "dfs = []\n",
        "\n",
        "from google.colab import drive\n",
        "drive.mount('/content/drive')\n",
        "\n",
        "\n",
        "for i in range(1,5):\n",
        "  path = '/content/drive/MyDrive/UNSW/UNSW-NB15/UNSW-NB15_{}.csv'\n",
        "  dfs.append(pd.read_csv(path.format(i), header = None))\n",
        "\n",
        "print(dfs)\n",
        "all_data = pd.concat(dfs).reset_index(drop=True)\n",
        "print(type(all_data))\n",
        "print(all_data.shape)"
      ],
      "metadata": {
        "colab": {
          "base_uri": "https://localhost:8080/"
        },
        "id": "34EQv6hpu28q",
        "outputId": "862a7210-7f08-4eee-a8ae-47ace74de6c5"
      },
      "execution_count": 4,
      "outputs": [
        {
          "output_type": "stream",
          "name": "stdout",
          "text": [
            "Drive already mounted at /content/drive; to attempt to forcibly remount, call drive.mount(\"/content/drive\", force_remount=True).\n",
            "[                0      1              2      3    4    5         6      7   \\\n",
            "0       59.166.0.0   1390  149.171.126.6     53  udp  CON  0.001055    132   \n",
            "1       59.166.0.0  33661  149.171.126.9   1024  udp  CON  0.036133    528   \n",
            "2       59.166.0.6   1464  149.171.126.7     53  udp  CON  0.001119    146   \n",
            "3       59.166.0.5   3593  149.171.126.5     53  udp  CON  0.001209    132   \n",
            "4       59.166.0.3  49664  149.171.126.0     53  udp  CON  0.001169    146   \n",
            "...            ...    ...            ...    ...  ...  ...       ...    ...   \n",
            "699996  59.166.0.8  12520  149.171.126.6  31010  tcp  FIN  0.020383    320   \n",
            "699997  59.166.0.0  18895  149.171.126.9     80  tcp  FIN  1.402957  19410   \n",
            "699998  59.166.0.0  30103  149.171.126.5   5190  tcp  FIN  0.007108   2158   \n",
            "699999  59.166.0.6  30388  149.171.126.5    111  udp  CON  0.004435    568   \n",
            "700000  59.166.0.0   6055  149.171.126.5  54145  tcp  FIN  0.072974   4238   \n",
            "\n",
            "             8   9   ...  39  40  41 42  43  44  45  46   47  48  \n",
            "0           164  31  ...   0   3   7  1   3   1   1   1  NaN   0  \n",
            "1           304  31  ...   0   2   4  2   3   1   1   2  NaN   0  \n",
            "2           178  31  ...   0  12   8  1   2   2   1   1  NaN   0  \n",
            "3           164  31  ...   0   6   9  1   1   1   1   1  NaN   0  \n",
            "4           178  31  ...   0   7   9  1   1   1   1   1  NaN   0  \n",
            "...         ...  ..  ...  ..  ..  .. ..  ..  ..  ..  ..  ...  ..  \n",
            "699996     1874  31  ...   0   8  20  7   5   1   1   4  NaN   0  \n",
            "699997  1087890  31  ...   0   1   1  2   7   2   2   2  NaN   0  \n",
            "699998     2464  31  ...   0  13  13  6   7   2   1   2  NaN   0  \n",
            "699999      304  31  ...   0  10  13  6   5   1   1   3  NaN   0  \n",
            "700000    60788  31  ...   0  13  13  6   7   1   1   2  NaN   0  \n",
            "\n",
            "[700001 rows x 49 columns],                     0      1              2      3    4    5         6     7   \\\n",
            "0           59.166.0.0   6055  149.171.126.5  54145  tcp  FIN  0.072974  4238   \n",
            "1           59.166.0.0   7832  149.171.126.3   5607  tcp  FIN  0.144951  5174   \n",
            "2           59.166.0.8  11397  149.171.126.6     21  tcp  FIN  0.116107  2934   \n",
            "3           59.166.0.0   3804  149.171.126.3     53  udp  CON  0.000986   146   \n",
            "4           59.166.0.8  14339  149.171.126.6  14724  tcp  FIN  0.038480  8928   \n",
            "...                ...    ...            ...    ...  ...  ...       ...   ...   \n",
            "699996  149.171.126.18   1043   175.45.176.3     53  udp  INT  0.000005   264   \n",
            "699997  149.171.126.18   1043   175.45.176.3     53  udp  INT  0.000005   264   \n",
            "699998  149.171.126.18   1043   175.45.176.3     53  udp  INT  0.000005   264   \n",
            "699999  149.171.126.18   1043   175.45.176.3     53  udp  INT  0.000005   264   \n",
            "700000      59.166.0.1  18247  149.171.126.4   7662  tcp  FIN  0.119596  4550   \n",
            "\n",
            "           8   9   ...  39  40  41  42  43  44  45  46   47  48  \n",
            "0       60788  31  ...   0  13  13   6   7   1   1   2  NaN   0  \n",
            "1       91072  31  ...   0  13  13   6   7   1   1   2  NaN   0  \n",
            "2        3742  31  ...   1   1   2   7   5   1   1   4  NaN   0  \n",
            "3         178  31  ...   0  13  13   6   7   1   1   2  NaN   0  \n",
            "4         320  31  ...   0   8  20   7   5   1   1   4  NaN   0  \n",
            "...       ...  ..  ...  ..  ..  ..  ..  ..  ..  ..  ..  ...  ..  \n",
            "699996      0  60  ...      19  19  19  19  19  19  19  NaN   0  \n",
            "699997      0  60  ...      19  19  19  19  19  19  19  NaN   0  \n",
            "699998      0  60  ...      19  19  19  19  19  19  19  NaN   0  \n",
            "699999      0  60  ...      19  19  19  19  19  19  19  NaN   0  \n",
            "700000  68342  31  ...       6   2   2   5   1   1   2  NaN   0  \n",
            "\n",
            "[700001 rows x 49 columns],                     0      1              2      3    4    5         6   \\\n",
            "0           59.166.0.1  18247  149.171.126.4   7662  tcp  FIN  0.119596   \n",
            "1           59.166.0.3  54771  149.171.126.2  27709  tcp  FIN  0.650574   \n",
            "2           59.166.0.8  13289  149.171.126.9   5190  tcp  FIN  0.007980   \n",
            "3       149.171.126.18   1043   175.45.176.3     53  udp  INT  0.000005   \n",
            "4       149.171.126.18   1043   175.45.176.3     53  udp  INT  0.000005   \n",
            "...                ...    ...            ...    ...  ...  ...       ...   \n",
            "699996      59.166.0.0   2111  149.171.126.5     53  udp  CON  0.001035   \n",
            "699997      59.166.0.5  49044  149.171.126.3  30639  tcp  FIN  0.220630   \n",
            "699998      59.166.0.6  37717  149.171.126.7  35667  tcp  FIN  0.031576   \n",
            "699999      59.166.0.2   1768  149.171.126.7  64122  tcp  FIN  0.096835   \n",
            "700000      59.166.0.9   7045  149.171.126.7     25  tcp  FIN  0.201886   \n",
            "\n",
            "           7      8   9   ...  39  40  41  42  43  44  45  46   47  48  \n",
            "0        4550  68342  31  ...       6   2   2   5   1   1   2  NaN   0  \n",
            "1        8928    320  31  ...       3   5   2   4   1   1   4  NaN   0  \n",
            "2        2158   2464  31  ...       3   5   1   1   1   1   3  NaN   0  \n",
            "3         264      0  60  ...      19  19  19  19  19  19  19  NaN   0  \n",
            "4         264      0  60  ...      19  19  19  19  19  19  19  NaN   0  \n",
            "...       ...    ...  ..  ...  ..  ..  ..  ..  ..  ..  ..  ..  ...  ..  \n",
            "699996    146    178  31  ...       1   3   4   3   1   1   4  NaN   0  \n",
            "699997    424   8824  31  ...       3   3   3   3   1   1   4  NaN   0  \n",
            "699998   2646  25564  31  ...       7   6   7   4   1   1   3  NaN   0  \n",
            "699999   4862  82782  31  ...       6   6   7   7   1   1   2  NaN   0  \n",
            "700000  37552   3380  31  ...       2   2   7   4   1   1   3  NaN   0  \n",
            "\n",
            "[700001 rows x 49 columns],                   0      1               2      3    4    5         6      7   \\\n",
            "0         59.166.0.9   7045   149.171.126.7     25  tcp  FIN  0.201886  37552   \n",
            "1         59.166.0.9   9685   149.171.126.2     80  tcp  FIN  5.864748  19410   \n",
            "2         59.166.0.2   1421   149.171.126.4     53  udp  CON  0.001391    146   \n",
            "3         59.166.0.2  21553   149.171.126.2     25  tcp  FIN  0.053948  37812   \n",
            "4         59.166.0.8  45212   149.171.126.4     53  udp  CON  0.000953    146   \n",
            "...              ...    ...             ...    ...  ...  ...       ...    ...   \n",
            "440039    59.166.0.5  33094   149.171.126.7  43433  tcp  FIN  0.087306    320   \n",
            "440040    59.166.0.7  20848   149.171.126.4     21  tcp  CON  0.365058    456   \n",
            "440041    59.166.0.3  21511   149.171.126.9     21  tcp  CON  6.335154   1802   \n",
            "440042    59.166.0.9  35433   149.171.126.0     80  tcp  CON  2.200934   3498   \n",
            "440043  175.45.176.0  17293  149.171.126.17    110  tcp  CON  0.942984    574   \n",
            "\n",
            "             8   9   ...  39  40  41 42  43  44  45  46        47  48  \n",
            "0          3380  31  ...       2   2  7   4   1   1   3       NaN   0  \n",
            "1       1087890  31  ...       3   1  4   4   1   1   1       NaN   0  \n",
            "2           178  31  ...       3   5  2   7   1   1   4       NaN   0  \n",
            "3          3380  31  ...       1   1  4   7   1   1   3       NaN   0  \n",
            "4           178  31  ...       2   5  2   1   1   1   2       NaN   0  \n",
            "...         ...  ..  ...  ..  ..  .. ..  ..  ..  ..  ..       ...  ..  \n",
            "440039     1828  31  ...       1   2  3   3   1   1   3       NaN   0  \n",
            "440040      346  31  ...   2   2   2  2   2   2   2   2       NaN   0  \n",
            "440041     2088  31  ...   2   2   2  4   2   2   2   2       NaN   0  \n",
            "440042   166054  31  ...       1   1  2   4   2   2   2       NaN   0  \n",
            "440043      676  62  ...       1   1  2   4   2   2   2  Exploits   1  \n",
            "\n",
            "[440044 rows x 49 columns]]\n",
            "<class 'pandas.core.frame.DataFrame'>\n",
            "(2540047, 49)\n"
          ]
        }
      ]
    },
    {
      "cell_type": "code",
      "source": [
        "# This csv file contains names of all the features\n",
        "df_col = pd.read_csv('/content/drive/MyDrive/UNSW/UNSW-NB15/NUSW-NB15_features.csv', encoding='ISO-8859-1')"
      ],
      "metadata": {
        "id": "_Sbl74OU4Jy4"
      },
      "execution_count": 5,
      "outputs": []
    },
    {
      "cell_type": "code",
      "source": [
        "# Making column names lower case, removing spaces\n",
        "df_col['Name'] = df_col['Name'].apply(lambda x: x.strip().replace(' ', '').lower())"
      ],
      "metadata": {
        "id": "YZDub0PU4xkl"
      },
      "execution_count": 6,
      "outputs": []
    },
    {
      "cell_type": "code",
      "source": [
        "# Renaming our dataframe with proper column names\n",
        "all_data.columns = df_col['Name']\n",
        "print(all_data)"
      ],
      "metadata": {
        "id": "6QMQOvNH5Aqe",
        "colab": {
          "base_uri": "https://localhost:8080/"
        },
        "outputId": "f76f5bae-0dea-48aa-abe4-1a0ff05a953e"
      },
      "execution_count": 7,
      "outputs": [
        {
          "output_type": "stream",
          "name": "stdout",
          "text": [
            "Name            srcip  sport           dstip dsport proto state       dur  \\\n",
            "0          59.166.0.0   1390   149.171.126.6     53   udp   CON  0.001055   \n",
            "1          59.166.0.0  33661   149.171.126.9   1024   udp   CON  0.036133   \n",
            "2          59.166.0.6   1464   149.171.126.7     53   udp   CON  0.001119   \n",
            "3          59.166.0.5   3593   149.171.126.5     53   udp   CON  0.001209   \n",
            "4          59.166.0.3  49664   149.171.126.0     53   udp   CON  0.001169   \n",
            "...               ...    ...             ...    ...   ...   ...       ...   \n",
            "2540042    59.166.0.5  33094   149.171.126.7  43433   tcp   FIN  0.087306   \n",
            "2540043    59.166.0.7  20848   149.171.126.4     21   tcp   CON  0.365058   \n",
            "2540044    59.166.0.3  21511   149.171.126.9     21   tcp   CON  6.335154   \n",
            "2540045    59.166.0.9  35433   149.171.126.0     80   tcp   CON  2.200934   \n",
            "2540046  175.45.176.0  17293  149.171.126.17    110   tcp   CON  0.942984   \n",
            "\n",
            "Name     sbytes  dbytes  sttl  ...  ct_ftp_cmd  ct_srv_src  ct_srv_dst  \\\n",
            "0           132     164    31  ...           0           3           7   \n",
            "1           528     304    31  ...           0           2           4   \n",
            "2           146     178    31  ...           0          12           8   \n",
            "3           132     164    31  ...           0           6           9   \n",
            "4           146     178    31  ...           0           7           9   \n",
            "...         ...     ...   ...  ...         ...         ...         ...   \n",
            "2540042     320    1828    31  ...                       1           2   \n",
            "2540043     456     346    31  ...           2           2           2   \n",
            "2540044    1802    2088    31  ...           2           2           2   \n",
            "2540045    3498  166054    31  ...                       1           1   \n",
            "2540046     574     676    62  ...                       1           1   \n",
            "\n",
            "Name    ct_dst_ltm  ct_src_ltm  ct_src_dport_ltm  ct_dst_sport_ltm  \\\n",
            "0                1           3                 1                 1   \n",
            "1                2           3                 1                 1   \n",
            "2                1           2                 2                 1   \n",
            "3                1           1                 1                 1   \n",
            "4                1           1                 1                 1   \n",
            "...            ...         ...               ...               ...   \n",
            "2540042          3           3                 1                 1   \n",
            "2540043          2           2                 2                 2   \n",
            "2540044          4           2                 2                 2   \n",
            "2540045          2           4                 2                 2   \n",
            "2540046          2           4                 2                 2   \n",
            "\n",
            "Name     ct_dst_src_ltm  attack_cat  label  \n",
            "0                     1         NaN      0  \n",
            "1                     2         NaN      0  \n",
            "2                     1         NaN      0  \n",
            "3                     1         NaN      0  \n",
            "4                     1         NaN      0  \n",
            "...                 ...         ...    ...  \n",
            "2540042               3         NaN      0  \n",
            "2540043               2         NaN      0  \n",
            "2540044               2         NaN      0  \n",
            "2540045               2         NaN      0  \n",
            "2540046               2    Exploits      1  \n",
            "\n",
            "[2540047 rows x 49 columns]\n"
          ]
        }
      ]
    },
    {
      "cell_type": "code",
      "source": [
        "# Saving useful info, later this will be used to transform raw test data\n",
        "saved_dict['columns'] = df_col['Name'][df_col['Name']!='label'].tolist()\n",
        "print(saved_dict)"
      ],
      "metadata": {
        "id": "L2dWix6N5SgA",
        "colab": {
          "base_uri": "https://localhost:8080/"
        },
        "outputId": "4a2a2b12-dc4a-430d-ee1a-c56c99f8176d"
      },
      "execution_count": 8,
      "outputs": [
        {
          "output_type": "stream",
          "name": "stdout",
          "text": [
            "{'columns': ['srcip', 'sport', 'dstip', 'dsport', 'proto', 'state', 'dur', 'sbytes', 'dbytes', 'sttl', 'dttl', 'sloss', 'dloss', 'service', 'sload', 'dload', 'spkts', 'dpkts', 'swin', 'dwin', 'stcpb', 'dtcpb', 'smeansz', 'dmeansz', 'trans_depth', 'res_bdy_len', 'sjit', 'djit', 'stime', 'ltime', 'sintpkt', 'dintpkt', 'tcprtt', 'synack', 'ackdat', 'is_sm_ips_ports', 'ct_state_ttl', 'ct_flw_http_mthd', 'is_ftp_login', 'ct_ftp_cmd', 'ct_srv_src', 'ct_srv_dst', 'ct_dst_ltm', 'ct_src_ltm', 'ct_src_dport_ltm', 'ct_dst_sport_ltm', 'ct_dst_src_ltm', 'attack_cat']}\n"
          ]
        }
      ]
    },
    {
      "cell_type": "code",
      "source": [
        "del df_col"
      ],
      "metadata": {
        "id": "ykmqCrT35iUC"
      },
      "execution_count": 9,
      "outputs": []
    },
    {
      "cell_type": "code",
      "source": [
        "all_data.shape"
      ],
      "metadata": {
        "id": "5l6GG_cX5ngu",
        "colab": {
          "base_uri": "https://localhost:8080/"
        },
        "outputId": "aec39d0c-a8d1-4200-8e75-ad22a1e87243"
      },
      "execution_count": 10,
      "outputs": [
        {
          "output_type": "execute_result",
          "data": {
            "text/plain": [
              "(2540047, 49)"
            ]
          },
          "metadata": {},
          "execution_count": 10
        }
      ]
    },
    {
      "cell_type": "code",
      "source": [
        "all_data.head()"
      ],
      "metadata": {
        "id": "l1PpjvvB5q0s",
        "colab": {
          "base_uri": "https://localhost:8080/",
          "height": 255
        },
        "outputId": "41e74d84-4e38-405e-d262-a64ffabe5eac"
      },
      "execution_count": 11,
      "outputs": [
        {
          "output_type": "execute_result",
          "data": {
            "text/plain": [
              "Name       srcip  sport          dstip dsport proto state       dur  sbytes  \\\n",
              "0     59.166.0.0   1390  149.171.126.6     53   udp   CON  0.001055     132   \n",
              "1     59.166.0.0  33661  149.171.126.9   1024   udp   CON  0.036133     528   \n",
              "2     59.166.0.6   1464  149.171.126.7     53   udp   CON  0.001119     146   \n",
              "3     59.166.0.5   3593  149.171.126.5     53   udp   CON  0.001209     132   \n",
              "4     59.166.0.3  49664  149.171.126.0     53   udp   CON  0.001169     146   \n",
              "\n",
              "Name  dbytes  sttl  ...  ct_ftp_cmd  ct_srv_src  ct_srv_dst ct_dst_ltm  \\\n",
              "0        164    31  ...           0           3           7          1   \n",
              "1        304    31  ...           0           2           4          2   \n",
              "2        178    31  ...           0          12           8          1   \n",
              "3        164    31  ...           0           6           9          1   \n",
              "4        178    31  ...           0           7           9          1   \n",
              "\n",
              "Name  ct_src_ltm  ct_src_dport_ltm  ct_dst_sport_ltm  ct_dst_src_ltm  \\\n",
              "0              3                 1                 1               1   \n",
              "1              3                 1                 1               2   \n",
              "2              2                 2                 1               1   \n",
              "3              1                 1                 1               1   \n",
              "4              1                 1                 1               1   \n",
              "\n",
              "Name  attack_cat  label  \n",
              "0            NaN      0  \n",
              "1            NaN      0  \n",
              "2            NaN      0  \n",
              "3            NaN      0  \n",
              "4            NaN      0  \n",
              "\n",
              "[5 rows x 49 columns]"
            ],
            "text/html": [
              "\n",
              "  <div id=\"df-b5173bdc-f4e5-4ddf-ad9f-7f71d722c82b\" class=\"colab-df-container\">\n",
              "    <div>\n",
              "<style scoped>\n",
              "    .dataframe tbody tr th:only-of-type {\n",
              "        vertical-align: middle;\n",
              "    }\n",
              "\n",
              "    .dataframe tbody tr th {\n",
              "        vertical-align: top;\n",
              "    }\n",
              "\n",
              "    .dataframe thead th {\n",
              "        text-align: right;\n",
              "    }\n",
              "</style>\n",
              "<table border=\"1\" class=\"dataframe\">\n",
              "  <thead>\n",
              "    <tr style=\"text-align: right;\">\n",
              "      <th>Name</th>\n",
              "      <th>srcip</th>\n",
              "      <th>sport</th>\n",
              "      <th>dstip</th>\n",
              "      <th>dsport</th>\n",
              "      <th>proto</th>\n",
              "      <th>state</th>\n",
              "      <th>dur</th>\n",
              "      <th>sbytes</th>\n",
              "      <th>dbytes</th>\n",
              "      <th>sttl</th>\n",
              "      <th>...</th>\n",
              "      <th>ct_ftp_cmd</th>\n",
              "      <th>ct_srv_src</th>\n",
              "      <th>ct_srv_dst</th>\n",
              "      <th>ct_dst_ltm</th>\n",
              "      <th>ct_src_ltm</th>\n",
              "      <th>ct_src_dport_ltm</th>\n",
              "      <th>ct_dst_sport_ltm</th>\n",
              "      <th>ct_dst_src_ltm</th>\n",
              "      <th>attack_cat</th>\n",
              "      <th>label</th>\n",
              "    </tr>\n",
              "  </thead>\n",
              "  <tbody>\n",
              "    <tr>\n",
              "      <th>0</th>\n",
              "      <td>59.166.0.0</td>\n",
              "      <td>1390</td>\n",
              "      <td>149.171.126.6</td>\n",
              "      <td>53</td>\n",
              "      <td>udp</td>\n",
              "      <td>CON</td>\n",
              "      <td>0.001055</td>\n",
              "      <td>132</td>\n",
              "      <td>164</td>\n",
              "      <td>31</td>\n",
              "      <td>...</td>\n",
              "      <td>0</td>\n",
              "      <td>3</td>\n",
              "      <td>7</td>\n",
              "      <td>1</td>\n",
              "      <td>3</td>\n",
              "      <td>1</td>\n",
              "      <td>1</td>\n",
              "      <td>1</td>\n",
              "      <td>NaN</td>\n",
              "      <td>0</td>\n",
              "    </tr>\n",
              "    <tr>\n",
              "      <th>1</th>\n",
              "      <td>59.166.0.0</td>\n",
              "      <td>33661</td>\n",
              "      <td>149.171.126.9</td>\n",
              "      <td>1024</td>\n",
              "      <td>udp</td>\n",
              "      <td>CON</td>\n",
              "      <td>0.036133</td>\n",
              "      <td>528</td>\n",
              "      <td>304</td>\n",
              "      <td>31</td>\n",
              "      <td>...</td>\n",
              "      <td>0</td>\n",
              "      <td>2</td>\n",
              "      <td>4</td>\n",
              "      <td>2</td>\n",
              "      <td>3</td>\n",
              "      <td>1</td>\n",
              "      <td>1</td>\n",
              "      <td>2</td>\n",
              "      <td>NaN</td>\n",
              "      <td>0</td>\n",
              "    </tr>\n",
              "    <tr>\n",
              "      <th>2</th>\n",
              "      <td>59.166.0.6</td>\n",
              "      <td>1464</td>\n",
              "      <td>149.171.126.7</td>\n",
              "      <td>53</td>\n",
              "      <td>udp</td>\n",
              "      <td>CON</td>\n",
              "      <td>0.001119</td>\n",
              "      <td>146</td>\n",
              "      <td>178</td>\n",
              "      <td>31</td>\n",
              "      <td>...</td>\n",
              "      <td>0</td>\n",
              "      <td>12</td>\n",
              "      <td>8</td>\n",
              "      <td>1</td>\n",
              "      <td>2</td>\n",
              "      <td>2</td>\n",
              "      <td>1</td>\n",
              "      <td>1</td>\n",
              "      <td>NaN</td>\n",
              "      <td>0</td>\n",
              "    </tr>\n",
              "    <tr>\n",
              "      <th>3</th>\n",
              "      <td>59.166.0.5</td>\n",
              "      <td>3593</td>\n",
              "      <td>149.171.126.5</td>\n",
              "      <td>53</td>\n",
              "      <td>udp</td>\n",
              "      <td>CON</td>\n",
              "      <td>0.001209</td>\n",
              "      <td>132</td>\n",
              "      <td>164</td>\n",
              "      <td>31</td>\n",
              "      <td>...</td>\n",
              "      <td>0</td>\n",
              "      <td>6</td>\n",
              "      <td>9</td>\n",
              "      <td>1</td>\n",
              "      <td>1</td>\n",
              "      <td>1</td>\n",
              "      <td>1</td>\n",
              "      <td>1</td>\n",
              "      <td>NaN</td>\n",
              "      <td>0</td>\n",
              "    </tr>\n",
              "    <tr>\n",
              "      <th>4</th>\n",
              "      <td>59.166.0.3</td>\n",
              "      <td>49664</td>\n",
              "      <td>149.171.126.0</td>\n",
              "      <td>53</td>\n",
              "      <td>udp</td>\n",
              "      <td>CON</td>\n",
              "      <td>0.001169</td>\n",
              "      <td>146</td>\n",
              "      <td>178</td>\n",
              "      <td>31</td>\n",
              "      <td>...</td>\n",
              "      <td>0</td>\n",
              "      <td>7</td>\n",
              "      <td>9</td>\n",
              "      <td>1</td>\n",
              "      <td>1</td>\n",
              "      <td>1</td>\n",
              "      <td>1</td>\n",
              "      <td>1</td>\n",
              "      <td>NaN</td>\n",
              "      <td>0</td>\n",
              "    </tr>\n",
              "  </tbody>\n",
              "</table>\n",
              "<p>5 rows × 49 columns</p>\n",
              "</div>\n",
              "    <div class=\"colab-df-buttons\">\n",
              "\n",
              "  <div class=\"colab-df-container\">\n",
              "    <button class=\"colab-df-convert\" onclick=\"convertToInteractive('df-b5173bdc-f4e5-4ddf-ad9f-7f71d722c82b')\"\n",
              "            title=\"Convert this dataframe to an interactive table.\"\n",
              "            style=\"display:none;\">\n",
              "\n",
              "  <svg xmlns=\"http://www.w3.org/2000/svg\" height=\"24px\" viewBox=\"0 -960 960 960\">\n",
              "    <path d=\"M120-120v-720h720v720H120Zm60-500h600v-160H180v160Zm220 220h160v-160H400v160Zm0 220h160v-160H400v160ZM180-400h160v-160H180v160Zm440 0h160v-160H620v160ZM180-180h160v-160H180v160Zm440 0h160v-160H620v160Z\"/>\n",
              "  </svg>\n",
              "    </button>\n",
              "\n",
              "  <style>\n",
              "    .colab-df-container {\n",
              "      display:flex;\n",
              "      gap: 12px;\n",
              "    }\n",
              "\n",
              "    .colab-df-convert {\n",
              "      background-color: #E8F0FE;\n",
              "      border: none;\n",
              "      border-radius: 50%;\n",
              "      cursor: pointer;\n",
              "      display: none;\n",
              "      fill: #1967D2;\n",
              "      height: 32px;\n",
              "      padding: 0 0 0 0;\n",
              "      width: 32px;\n",
              "    }\n",
              "\n",
              "    .colab-df-convert:hover {\n",
              "      background-color: #E2EBFA;\n",
              "      box-shadow: 0px 1px 2px rgba(60, 64, 67, 0.3), 0px 1px 3px 1px rgba(60, 64, 67, 0.15);\n",
              "      fill: #174EA6;\n",
              "    }\n",
              "\n",
              "    .colab-df-buttons div {\n",
              "      margin-bottom: 4px;\n",
              "    }\n",
              "\n",
              "    [theme=dark] .colab-df-convert {\n",
              "      background-color: #3B4455;\n",
              "      fill: #D2E3FC;\n",
              "    }\n",
              "\n",
              "    [theme=dark] .colab-df-convert:hover {\n",
              "      background-color: #434B5C;\n",
              "      box-shadow: 0px 1px 3px 1px rgba(0, 0, 0, 0.15);\n",
              "      filter: drop-shadow(0px 1px 2px rgba(0, 0, 0, 0.3));\n",
              "      fill: #FFFFFF;\n",
              "    }\n",
              "  </style>\n",
              "\n",
              "    <script>\n",
              "      const buttonEl =\n",
              "        document.querySelector('#df-b5173bdc-f4e5-4ddf-ad9f-7f71d722c82b button.colab-df-convert');\n",
              "      buttonEl.style.display =\n",
              "        google.colab.kernel.accessAllowed ? 'block' : 'none';\n",
              "\n",
              "      async function convertToInteractive(key) {\n",
              "        const element = document.querySelector('#df-b5173bdc-f4e5-4ddf-ad9f-7f71d722c82b');\n",
              "        const dataTable =\n",
              "          await google.colab.kernel.invokeFunction('convertToInteractive',\n",
              "                                                    [key], {});\n",
              "        if (!dataTable) return;\n",
              "\n",
              "        const docLinkHtml = 'Like what you see? Visit the ' +\n",
              "          '<a target=\"_blank\" href=https://colab.research.google.com/notebooks/data_table.ipynb>data table notebook</a>'\n",
              "          + ' to learn more about interactive tables.';\n",
              "        element.innerHTML = '';\n",
              "        dataTable['output_type'] = 'display_data';\n",
              "        await google.colab.output.renderOutput(dataTable, element);\n",
              "        const docLink = document.createElement('div');\n",
              "        docLink.innerHTML = docLinkHtml;\n",
              "        element.appendChild(docLink);\n",
              "      }\n",
              "    </script>\n",
              "  </div>\n",
              "\n",
              "\n",
              "<div id=\"df-dc0b2243-390b-4b6f-af82-419afd4e6b18\">\n",
              "  <button class=\"colab-df-quickchart\" onclick=\"quickchart('df-dc0b2243-390b-4b6f-af82-419afd4e6b18')\"\n",
              "            title=\"Suggest charts\"\n",
              "            style=\"display:none;\">\n",
              "\n",
              "<svg xmlns=\"http://www.w3.org/2000/svg\" height=\"24px\"viewBox=\"0 0 24 24\"\n",
              "     width=\"24px\">\n",
              "    <g>\n",
              "        <path d=\"M19 3H5c-1.1 0-2 .9-2 2v14c0 1.1.9 2 2 2h14c1.1 0 2-.9 2-2V5c0-1.1-.9-2-2-2zM9 17H7v-7h2v7zm4 0h-2V7h2v10zm4 0h-2v-4h2v4z\"/>\n",
              "    </g>\n",
              "</svg>\n",
              "  </button>\n",
              "\n",
              "<style>\n",
              "  .colab-df-quickchart {\n",
              "      --bg-color: #E8F0FE;\n",
              "      --fill-color: #1967D2;\n",
              "      --hover-bg-color: #E2EBFA;\n",
              "      --hover-fill-color: #174EA6;\n",
              "      --disabled-fill-color: #AAA;\n",
              "      --disabled-bg-color: #DDD;\n",
              "  }\n",
              "\n",
              "  [theme=dark] .colab-df-quickchart {\n",
              "      --bg-color: #3B4455;\n",
              "      --fill-color: #D2E3FC;\n",
              "      --hover-bg-color: #434B5C;\n",
              "      --hover-fill-color: #FFFFFF;\n",
              "      --disabled-bg-color: #3B4455;\n",
              "      --disabled-fill-color: #666;\n",
              "  }\n",
              "\n",
              "  .colab-df-quickchart {\n",
              "    background-color: var(--bg-color);\n",
              "    border: none;\n",
              "    border-radius: 50%;\n",
              "    cursor: pointer;\n",
              "    display: none;\n",
              "    fill: var(--fill-color);\n",
              "    height: 32px;\n",
              "    padding: 0;\n",
              "    width: 32px;\n",
              "  }\n",
              "\n",
              "  .colab-df-quickchart:hover {\n",
              "    background-color: var(--hover-bg-color);\n",
              "    box-shadow: 0 1px 2px rgba(60, 64, 67, 0.3), 0 1px 3px 1px rgba(60, 64, 67, 0.15);\n",
              "    fill: var(--button-hover-fill-color);\n",
              "  }\n",
              "\n",
              "  .colab-df-quickchart-complete:disabled,\n",
              "  .colab-df-quickchart-complete:disabled:hover {\n",
              "    background-color: var(--disabled-bg-color);\n",
              "    fill: var(--disabled-fill-color);\n",
              "    box-shadow: none;\n",
              "  }\n",
              "\n",
              "  .colab-df-spinner {\n",
              "    border: 2px solid var(--fill-color);\n",
              "    border-color: transparent;\n",
              "    border-bottom-color: var(--fill-color);\n",
              "    animation:\n",
              "      spin 1s steps(1) infinite;\n",
              "  }\n",
              "\n",
              "  @keyframes spin {\n",
              "    0% {\n",
              "      border-color: transparent;\n",
              "      border-bottom-color: var(--fill-color);\n",
              "      border-left-color: var(--fill-color);\n",
              "    }\n",
              "    20% {\n",
              "      border-color: transparent;\n",
              "      border-left-color: var(--fill-color);\n",
              "      border-top-color: var(--fill-color);\n",
              "    }\n",
              "    30% {\n",
              "      border-color: transparent;\n",
              "      border-left-color: var(--fill-color);\n",
              "      border-top-color: var(--fill-color);\n",
              "      border-right-color: var(--fill-color);\n",
              "    }\n",
              "    40% {\n",
              "      border-color: transparent;\n",
              "      border-right-color: var(--fill-color);\n",
              "      border-top-color: var(--fill-color);\n",
              "    }\n",
              "    60% {\n",
              "      border-color: transparent;\n",
              "      border-right-color: var(--fill-color);\n",
              "    }\n",
              "    80% {\n",
              "      border-color: transparent;\n",
              "      border-right-color: var(--fill-color);\n",
              "      border-bottom-color: var(--fill-color);\n",
              "    }\n",
              "    90% {\n",
              "      border-color: transparent;\n",
              "      border-bottom-color: var(--fill-color);\n",
              "    }\n",
              "  }\n",
              "</style>\n",
              "\n",
              "  <script>\n",
              "    async function quickchart(key) {\n",
              "      const quickchartButtonEl =\n",
              "        document.querySelector('#' + key + ' button');\n",
              "      quickchartButtonEl.disabled = true;  // To prevent multiple clicks.\n",
              "      quickchartButtonEl.classList.add('colab-df-spinner');\n",
              "      try {\n",
              "        const charts = await google.colab.kernel.invokeFunction(\n",
              "            'suggestCharts', [key], {});\n",
              "      } catch (error) {\n",
              "        console.error('Error during call to suggestCharts:', error);\n",
              "      }\n",
              "      quickchartButtonEl.classList.remove('colab-df-spinner');\n",
              "      quickchartButtonEl.classList.add('colab-df-quickchart-complete');\n",
              "    }\n",
              "    (() => {\n",
              "      let quickchartButtonEl =\n",
              "        document.querySelector('#df-dc0b2243-390b-4b6f-af82-419afd4e6b18 button');\n",
              "      quickchartButtonEl.style.display =\n",
              "        google.colab.kernel.accessAllowed ? 'block' : 'none';\n",
              "    })();\n",
              "  </script>\n",
              "</div>\n",
              "\n",
              "    </div>\n",
              "  </div>\n"
            ],
            "application/vnd.google.colaboratory.intrinsic+json": {
              "type": "dataframe",
              "variable_name": "all_data"
            }
          },
          "metadata": {},
          "execution_count": 11
        }
      ]
    },
    {
      "cell_type": "code",
      "source": [
        "train, test = train_test_split(all_data, test_size=0.3, random_state=16)"
      ],
      "metadata": {
        "id": "dPAe3siL5y_w"
      },
      "execution_count": 12,
      "outputs": []
    },
    {
      "cell_type": "code",
      "source": [
        "del all_data"
      ],
      "metadata": {
        "id": "6CWR0hm26Od5"
      },
      "execution_count": 13,
      "outputs": []
    },
    {
      "cell_type": "code",
      "source": [
        "print(train.shape,'\\n',test.shape)"
      ],
      "metadata": {
        "id": "t9UaoB_T6TH9",
        "colab": {
          "base_uri": "https://localhost:8080/"
        },
        "outputId": "b06867eb-5e58-4629-fc40-8e84fa420a1a"
      },
      "execution_count": 14,
      "outputs": [
        {
          "output_type": "stream",
          "name": "stdout",
          "text": [
            "(1778032, 49) \n",
            " (762015, 49)\n"
          ]
        }
      ]
    },
    {
      "cell_type": "code",
      "source": [
        "# checking for null values\n",
        "train.isnull().sum()"
      ],
      "metadata": {
        "id": "hkPbLDlI6VQV",
        "colab": {
          "base_uri": "https://localhost:8080/"
        },
        "outputId": "59014f6b-b9ff-4552-f8e3-35099638f81c"
      },
      "execution_count": 15,
      "outputs": [
        {
          "output_type": "execute_result",
          "data": {
            "text/plain": [
              "Name\n",
              "srcip                     0\n",
              "sport                     0\n",
              "dstip                     0\n",
              "dsport                    0\n",
              "proto                     0\n",
              "state                     0\n",
              "dur                       0\n",
              "sbytes                    0\n",
              "dbytes                    0\n",
              "sttl                      0\n",
              "dttl                      0\n",
              "sloss                     0\n",
              "dloss                     0\n",
              "service                   0\n",
              "sload                     0\n",
              "dload                     0\n",
              "spkts                     0\n",
              "dpkts                     0\n",
              "swin                      0\n",
              "dwin                      0\n",
              "stcpb                     0\n",
              "dtcpb                     0\n",
              "smeansz                   0\n",
              "dmeansz                   0\n",
              "trans_depth               0\n",
              "res_bdy_len               0\n",
              "sjit                      0\n",
              "djit                      0\n",
              "stime                     0\n",
              "ltime                     0\n",
              "sintpkt                   0\n",
              "dintpkt                   0\n",
              "tcprtt                    0\n",
              "synack                    0\n",
              "ackdat                    0\n",
              "is_sm_ips_ports           0\n",
              "ct_state_ttl              0\n",
              "ct_flw_http_mthd     943876\n",
              "is_ftp_login        1001037\n",
              "ct_ftp_cmd                0\n",
              "ct_srv_src                0\n",
              "ct_srv_dst                0\n",
              "ct_dst_ltm                0\n",
              "ct_src_ltm                0\n",
              "ct_src_dport_ltm          0\n",
              "ct_dst_sport_ltm          0\n",
              "ct_dst_src_ltm            0\n",
              "attack_cat          1552862\n",
              "label                     0\n",
              "dtype: int64"
            ]
          },
          "metadata": {},
          "execution_count": 15
        }
      ]
    },
    {
      "cell_type": "code",
      "source": [
        "# Delete Null values\n",
        "train = train.dropna()\n",
        "print(train.isnull().sum())"
      ],
      "metadata": {
        "colab": {
          "base_uri": "https://localhost:8080/"
        },
        "id": "6jjCio6IBSYs",
        "outputId": "af1764d2-ba73-4f4b-d281-07e6eb4ae8b0"
      },
      "execution_count": 19,
      "outputs": [
        {
          "output_type": "stream",
          "name": "stdout",
          "text": [
            "Name\n",
            "srcip               0\n",
            "sport               0\n",
            "dstip               0\n",
            "dsport              0\n",
            "proto               0\n",
            "state               0\n",
            "dur                 0\n",
            "sbytes              0\n",
            "dbytes              0\n",
            "sttl                0\n",
            "dttl                0\n",
            "sloss               0\n",
            "dloss               0\n",
            "service             0\n",
            "sload               0\n",
            "dload               0\n",
            "spkts               0\n",
            "dpkts               0\n",
            "swin                0\n",
            "dwin                0\n",
            "stcpb               0\n",
            "dtcpb               0\n",
            "smeansz             0\n",
            "dmeansz             0\n",
            "trans_depth         0\n",
            "res_bdy_len         0\n",
            "sjit                0\n",
            "djit                0\n",
            "stime               0\n",
            "ltime               0\n",
            "sintpkt             0\n",
            "dintpkt             0\n",
            "tcprtt              0\n",
            "synack              0\n",
            "ackdat              0\n",
            "is_sm_ips_ports     0\n",
            "ct_state_ttl        0\n",
            "ct_flw_http_mthd    0\n",
            "is_ftp_login        0\n",
            "ct_ftp_cmd          0\n",
            "ct_srv_src          0\n",
            "ct_srv_dst          0\n",
            "ct_dst_ltm          0\n",
            "ct_src_ltm          0\n",
            "ct_src_dport_ltm    0\n",
            "ct_dst_sport_ltm    0\n",
            "ct_dst_src_ltm      0\n",
            "attack_cat          0\n",
            "label               0\n",
            "dtype: int64\n"
          ]
        }
      ]
    },
    {
      "cell_type": "code",
      "source": [
        "# checking for null values\n",
        "test.isnull().sum()"
      ],
      "metadata": {
        "colab": {
          "base_uri": "https://localhost:8080/"
        },
        "id": "yqzsJc1QCizW",
        "outputId": "cbf70972-b5ee-4d25-dbb0-8d5bdb847ec1"
      },
      "execution_count": 21,
      "outputs": [
        {
          "output_type": "execute_result",
          "data": {
            "text/plain": [
              "Name\n",
              "srcip                    0\n",
              "sport                    0\n",
              "dstip                    0\n",
              "dsport                   0\n",
              "proto                    0\n",
              "state                    0\n",
              "dur                      0\n",
              "sbytes                   0\n",
              "dbytes                   0\n",
              "sttl                     0\n",
              "dttl                     0\n",
              "sloss                    0\n",
              "dloss                    0\n",
              "service                  0\n",
              "sload                    0\n",
              "dload                    0\n",
              "spkts                    0\n",
              "dpkts                    0\n",
              "swin                     0\n",
              "dwin                     0\n",
              "stcpb                    0\n",
              "dtcpb                    0\n",
              "smeansz                  0\n",
              "dmeansz                  0\n",
              "trans_depth              0\n",
              "res_bdy_len              0\n",
              "sjit                     0\n",
              "djit                     0\n",
              "stime                    0\n",
              "ltime                    0\n",
              "sintpkt                  0\n",
              "dintpkt                  0\n",
              "tcprtt                   0\n",
              "synack                   0\n",
              "ackdat                   0\n",
              "is_sm_ips_ports          0\n",
              "ct_state_ttl             0\n",
              "ct_flw_http_mthd    404269\n",
              "is_ftp_login        428842\n",
              "ct_ftp_cmd               0\n",
              "ct_srv_src               0\n",
              "ct_srv_dst               0\n",
              "ct_dst_ltm               0\n",
              "ct_src_ltm               0\n",
              "ct_src_dport_ltm         0\n",
              "ct_dst_sport_ltm         0\n",
              "ct_dst_src_ltm           0\n",
              "attack_cat          665902\n",
              "label                    0\n",
              "dtype: int64"
            ]
          },
          "metadata": {},
          "execution_count": 21
        }
      ]
    },
    {
      "cell_type": "code",
      "source": [
        "# Delete Null values\n",
        "test = test.dropna()\n",
        "print(test.isnull().sum())"
      ],
      "metadata": {
        "colab": {
          "base_uri": "https://localhost:8080/"
        },
        "id": "Srjek4a3Dvqg",
        "outputId": "b054a611-c2bc-4f04-ef41-24ebcd9bf08f"
      },
      "execution_count": 22,
      "outputs": [
        {
          "output_type": "stream",
          "name": "stdout",
          "text": [
            "Name\n",
            "srcip               0\n",
            "sport               0\n",
            "dstip               0\n",
            "dsport              0\n",
            "proto               0\n",
            "state               0\n",
            "dur                 0\n",
            "sbytes              0\n",
            "dbytes              0\n",
            "sttl                0\n",
            "dttl                0\n",
            "sloss               0\n",
            "dloss               0\n",
            "service             0\n",
            "sload               0\n",
            "dload               0\n",
            "spkts               0\n",
            "dpkts               0\n",
            "swin                0\n",
            "dwin                0\n",
            "stcpb               0\n",
            "dtcpb               0\n",
            "smeansz             0\n",
            "dmeansz             0\n",
            "trans_depth         0\n",
            "res_bdy_len         0\n",
            "sjit                0\n",
            "djit                0\n",
            "stime               0\n",
            "ltime               0\n",
            "sintpkt             0\n",
            "dintpkt             0\n",
            "tcprtt              0\n",
            "synack              0\n",
            "ackdat              0\n",
            "is_sm_ips_ports     0\n",
            "ct_state_ttl        0\n",
            "ct_flw_http_mthd    0\n",
            "is_ftp_login        0\n",
            "ct_ftp_cmd          0\n",
            "ct_srv_src          0\n",
            "ct_srv_dst          0\n",
            "ct_dst_ltm          0\n",
            "ct_src_ltm          0\n",
            "ct_src_dport_ltm    0\n",
            "ct_dst_sport_ltm    0\n",
            "ct_dst_src_ltm      0\n",
            "attack_cat          0\n",
            "label               0\n",
            "dtype: int64\n"
          ]
        }
      ]
    },
    {
      "cell_type": "code",
      "source": [
        "train['attack_cat'].value_counts()"
      ],
      "metadata": {
        "id": "rgsyIkJV6XCO",
        "colab": {
          "base_uri": "https://localhost:8080/"
        },
        "outputId": "9bcb364f-6102-48f2-9efc-fcff5c275ce2"
      },
      "execution_count": 23,
      "outputs": [
        {
          "output_type": "execute_result",
          "data": {
            "text/plain": [
              "attack_cat\n",
              "Generic           5240\n",
              "Exploits          3812\n",
              " Fuzzers          3569\n",
              "Reconnaissance    1220\n",
              "DoS                829\n",
              "Backdoors          374\n",
              "Analysis           372\n",
              "Shellcode          151\n",
              "Worms               18\n",
              "Name: count, dtype: int64"
            ]
          },
          "metadata": {},
          "execution_count": 23
        }
      ]
    },
    {
      "cell_type": "code",
      "source": [
        "# We don't have \"normal\" values for \"attack_cat\", so we must fill Null values with \"normal\"\n",
        "train['attack_cat'] = train.attack_cat.fillna(value='normal').apply(lambda x: x.strip().lower())"
      ],
      "metadata": {
        "id": "Jr_eihfJ6iE-"
      },
      "execution_count": 24,
      "outputs": []
    },
    {
      "cell_type": "code",
      "source": [
        "train['attack_cat'].value_counts()"
      ],
      "metadata": {
        "id": "Xruq8Xgu6oUp",
        "colab": {
          "base_uri": "https://localhost:8080/"
        },
        "outputId": "561ade2a-8070-4666-ed4b-51baf53dfe2c"
      },
      "execution_count": 25,
      "outputs": [
        {
          "output_type": "execute_result",
          "data": {
            "text/plain": [
              "attack_cat\n",
              "generic           5240\n",
              "exploits          3812\n",
              "fuzzers           3569\n",
              "reconnaissance    1220\n",
              "dos                829\n",
              "backdoors          374\n",
              "analysis           372\n",
              "shellcode          151\n",
              "worms               18\n",
              "Name: count, dtype: int64"
            ]
          },
          "metadata": {},
          "execution_count": 25
        }
      ]
    },
    {
      "cell_type": "code",
      "source": [
        "train['ct_flw_http_mthd'] = train.ct_flw_http_mthd.fillna(value=0)"
      ],
      "metadata": {
        "id": "3vK5HTwL6p3-"
      },
      "execution_count": 26,
      "outputs": []
    },
    {
      "cell_type": "code",
      "source": [
        "# Even though it's a binary column, but there're values like 2 and 4\n",
        "train['is_ftp_login'].value_counts()"
      ],
      "metadata": {
        "id": "a0j6F6V26w2D",
        "colab": {
          "base_uri": "https://localhost:8080/"
        },
        "outputId": "393c12ab-0258-4b1b-8a65-1f039e26092e"
      },
      "execution_count": 27,
      "outputs": [
        {
          "output_type": "execute_result",
          "data": {
            "text/plain": [
              "is_ftp_login\n",
              "0.0    15551\n",
              "1.0       34\n",
              "Name: count, dtype: int64"
            ]
          },
          "metadata": {},
          "execution_count": 27
        }
      ]
    },
    {
      "cell_type": "code",
      "source": [
        "train['is_ftp_login'] = (train.is_ftp_login.fillna(value=0)).astype(int)"
      ],
      "metadata": {
        "id": "tSKSqF6861YV"
      },
      "execution_count": 28,
      "outputs": []
    },
    {
      "cell_type": "code",
      "source": [
        "# There are no Null values in the train data anymore\n",
        "train.isnull().sum().sum()"
      ],
      "metadata": {
        "id": "EOdlWc-0627m",
        "colab": {
          "base_uri": "https://localhost:8080/"
        },
        "outputId": "31dbc58a-f092-47fc-af94-f8fd88ce61d2"
      },
      "execution_count": 29,
      "outputs": [
        {
          "output_type": "execute_result",
          "data": {
            "text/plain": [
              "0"
            ]
          },
          "metadata": {},
          "execution_count": 29
        }
      ]
    },
    {
      "cell_type": "code",
      "source": [
        "# Getting name of all the columns\n",
        "train.columns"
      ],
      "metadata": {
        "id": "0MG5ecs768A9",
        "colab": {
          "base_uri": "https://localhost:8080/"
        },
        "outputId": "286dc964-e77a-491b-b4a4-6c2186410ce1"
      },
      "execution_count": 30,
      "outputs": [
        {
          "output_type": "execute_result",
          "data": {
            "text/plain": [
              "Index(['srcip', 'sport', 'dstip', 'dsport', 'proto', 'state', 'dur', 'sbytes',\n",
              "       'dbytes', 'sttl', 'dttl', 'sloss', 'dloss', 'service', 'sload', 'dload',\n",
              "       'spkts', 'dpkts', 'swin', 'dwin', 'stcpb', 'dtcpb', 'smeansz',\n",
              "       'dmeansz', 'trans_depth', 'res_bdy_len', 'sjit', 'djit', 'stime',\n",
              "       'ltime', 'sintpkt', 'dintpkt', 'tcprtt', 'synack', 'ackdat',\n",
              "       'is_sm_ips_ports', 'ct_state_ttl', 'ct_flw_http_mthd', 'is_ftp_login',\n",
              "       'ct_ftp_cmd', 'ct_srv_src', 'ct_srv_dst', 'ct_dst_ltm', 'ct_src_ltm',\n",
              "       'ct_src_dport_ltm', 'ct_dst_sport_ltm', 'ct_dst_src_ltm', 'attack_cat',\n",
              "       'label'],\n",
              "      dtype='object', name='Name')"
            ]
          },
          "metadata": {},
          "execution_count": 30
        }
      ]
    },
    {
      "cell_type": "code",
      "source": [
        "# Plotting target label distribution\n",
        "plt.figure()\n",
        "plt.title(\"class distribution of train and test dataset\")\n",
        "train['label'].value_counts().plot(kind=\"bar\", color='b', label=\"train\")\n",
        "test['label'].value_counts().plot(kind=\"bar\", color='orange', label=\"test\")\n",
        "plt.xlabel(\"Class\")\n",
        "plt.ylabel(\"Count\")\n",
        "plt.legend()\n",
        "plt.show()"
      ],
      "metadata": {
        "id": "uNKuh9S07PtD",
        "colab": {
          "base_uri": "https://localhost:8080/",
          "height": 467
        },
        "outputId": "ebe98c00-af7a-4514-8f51-85ac3c12d572"
      },
      "execution_count": 33,
      "outputs": [
        {
          "output_type": "display_data",
          "data": {
            "text/plain": [
              "<Figure size 640x480 with 1 Axes>"
            ],
            "image/png": "[encoded data removed]"
          },
          "metadata": {}
        }
      ]
    },
    {
      "cell_type": "code",
      "source": [
        "# Check if any null value present in datasets\n",
        "train.isnull().sum().sum(), test.isnull().sum().sum()  # No Null in train and test data is still raw"
      ],
      "metadata": {
        "id": "2Dwh9RVb7Sfi",
        "colab": {
          "base_uri": "https://localhost:8080/"
        },
        "outputId": "c8c0c42c-e12b-466c-f9ec-2feff4625d6d"
      },
      "execution_count": 34,
      "outputs": [
        {
          "output_type": "execute_result",
          "data": {
            "text/plain": [
              "(0, 0)"
            ]
          },
          "metadata": {},
          "execution_count": 34
        }
      ]
    },
    {
      "cell_type": "code",
      "source": [
        "train.info()"
      ],
      "metadata": {
        "id": "aNeu-8vc7UuY",
        "colab": {
          "base_uri": "https://localhost:8080/"
        },
        "outputId": "83f05611-ac05-44cd-a4ed-96a04e9eaedb"
      },
      "execution_count": 35,
      "outputs": [
        {
          "output_type": "stream",
          "name": "stdout",
          "text": [
            "<class 'pandas.core.frame.DataFrame'>\n",
            "Index: 15585 entries, 52504 to 27472\n",
            "Data columns (total 49 columns):\n",
            " #   Column            Non-Null Count  Dtype  \n",
            "---  ------            --------------  -----  \n",
            " 0   srcip             15585 non-null  object \n",
            " 1   sport             15585 non-null  object \n",
            " 2   dstip             15585 non-null  object \n",
            " 3   dsport            15585 non-null  object \n",
            " 4   proto             15585 non-null  object \n",
            " 5   state             15585 non-null  object \n",
            " 6   dur               15585 non-null  float64\n",
            " 7   sbytes            15585 non-null  int64  \n",
            " 8   dbytes            15585 non-null  int64  \n",
            " 9   sttl              15585 non-null  int64  \n",
            " 10  dttl              15585 non-null  int64  \n",
            " 11  sloss             15585 non-null  int64  \n",
            " 12  dloss             15585 non-null  int64  \n",
            " 13  service           15585 non-null  object \n",
            " 14  sload             15585 non-null  float64\n",
            " 15  dload             15585 non-null  float64\n",
            " 16  spkts             15585 non-null  int64  \n",
            " 17  dpkts             15585 non-null  int64  \n",
            " 18  swin              15585 non-null  int64  \n",
            " 19  dwin              15585 non-null  int64  \n",
            " 20  stcpb             15585 non-null  int64  \n",
            " 21  dtcpb             15585 non-null  int64  \n",
            " 22  smeansz           15585 non-null  int64  \n",
            " 23  dmeansz           15585 non-null  int64  \n",
            " 24  trans_depth       15585 non-null  int64  \n",
            " 25  res_bdy_len       15585 non-null  int64  \n",
            " 26  sjit              15585 non-null  float64\n",
            " 27  djit              15585 non-null  float64\n",
            " 28  stime             15585 non-null  int64  \n",
            " 29  ltime             15585 non-null  int64  \n",
            " 30  sintpkt           15585 non-null  float64\n",
            " 31  dintpkt           15585 non-null  float64\n",
            " 32  tcprtt            15585 non-null  float64\n",
            " 33  synack            15585 non-null  float64\n",
            " 34  ackdat            15585 non-null  float64\n",
            " 35  is_sm_ips_ports   15585 non-null  int64  \n",
            " 36  ct_state_ttl      15585 non-null  int64  \n",
            " 37  ct_flw_http_mthd  15585 non-null  float64\n",
            " 38  is_ftp_login      15585 non-null  int64  \n",
            " 39  ct_ftp_cmd        15585 non-null  object \n",
            " 40  ct_srv_src        15585 non-null  int64  \n",
            " 41  ct_srv_dst        15585 non-null  int64  \n",
            " 42  ct_dst_ltm        15585 non-null  int64  \n",
            " 43  ct_src_ltm        15585 non-null  int64  \n",
            " 44  ct_src_dport_ltm  15585 non-null  int64  \n",
            " 45  ct_dst_sport_ltm  15585 non-null  int64  \n",
            " 46  ct_dst_src_ltm    15585 non-null  int64  \n",
            " 47  attack_cat        15585 non-null  object \n",
            " 48  label             15585 non-null  int64  \n",
            "dtypes: float64(11), int64(29), object(9)\n",
            "memory usage: 5.9+ MB\n"
          ]
        }
      ]
    },
    {
      "cell_type": "code",
      "source": [
        "# All the datatypes in our dataset\n",
        "train.dtypes.value_counts()"
      ],
      "metadata": {
        "id": "qewo7qr67Xc-",
        "colab": {
          "base_uri": "https://localhost:8080/"
        },
        "outputId": "e895c548-3a18-4347-db35-5c0c1aaa6158"
      },
      "execution_count": 36,
      "outputs": [
        {
          "output_type": "execute_result",
          "data": {
            "text/plain": [
              "int64      29\n",
              "float64    11\n",
              "object      9\n",
              "Name: count, dtype: int64"
            ]
          },
          "metadata": {},
          "execution_count": 36
        }
      ]
    },
    {
      "cell_type": "code",
      "source": [
        "# Categorical feature names\n",
        "#you're instructing pandas to select columns whose data types are not numeric.\n",
        "train.select_dtypes(exclude=np.number).columns"
      ],
      "metadata": {
        "id": "rapKXt3X7Yky",
        "colab": {
          "base_uri": "https://localhost:8080/"
        },
        "outputId": "d7931851-9d63-4083-c323-1592bf849ed3"
      },
      "execution_count": 37,
      "outputs": [
        {
          "output_type": "execute_result",
          "data": {
            "text/plain": [
              "Index(['srcip', 'sport', 'dstip', 'dsport', 'proto', 'state', 'service',\n",
              "       'ct_ftp_cmd', 'attack_cat'],\n",
              "      dtype='object', name='Name')"
            ]
          },
          "metadata": {},
          "execution_count": 37
        }
      ]
    },
    {
      "cell_type": "code",
      "source": [
        "# In the research paper it was mentioned that, this is a numerical feature not a categorical\n",
        "train['ct_ftp_cmd'].unique()"
      ],
      "metadata": {
        "id": "uyOQqOru7oEw",
        "colab": {
          "base_uri": "https://localhost:8080/"
        },
        "outputId": "8b51b7e6-7caa-4d7b-b508-b3aa6d3e073a"
      },
      "execution_count": 38,
      "outputs": [
        {
          "output_type": "execute_result",
          "data": {
            "text/plain": [
              "array([0, 1], dtype=object)"
            ]
          },
          "metadata": {},
          "execution_count": 38
        }
      ]
    },
    {
      "cell_type": "code",
      "source": [
        "# Removing empty space and converting it to numerical\n",
        "train['ct_ftp_cmd'] = train['ct_ftp_cmd'].replace(to_replace=' ', value=0).astype(int)"
      ],
      "metadata": {
        "id": "aGlM5C0x8KSG"
      },
      "execution_count": 39,
      "outputs": []
    },
    {
      "cell_type": "code",
      "source": [
        "train['ct_ftp_cmd'].unique()"
      ],
      "metadata": {
        "id": "rH8H-iog8aMK",
        "colab": {
          "base_uri": "https://localhost:8080/"
        },
        "outputId": "d31a9b10-937c-400e-cd55-ad6b4101bb78"
      },
      "execution_count": 40,
      "outputs": [
        {
          "output_type": "execute_result",
          "data": {
            "text/plain": [
              "array([0, 1])"
            ]
          },
          "metadata": {},
          "execution_count": 40
        }
      ]
    },
    {
      "cell_type": "code",
      "source": [
        "# Categorical feature names\n",
        "train.select_dtypes(exclude=np.number).columns"
      ],
      "metadata": {
        "id": "kNH-zAB98fjJ",
        "colab": {
          "base_uri": "https://localhost:8080/"
        },
        "outputId": "08585e50-627c-4277-f50e-e37aaadd11c6"
      },
      "execution_count": 41,
      "outputs": [
        {
          "output_type": "execute_result",
          "data": {
            "text/plain": [
              "Index(['srcip', 'sport', 'dstip', 'dsport', 'proto', 'state', 'service',\n",
              "       'attack_cat'],\n",
              "      dtype='object', name='Name')"
            ]
          },
          "metadata": {},
          "execution_count": 41
        }
      ]
    },
    {
      "cell_type": "code",
      "source": [
        "# Numeric features names\n",
        "train.select_dtypes(include=np.number).columns"
      ],
      "metadata": {
        "id": "5anRnfrA8g3n",
        "colab": {
          "base_uri": "https://localhost:8080/"
        },
        "outputId": "c9b48099-975a-436d-e259-cbd03f2ad293"
      },
      "execution_count": 42,
      "outputs": [
        {
          "output_type": "execute_result",
          "data": {
            "text/plain": [
              "Index(['dur', 'sbytes', 'dbytes', 'sttl', 'dttl', 'sloss', 'dloss', 'sload',\n",
              "       'dload', 'spkts', 'dpkts', 'swin', 'dwin', 'stcpb', 'dtcpb', 'smeansz',\n",
              "       'dmeansz', 'trans_depth', 'res_bdy_len', 'sjit', 'djit', 'stime',\n",
              "       'ltime', 'sintpkt', 'dintpkt', 'tcprtt', 'synack', 'ackdat',\n",
              "       'is_sm_ips_ports', 'ct_state_ttl', 'ct_flw_http_mthd', 'is_ftp_login',\n",
              "       'ct_ftp_cmd', 'ct_srv_src', 'ct_srv_dst', 'ct_dst_ltm', 'ct_src_ltm',\n",
              "       'ct_src_dport_ltm', 'ct_dst_sport_ltm', 'ct_dst_src_ltm', 'label'],\n",
              "      dtype='object', name='Name')"
            ]
          },
          "metadata": {},
          "execution_count": 42
        }
      ]
    },
    {
      "cell_type": "code",
      "source": [
        " # Info for test data transformation\n",
        "saved_dict['binary_col'] = ['is_sm_ips_ports', 'is_ftp_login']"
      ],
      "metadata": {
        "id": "Bom_08gn8jr0"
      },
      "execution_count": 43,
      "outputs": []
    },
    {
      "cell_type": "code",
      "source": [
        "# see if binary columns are really binary\n",
        "for col in 'is_sm_ips_ports', 'is_ftp_login':\n",
        "    print(train[col].value_counts())\n",
        "    print()"
      ],
      "metadata": {
        "id": "FuUwQUuk9Zor",
        "colab": {
          "base_uri": "https://localhost:8080/"
        },
        "outputId": "e19be289-6ef9-467b-d724-713fdbd99635"
      },
      "execution_count": 44,
      "outputs": [
        {
          "output_type": "stream",
          "name": "stdout",
          "text": [
            "is_sm_ips_ports\n",
            "0    15585\n",
            "Name: count, dtype: int64\n",
            "\n",
            "is_ftp_login\n",
            "0    15551\n",
            "1       34\n",
            "Name: count, dtype: int64\n",
            "\n"
          ]
        }
      ]
    },
    {
      "cell_type": "code",
      "source": [
        "# The col \"is_ftp_login\" has few wrong values like 2, 4. It should only have 0 and 1, If the ftp session is accessed by user and\n",
        "# password then 1 else 0. Need to fix this.\n",
        "\n",
        "# Replacing all the values apart from 0 and 1 from these two columns.\n",
        "train['is_ftp_login'] = np.where(train['is_ftp_login']>1, 1, train['is_ftp_login'])"
      ],
      "metadata": {
        "id": "YMzAdsyi9biP"
      },
      "execution_count": 45,
      "outputs": []
    },
    {
      "cell_type": "code",
      "source": [
        "train['is_ftp_login'].value_counts()"
      ],
      "metadata": {
        "id": "pb-5gXpw9lxA",
        "colab": {
          "base_uri": "https://localhost:8080/"
        },
        "outputId": "6c7ebd68-5995-42b1-9c63-243b51fafd04"
      },
      "execution_count": 46,
      "outputs": [
        {
          "output_type": "execute_result",
          "data": {
            "text/plain": [
              "is_ftp_login\n",
              "0    15551\n",
              "1       34\n",
              "Name: count, dtype: int64"
            ]
          },
          "metadata": {},
          "execution_count": 46
        }
      ]
    },
    {
      "cell_type": "code",
      "source": [
        "train['service'].value_counts()"
      ],
      "metadata": {
        "id": "K2SJwfsA9oUn",
        "colab": {
          "base_uri": "https://localhost:8080/"
        },
        "outputId": "26399390-4dc8-48b6-c141-6832b6b78424"
      },
      "execution_count": 47,
      "outputs": [
        {
          "output_type": "execute_result",
          "data": {
            "text/plain": [
              "service\n",
              "-           8236\n",
              "dns         4880\n",
              "http        1368\n",
              "smtp         427\n",
              "ftp          338\n",
              "pop3         153\n",
              "ftp-data     142\n",
              "ssl           19\n",
              "snmp          11\n",
              "dhcp           5\n",
              "radius         4\n",
              "irc            1\n",
              "ssh            1\n",
              "Name: count, dtype: int64"
            ]
          },
          "metadata": {},
          "execution_count": 47
        }
      ]
    },
    {
      "cell_type": "code",
      "source": [
        "# removing all the \"-\" and replacing those with \"None\"\n",
        "train['service'] = train['service'].apply(lambda x:\"None\" if x==\"-\" else x)"
      ],
      "metadata": {
        "id": "F2rvzcKY9tEY"
      },
      "execution_count": 48,
      "outputs": []
    },
    {
      "cell_type": "code",
      "source": [
        "train['service'].value_counts()"
      ],
      "metadata": {
        "id": "qpFv2WUg9wzl",
        "colab": {
          "base_uri": "https://localhost:8080/"
        },
        "outputId": "2475c09d-6b83-4e82-b374-db4e5dfebc1a"
      },
      "execution_count": 49,
      "outputs": [
        {
          "output_type": "execute_result",
          "data": {
            "text/plain": [
              "service\n",
              "None        8236\n",
              "dns         4880\n",
              "http        1368\n",
              "smtp         427\n",
              "ftp          338\n",
              "pop3         153\n",
              "ftp-data     142\n",
              "ssl           19\n",
              "snmp          11\n",
              "dhcp           5\n",
              "radius         4\n",
              "irc            1\n",
              "ssh            1\n",
              "Name: count, dtype: int64"
            ]
          },
          "metadata": {},
          "execution_count": 49
        }
      ]
    },
    {
      "cell_type": "code",
      "source": [
        "# In the research paper there are not 10 unique values\n",
        "train['attack_cat'].nunique()"
      ],
      "metadata": {
        "colab": {
          "base_uri": "https://localhost:8080/"
        },
        "id": "zgczesmrS_k4",
        "outputId": "d02e05d0-dc1f-4d7e-ad7b-593cf2e458e2"
      },
      "execution_count": 50,
      "outputs": [
        {
          "output_type": "execute_result",
          "data": {
            "text/plain": [
              "9"
            ]
          },
          "metadata": {},
          "execution_count": 50
        }
      ]
    },
    {
      "cell_type": "code",
      "source": [
        "train['attack_cat'].value_counts()"
      ],
      "metadata": {
        "colab": {
          "base_uri": "https://localhost:8080/"
        },
        "id": "NpWang0UTI3x",
        "outputId": "0c81a40a-2dc8-41aa-e14a-482597be8d21"
      },
      "execution_count": 51,
      "outputs": [
        {
          "output_type": "execute_result",
          "data": {
            "text/plain": [
              "attack_cat\n",
              "generic           5240\n",
              "exploits          3812\n",
              "fuzzers           3569\n",
              "reconnaissance    1220\n",
              "dos                829\n",
              "backdoors          374\n",
              "analysis           372\n",
              "shellcode          151\n",
              "worms               18\n",
              "Name: count, dtype: int64"
            ]
          },
          "metadata": {},
          "execution_count": 51
        }
      ]
    },
    {
      "cell_type": "code",
      "source": [
        "train['attack_cat'] = train['attack_cat'].replace('backdoors','backdoor', regex=True).apply(lambda x: x.strip().lower())"
      ],
      "metadata": {
        "id": "ka-q6C3MTLx5"
      },
      "execution_count": 52,
      "outputs": []
    },
    {
      "cell_type": "code",
      "source": [
        "train.shape, test.shape"
      ],
      "metadata": {
        "colab": {
          "base_uri": "https://localhost:8080/"
        },
        "id": "MfcQjYXsTPwj",
        "outputId": "35d6bd60-747f-4c79-8e3f-b6008b54b079"
      },
      "execution_count": 53,
      "outputs": [
        {
          "output_type": "execute_result",
          "data": {
            "text/plain": [
              "((15585, 49), (6630, 49))"
            ]
          },
          "metadata": {},
          "execution_count": 53
        }
      ]
    },
    {
      "cell_type": "code",
      "source": [
        "train.to_csv('/content/drive/MyDrive/UNSW/UNSW-NB15/Cleaned_UNSW_Trained_Data.txt', index=False)\n",
        "test.to_csv('/content/drive/MyDrive/UNSW/UNSW-NB15/Cleaned_UNSW_Tested_Data.txt', index=False)"
      ],
      "metadata": {
        "id": "2OpK6LTRTR5k"
      },
      "execution_count": 60,
      "outputs": []
    },
    {
      "cell_type": "code",
      "source": [],
      "metadata": {
        "id": "aGxat5SRGCr0"
      },
      "execution_count": null,
      "outputs": []
    },
    {
      "cell_type": "code",
      "source": [],
      "metadata": {
        "id": "n0t-ZzqmPKOO"
      },
      "execution_count": null,
      "outputs": []
    }
  ]
}