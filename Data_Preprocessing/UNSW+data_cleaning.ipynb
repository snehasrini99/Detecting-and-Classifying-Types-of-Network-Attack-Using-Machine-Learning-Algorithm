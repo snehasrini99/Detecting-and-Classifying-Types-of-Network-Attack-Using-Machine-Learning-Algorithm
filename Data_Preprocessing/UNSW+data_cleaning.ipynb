{
  "nbformat": 4,
  "nbformat_minor": 0,
  "metadata": {
    "colab": {
      "provenance": []
    },
    "kernelspec": {
      "name": "python3",
      "display_name": "Python 3"
    },
    "language_info": {
      "name": "python"
    }
  },
  "cells": [
    {
      "cell_type": "markdown",
      "source": [
        "# Dataset"
      ],
      "metadata": {
        "id": "sirCe6Vc6Vxp"
      }
    },
    {
      "cell_type": "code",
      "execution_count": 2,
      "metadata": {
        "id": "0uhJpQRkhZU0"
      },
      "outputs": [],
      "source": [
        "import numpy as np  # for array\n",
        "import pandas as pd  # for csv files and dataframe\n",
        "import matplotlib.pyplot as plt  # for plotting\n",
        "import seaborn as sns  # plotting\n",
        "from scipy import stats\n",
        "\n",
        "import pickle  # To load data int disk\n",
        "from prettytable import PrettyTable  # To print in tabular format\n",
        "\n",
        "import warnings\n",
        "warnings.filterwarnings(\"ignore\")\n",
        "\n",
        "from sklearn.preprocessing import StandardScaler\n",
        "from sklearn.preprocessing import LabelEncoder, OneHotEncoder\n",
        "\n",
        "from sklearn.model_selection import train_test_split\n",
        "from sklearn.linear_model import LogisticRegression, SGDClassifier\n",
        "from sklearn.svm import LinearSVC\n",
        "from sklearn.naive_bayes import MultinomialNB\n",
        "from sklearn.tree import DecisionTreeClassifier\n",
        "from sklearn.ensemble import RandomForestClassifier\n",
        "import xgboost as xgb\n",
        "\n",
        "from sklearn.metrics import accuracy_score, confusion_matrix, make_scorer\n",
        "from sklearn.metrics import auc, f1_score, roc_curve\n",
        "from sklearn.model_selection import GridSearchCV, RandomizedSearchCV\n",
        "from sklearn.model_selection import cross_validate, cross_val_predict\n",
        "\n",
        "%matplotlib inline"
      ]
    },
    {
      "cell_type": "code",
      "source": [
        "from google.colab import drive\n",
        "drive.mount('/content/drive')"
      ],
      "metadata": {
        "colab": {
          "base_uri": "https://localhost:8080/"
        },
        "id": "G7YcR_X1M0Gn",
        "outputId": "871d1a01-7bb2-44e9-d212-b46563c45f97"
      },
      "execution_count": 3,
      "outputs": [
        {
          "output_type": "stream",
          "name": "stdout",
          "text": [
            "Mounted at /content/drive\n"
          ]
        }
      ]
    },
    {
      "cell_type": "code",
      "source": [
        "# Creating a empty dict, where I will save all parameters required for test data transformation\n",
        "\n",
        "saved_dict = {}"
      ],
      "metadata": {
        "id": "m4J_XidYus7y"
      },
      "execution_count": 4,
      "outputs": []
    },
    {
      "cell_type": "code",
      "source": [
        "# Reading datasets\n",
        "dfs = []\n",
        "\n",
        "from google.colab import drive\n",
        "drive.mount('/content/drive')\n",
        "\n",
        "\n",
        "for i in range(1,5):\n",
        "  path = '/content/drive/MyDrive/UNSW/UNSW-NB15/UNSW-NB15_{}.csv'\n",
        "  dfs.append(pd.read_csv(path.format(i), header = None))\n",
        "\n",
        "print(dfs)\n",
        "all_data = pd.concat(dfs).reset_index(drop=True)\n",
        "print(type(all_data))\n",
        "print(all_data.shape)\n",
        "\n",
        "\n",
        "# for i in range(1,5):\n",
        "#     path = './UNSW-NB15_{}.csv'  # There are 4 input csv files\n",
        "#     dfs.append(pd.read_csv(path.format(i), header = None))\n",
        "# all_data = pd.concat(dfs).reset_index(drop=True)  # Concat all to a single df"
      ],
      "metadata": {
        "colab": {
          "base_uri": "https://localhost:8080/"
        },
        "id": "34EQv6hpu28q",
        "outputId": "bc9ea58f-c8c2-4ec8-a90c-dbfadfa1d37f"
      },
      "execution_count": 5,
      "outputs": [
        {
          "output_type": "stream",
          "name": "stdout",
          "text": [
            "Drive already mounted at /content/drive; to attempt to forcibly remount, call drive.mount(\"/content/drive\", force_remount=True).\n",
            "[                0      1              2      3    4    5         6      7   \\\n",
            "0       59.166.0.0   1390  149.171.126.6     53  udp  CON  0.001055    132   \n",
            "1       59.166.0.0  33661  149.171.126.9   1024  udp  CON  0.036133    528   \n",
            "2       59.166.0.6   1464  149.171.126.7     53  udp  CON  0.001119    146   \n",
            "3       59.166.0.5   3593  149.171.126.5     53  udp  CON  0.001209    132   \n",
            "4       59.166.0.3  49664  149.171.126.0     53  udp  CON  0.001169    146   \n",
            "...            ...    ...            ...    ...  ...  ...       ...    ...   \n",
            "699996  59.166.0.8  12520  149.171.126.6  31010  tcp  FIN  0.020383    320   \n",
            "699997  59.166.0.0  18895  149.171.126.9     80  tcp  FIN  1.402957  19410   \n",
            "699998  59.166.0.0  30103  149.171.126.5   5190  tcp  FIN  0.007108   2158   \n",
            "699999  59.166.0.6  30388  149.171.126.5    111  udp  CON  0.004435    568   \n",
            "700000  59.166.0.0   6055  149.171.126.5  54145  tcp  FIN  0.072974   4238   \n",
            "\n",
            "             8   9   ...  39  40  41 42  43  44  45  46   47  48  \n",
            "0           164  31  ...   0   3   7  1   3   1   1   1  NaN   0  \n",
            "1           304  31  ...   0   2   4  2   3   1   1   2  NaN   0  \n",
            "2           178  31  ...   0  12   8  1   2   2   1   1  NaN   0  \n",
            "3           164  31  ...   0   6   9  1   1   1   1   1  NaN   0  \n",
            "4           178  31  ...   0   7   9  1   1   1   1   1  NaN   0  \n",
            "...         ...  ..  ...  ..  ..  .. ..  ..  ..  ..  ..  ...  ..  \n",
            "699996     1874  31  ...   0   8  20  7   5   1   1   4  NaN   0  \n",
            "699997  1087890  31  ...   0   1   1  2   7   2   2   2  NaN   0  \n",
            "699998     2464  31  ...   0  13  13  6   7   2   1   2  NaN   0  \n",
            "699999      304  31  ...   0  10  13  6   5   1   1   3  NaN   0  \n",
            "700000    60788  31  ...   0  13  13  6   7   1   1   2  NaN   0  \n",
            "\n",
            "[700001 rows x 49 columns],                     0      1              2      3    4    5         6     7   \\\n",
            "0           59.166.0.0   6055  149.171.126.5  54145  tcp  FIN  0.072974  4238   \n",
            "1           59.166.0.0   7832  149.171.126.3   5607  tcp  FIN  0.144951  5174   \n",
            "2           59.166.0.8  11397  149.171.126.6     21  tcp  FIN  0.116107  2934   \n",
            "3           59.166.0.0   3804  149.171.126.3     53  udp  CON  0.000986   146   \n",
            "4           59.166.0.8  14339  149.171.126.6  14724  tcp  FIN  0.038480  8928   \n",
            "...                ...    ...            ...    ...  ...  ...       ...   ...   \n",
            "699996  149.171.126.18   1043   175.45.176.3     53  udp  INT  0.000005   264   \n",
            "699997  149.171.126.18   1043   175.45.176.3     53  udp  INT  0.000005   264   \n",
            "699998  149.171.126.18   1043   175.45.176.3     53  udp  INT  0.000005   264   \n",
            "699999  149.171.126.18   1043   175.45.176.3     53  udp  INT  0.000005   264   \n",
            "700000      59.166.0.1  18247  149.171.126.4   7662  tcp  FIN  0.119596  4550   \n",
            "\n",
            "           8   9   ...  39  40  41  42  43  44  45  46   47  48  \n",
            "0       60788  31  ...   0  13  13   6   7   1   1   2  NaN   0  \n",
            "1       91072  31  ...   0  13  13   6   7   1   1   2  NaN   0  \n",
            "2        3742  31  ...   1   1   2   7   5   1   1   4  NaN   0  \n",
            "3         178  31  ...   0  13  13   6   7   1   1   2  NaN   0  \n",
            "4         320  31  ...   0   8  20   7   5   1   1   4  NaN   0  \n",
            "...       ...  ..  ...  ..  ..  ..  ..  ..  ..  ..  ..  ...  ..  \n",
            "699996      0  60  ...      19  19  19  19  19  19  19  NaN   0  \n",
            "699997      0  60  ...      19  19  19  19  19  19  19  NaN   0  \n",
            "699998      0  60  ...      19  19  19  19  19  19  19  NaN   0  \n",
            "699999      0  60  ...      19  19  19  19  19  19  19  NaN   0  \n",
            "700000  68342  31  ...       6   2   2   5   1   1   2  NaN   0  \n",
            "\n",
            "[700001 rows x 49 columns],                     0      1              2      3    4    5         6   \\\n",
            "0           59.166.0.1  18247  149.171.126.4   7662  tcp  FIN  0.119596   \n",
            "1           59.166.0.3  54771  149.171.126.2  27709  tcp  FIN  0.650574   \n",
            "2           59.166.0.8  13289  149.171.126.9   5190  tcp  FIN  0.007980   \n",
            "3       149.171.126.18   1043   175.45.176.3     53  udp  INT  0.000005   \n",
            "4       149.171.126.18   1043   175.45.176.3     53  udp  INT  0.000005   \n",
            "...                ...    ...            ...    ...  ...  ...       ...   \n",
            "699996      59.166.0.0   2111  149.171.126.5     53  udp  CON  0.001035   \n",
            "699997      59.166.0.5  49044  149.171.126.3  30639  tcp  FIN  0.220630   \n",
            "699998      59.166.0.6  37717  149.171.126.7  35667  tcp  FIN  0.031576   \n",
            "699999      59.166.0.2   1768  149.171.126.7  64122  tcp  FIN  0.096835   \n",
            "700000      59.166.0.9   7045  149.171.126.7     25  tcp  FIN  0.201886   \n",
            "\n",
            "           7      8   9   ...  39  40  41  42  43  44  45  46   47  48  \n",
            "0        4550  68342  31  ...       6   2   2   5   1   1   2  NaN   0  \n",
            "1        8928    320  31  ...       3   5   2   4   1   1   4  NaN   0  \n",
            "2        2158   2464  31  ...       3   5   1   1   1   1   3  NaN   0  \n",
            "3         264      0  60  ...      19  19  19  19  19  19  19  NaN   0  \n",
            "4         264      0  60  ...      19  19  19  19  19  19  19  NaN   0  \n",
            "...       ...    ...  ..  ...  ..  ..  ..  ..  ..  ..  ..  ..  ...  ..  \n",
            "699996    146    178  31  ...       1   3   4   3   1   1   4  NaN   0  \n",
            "699997    424   8824  31  ...       3   3   3   3   1   1   4  NaN   0  \n",
            "699998   2646  25564  31  ...       7   6   7   4   1   1   3  NaN   0  \n",
            "699999   4862  82782  31  ...       6   6   7   7   1   1   2  NaN   0  \n",
            "700000  37552   3380  31  ...       2   2   7   4   1   1   3  NaN   0  \n",
            "\n",
            "[700001 rows x 49 columns],                   0      1               2      3    4    5         6      7   \\\n",
            "0         59.166.0.9   7045   149.171.126.7     25  tcp  FIN  0.201886  37552   \n",
            "1         59.166.0.9   9685   149.171.126.2     80  tcp  FIN  5.864748  19410   \n",
            "2         59.166.0.2   1421   149.171.126.4     53  udp  CON  0.001391    146   \n",
            "3         59.166.0.2  21553   149.171.126.2     25  tcp  FIN  0.053948  37812   \n",
            "4         59.166.0.8  45212   149.171.126.4     53  udp  CON  0.000953    146   \n",
            "...              ...    ...             ...    ...  ...  ...       ...    ...   \n",
            "440039    59.166.0.5  33094   149.171.126.7  43433  tcp  FIN  0.087306    320   \n",
            "440040    59.166.0.7  20848   149.171.126.4     21  tcp  CON  0.365058    456   \n",
            "440041    59.166.0.3  21511   149.171.126.9     21  tcp  CON  6.335154   1802   \n",
            "440042    59.166.0.9  35433   149.171.126.0     80  tcp  CON  2.200934   3498   \n",
            "440043  175.45.176.0  17293  149.171.126.17    110  tcp  CON  0.942984    574   \n",
            "\n",
            "             8   9   ...  39  40  41 42  43  44  45  46        47  48  \n",
            "0          3380  31  ...       2   2  7   4   1   1   3       NaN   0  \n",
            "1       1087890  31  ...       3   1  4   4   1   1   1       NaN   0  \n",
            "2           178  31  ...       3   5  2   7   1   1   4       NaN   0  \n",
            "3          3380  31  ...       1   1  4   7   1   1   3       NaN   0  \n",
            "4           178  31  ...       2   5  2   1   1   1   2       NaN   0  \n",
            "...         ...  ..  ...  ..  ..  .. ..  ..  ..  ..  ..       ...  ..  \n",
            "440039     1828  31  ...       1   2  3   3   1   1   3       NaN   0  \n",
            "440040      346  31  ...   2   2   2  2   2   2   2   2       NaN   0  \n",
            "440041     2088  31  ...   2   2   2  4   2   2   2   2       NaN   0  \n",
            "440042   166054  31  ...       1   1  2   4   2   2   2       NaN   0  \n",
            "440043      676  62  ...       1   1  2   4   2   2   2  Exploits   1  \n",
            "\n",
            "[440044 rows x 49 columns]]\n",
            "<class 'pandas.core.frame.DataFrame'>\n",
            "(2540047, 49)\n"
          ]
        }
      ]
    },
    {
      "cell_type": "code",
      "source": [
        "# This csv file contains names of all the features\n",
        "df_col = pd.read_csv('/content/drive/MyDrive/UNSW/UNSW-NB15/NUSW-NB15_features.csv', encoding='ISO-8859-1')\n",
        "# df_col = pd.read_csv('/content/drive/MyDrive/24 Spring/NSP/Project/NSP_Project/UNSW/NUSW-NB15_features.csv', encoding='ISO-8859-1')"
      ],
      "metadata": {
        "id": "_Sbl74OU4Jy4"
      },
      "execution_count": 6,
      "outputs": []
    },
    {
      "cell_type": "code",
      "source": [
        "# Making column names lower case, removing spaces\n",
        "df_col['Name'] = df_col['Name'].apply(lambda x: x.strip().replace(' ', '').lower())"
      ],
      "metadata": {
        "id": "YZDub0PU4xkl"
      },
      "execution_count": 7,
      "outputs": []
    },
    {
      "cell_type": "code",
      "source": [
        "# Renaming our dataframe with proper column names\n",
        "all_data.columns = df_col['Name']\n",
        "print(all_data)"
      ],
      "metadata": {
        "id": "6QMQOvNH5Aqe",
        "colab": {
          "base_uri": "https://localhost:8080/"
        },
        "outputId": "31afe2de-b637-40dc-fd5c-e097e8e672c5"
      },
      "execution_count": 8,
      "outputs": [
        {
          "output_type": "stream",
          "name": "stdout",
          "text": [
            "Name            srcip  sport           dstip dsport proto state       dur  \\\n",
            "0          59.166.0.0   1390   149.171.126.6     53   udp   CON  0.001055   \n",
            "1          59.166.0.0  33661   149.171.126.9   1024   udp   CON  0.036133   \n",
            "2          59.166.0.6   1464   149.171.126.7     53   udp   CON  0.001119   \n",
            "3          59.166.0.5   3593   149.171.126.5     53   udp   CON  0.001209   \n",
            "4          59.166.0.3  49664   149.171.126.0     53   udp   CON  0.001169   \n",
            "...               ...    ...             ...    ...   ...   ...       ...   \n",
            "2540042    59.166.0.5  33094   149.171.126.7  43433   tcp   FIN  0.087306   \n",
            "2540043    59.166.0.7  20848   149.171.126.4     21   tcp   CON  0.365058   \n",
            "2540044    59.166.0.3  21511   149.171.126.9     21   tcp   CON  6.335154   \n",
            "2540045    59.166.0.9  35433   149.171.126.0     80   tcp   CON  2.200934   \n",
            "2540046  175.45.176.0  17293  149.171.126.17    110   tcp   CON  0.942984   \n",
            "\n",
            "Name     sbytes  dbytes  sttl  ...  ct_ftp_cmd  ct_srv_src  ct_srv_dst  \\\n",
            "0           132     164    31  ...           0           3           7   \n",
            "1           528     304    31  ...           0           2           4   \n",
            "2           146     178    31  ...           0          12           8   \n",
            "3           132     164    31  ...           0           6           9   \n",
            "4           146     178    31  ...           0           7           9   \n",
            "...         ...     ...   ...  ...         ...         ...         ...   \n",
            "2540042     320    1828    31  ...                       1           2   \n",
            "2540043     456     346    31  ...           2           2           2   \n",
            "2540044    1802    2088    31  ...           2           2           2   \n",
            "2540045    3498  166054    31  ...                       1           1   \n",
            "2540046     574     676    62  ...                       1           1   \n",
            "\n",
            "Name    ct_dst_ltm  ct_src_ltm  ct_src_dport_ltm  ct_dst_sport_ltm  \\\n",
            "0                1           3                 1                 1   \n",
            "1                2           3                 1                 1   \n",
            "2                1           2                 2                 1   \n",
            "3                1           1                 1                 1   \n",
            "4                1           1                 1                 1   \n",
            "...            ...         ...               ...               ...   \n",
            "2540042          3           3                 1                 1   \n",
            "2540043          2           2                 2                 2   \n",
            "2540044          4           2                 2                 2   \n",
            "2540045          2           4                 2                 2   \n",
            "2540046          2           4                 2                 2   \n",
            "\n",
            "Name     ct_dst_src_ltm  attack_cat  label  \n",
            "0                     1         NaN      0  \n",
            "1                     2         NaN      0  \n",
            "2                     1         NaN      0  \n",
            "3                     1         NaN      0  \n",
            "4                     1         NaN      0  \n",
            "...                 ...         ...    ...  \n",
            "2540042               3         NaN      0  \n",
            "2540043               2         NaN      0  \n",
            "2540044               2         NaN      0  \n",
            "2540045               2         NaN      0  \n",
            "2540046               2    Exploits      1  \n",
            "\n",
            "[2540047 rows x 49 columns]\n"
          ]
        }
      ]
    },
    {
      "cell_type": "code",
      "source": [
        "# Saving useful info, later this will be used to transform raw test data\n",
        "saved_dict['columns'] = df_col['Name'][df_col['Name']!='label'].tolist()\n",
        "print(saved_dict)"
      ],
      "metadata": {
        "id": "L2dWix6N5SgA",
        "colab": {
          "base_uri": "https://localhost:8080/"
        },
        "outputId": "09d235cb-9e5e-4b54-f1bb-2941d68eac9c"
      },
      "execution_count": 9,
      "outputs": [
        {
          "output_type": "stream",
          "name": "stdout",
          "text": [
            "{'columns': ['srcip', 'sport', 'dstip', 'dsport', 'proto', 'state', 'dur', 'sbytes', 'dbytes', 'sttl', 'dttl', 'sloss', 'dloss', 'service', 'sload', 'dload', 'spkts', 'dpkts', 'swin', 'dwin', 'stcpb', 'dtcpb', 'smeansz', 'dmeansz', 'trans_depth', 'res_bdy_len', 'sjit', 'djit', 'stime', 'ltime', 'sintpkt', 'dintpkt', 'tcprtt', 'synack', 'ackdat', 'is_sm_ips_ports', 'ct_state_ttl', 'ct_flw_http_mthd', 'is_ftp_login', 'ct_ftp_cmd', 'ct_srv_src', 'ct_srv_dst', 'ct_dst_ltm', 'ct_src_ltm', 'ct_src_dport_ltm', 'ct_dst_sport_ltm', 'ct_dst_src_ltm', 'attack_cat']}\n"
          ]
        }
      ]
    },
    {
      "cell_type": "code",
      "source": [
        "del df_col"
      ],
      "metadata": {
        "id": "ykmqCrT35iUC"
      },
      "execution_count": 10,
      "outputs": []
    },
    {
      "cell_type": "code",
      "source": [
        "all_data.shape"
      ],
      "metadata": {
        "id": "5l6GG_cX5ngu",
        "colab": {
          "base_uri": "https://localhost:8080/"
        },
        "outputId": "6c588d34-f30c-40b7-99a3-4104cce7c6f7"
      },
      "execution_count": 11,
      "outputs": [
        {
          "output_type": "execute_result",
          "data": {
            "text/plain": [
              "(2540047, 49)"
            ]
          },
          "metadata": {},
          "execution_count": 11
        }
      ]
    },
    {
      "cell_type": "code",
      "source": [
        "all_data.head()"
      ],
      "metadata": {
        "id": "l1PpjvvB5q0s",
        "colab": {
          "base_uri": "https://localhost:8080/",
          "height": 255
        },
        "outputId": "cea48aea-f87b-4e1b-bd59-f9c23631ec36"
      },
      "execution_count": 12,
      "outputs": [
        {
          "output_type": "execute_result",
          "data": {
            "text/plain": [
              "Name       srcip  sport          dstip dsport proto state       dur  sbytes  \\\n",
              "0     59.166.0.0   1390  149.171.126.6     53   udp   CON  0.001055     132   \n",
              "1     59.166.0.0  33661  149.171.126.9   1024   udp   CON  0.036133     528   \n",
              "2     59.166.0.6   1464  149.171.126.7     53   udp   CON  0.001119     146   \n",
              "3     59.166.0.5   3593  149.171.126.5     53   udp   CON  0.001209     132   \n",
              "4     59.166.0.3  49664  149.171.126.0     53   udp   CON  0.001169     146   \n",
              "\n",
              "Name  dbytes  sttl  ...  ct_ftp_cmd  ct_srv_src  ct_srv_dst ct_dst_ltm  \\\n",
              "0        164    31  ...           0           3           7          1   \n",
              "1        304    31  ...           0           2           4          2   \n",
              "2        178    31  ...           0          12           8          1   \n",
              "3        164    31  ...           0           6           9          1   \n",
              "4        178    31  ...           0           7           9          1   \n",
              "\n",
              "Name  ct_src_ltm  ct_src_dport_ltm  ct_dst_sport_ltm  ct_dst_src_ltm  \\\n",
              "0              3                 1                 1               1   \n",
              "1              3                 1                 1               2   \n",
              "2              2                 2                 1               1   \n",
              "3              1                 1                 1               1   \n",
              "4              1                 1                 1               1   \n",
              "\n",
              "Name  attack_cat  label  \n",
              "0            NaN      0  \n",
              "1            NaN      0  \n",
              "2            NaN      0  \n",
              "3            NaN      0  \n",
              "4            NaN      0  \n",
              "\n",
              "[5 rows x 49 columns]"
            ],
            "text/html": [
              "\n",
              "  <div id=\"df-81b1e136-d464-4911-a72b-231e03cdb394\" class=\"colab-df-container\">\n",
              "    <div>\n",
              "<style scoped>\n",
              "    .dataframe tbody tr th:only-of-type {\n",
              "        vertical-align: middle;\n",
              "    }\n",
              "\n",
              "    .dataframe tbody tr th {\n",
              "        vertical-align: top;\n",
              "    }\n",
              "\n",
              "    .dataframe thead th {\n",
              "        text-align: right;\n",
              "    }\n",
              "</style>\n",
              "<table border=\"1\" class=\"dataframe\">\n",
              "  <thead>\n",
              "    <tr style=\"text-align: right;\">\n",
              "      <th>Name</th>\n",
              "      <th>srcip</th>\n",
              "      <th>sport</th>\n",
              "      <th>dstip</th>\n",
              "      <th>dsport</th>\n",
              "      <th>proto</th>\n",
              "      <th>state</th>\n",
              "      <th>dur</th>\n",
              "      <th>sbytes</th>\n",
              "      <th>dbytes</th>\n",
              "      <th>sttl</th>\n",
              "      <th>...</th>\n",
              "      <th>ct_ftp_cmd</th>\n",
              "      <th>ct_srv_src</th>\n",
              "      <th>ct_srv_dst</th>\n",
              "      <th>ct_dst_ltm</th>\n",
              "      <th>ct_src_ltm</th>\n",
              "      <th>ct_src_dport_ltm</th>\n",
              "      <th>ct_dst_sport_ltm</th>\n",
              "      <th>ct_dst_src_ltm</th>\n",
              "      <th>attack_cat</th>\n",
              "      <th>label</th>\n",
              "    </tr>\n",
              "  </thead>\n",
              "  <tbody>\n",
              "    <tr>\n",
              "      <th>0</th>\n",
              "      <td>59.166.0.0</td>\n",
              "      <td>1390</td>\n",
              "      <td>149.171.126.6</td>\n",
              "      <td>53</td>\n",
              "      <td>udp</td>\n",
              "      <td>CON</td>\n",
              "      <td>0.001055</td>\n",
              "      <td>132</td>\n",
              "      <td>164</td>\n",
              "      <td>31</td>\n",
              "      <td>...</td>\n",
              "      <td>0</td>\n",
              "      <td>3</td>\n",
              "      <td>7</td>\n",
              "      <td>1</td>\n",
              "      <td>3</td>\n",
              "      <td>1</td>\n",
              "      <td>1</td>\n",
              "      <td>1</td>\n",
              "      <td>NaN</td>\n",
              "      <td>0</td>\n",
              "    </tr>\n",
              "    <tr>\n",
              "      <th>1</th>\n",
              "      <td>59.166.0.0</td>\n",
              "      <td>33661</td>\n",
              "      <td>149.171.126.9</td>\n",
              "      <td>1024</td>\n",
              "      <td>udp</td>\n",
              "      <td>CON</td>\n",
              "      <td>0.036133</td>\n",
              "      <td>528</td>\n",
              "      <td>304</td>\n",
              "      <td>31</td>\n",
              "      <td>...</td>\n",
              "      <td>0</td>\n",
              "      <td>2</td>\n",
              "      <td>4</td>\n",
              "      <td>2</td>\n",
              "      <td>3</td>\n",
              "      <td>1</td>\n",
              "      <td>1</td>\n",
              "      <td>2</td>\n",
              "      <td>NaN</td>\n",
              "      <td>0</td>\n",
              "    </tr>\n",
              "    <tr>\n",
              "      <th>2</th>\n",
              "      <td>59.166.0.6</td>\n",
              "      <td>1464</td>\n",
              "      <td>149.171.126.7</td>\n",
              "      <td>53</td>\n",
              "      <td>udp</td>\n",
              "      <td>CON</td>\n",
              "      <td>0.001119</td>\n",
              "      <td>146</td>\n",
              "      <td>178</td>\n",
              "      <td>31</td>\n",
              "      <td>...</td>\n",
              "      <td>0</td>\n",
              "      <td>12</td>\n",
              "      <td>8</td>\n",
              "      <td>1</td>\n",
              "      <td>2</td>\n",
              "      <td>2</td>\n",
              "      <td>1</td>\n",
              "      <td>1</td>\n",
              "      <td>NaN</td>\n",
              "      <td>0</td>\n",
              "    </tr>\n",
              "    <tr>\n",
              "      <th>3</th>\n",
              "      <td>59.166.0.5</td>\n",
              "      <td>3593</td>\n",
              "      <td>149.171.126.5</td>\n",
              "      <td>53</td>\n",
              "      <td>udp</td>\n",
              "      <td>CON</td>\n",
              "      <td>0.001209</td>\n",
              "      <td>132</td>\n",
              "      <td>164</td>\n",
              "      <td>31</td>\n",
              "      <td>...</td>\n",
              "      <td>0</td>\n",
              "      <td>6</td>\n",
              "      <td>9</td>\n",
              "      <td>1</td>\n",
              "      <td>1</td>\n",
              "      <td>1</td>\n",
              "      <td>1</td>\n",
              "      <td>1</td>\n",
              "      <td>NaN</td>\n",
              "      <td>0</td>\n",
              "    </tr>\n",
              "    <tr>\n",
              "      <th>4</th>\n",
              "      <td>59.166.0.3</td>\n",
              "      <td>49664</td>\n",
              "      <td>149.171.126.0</td>\n",
              "      <td>53</td>\n",
              "      <td>udp</td>\n",
              "      <td>CON</td>\n",
              "      <td>0.001169</td>\n",
              "      <td>146</td>\n",
              "      <td>178</td>\n",
              "      <td>31</td>\n",
              "      <td>...</td>\n",
              "      <td>0</td>\n",
              "      <td>7</td>\n",
              "      <td>9</td>\n",
              "      <td>1</td>\n",
              "      <td>1</td>\n",
              "      <td>1</td>\n",
              "      <td>1</td>\n",
              "      <td>1</td>\n",
              "      <td>NaN</td>\n",
              "      <td>0</td>\n",
              "    </tr>\n",
              "  </tbody>\n",
              "</table>\n",
              "<p>5 rows × 49 columns</p>\n",
              "</div>\n",
              "    <div class=\"colab-df-buttons\">\n",
              "\n",
              "  <div class=\"colab-df-container\">\n",
              "    <button class=\"colab-df-convert\" onclick=\"convertToInteractive('df-81b1e136-d464-4911-a72b-231e03cdb394')\"\n",
              "            title=\"Convert this dataframe to an interactive table.\"\n",
              "            style=\"display:none;\">\n",
              "\n",
              "  <svg xmlns=\"http://www.w3.org/2000/svg\" height=\"24px\" viewBox=\"0 -960 960 960\">\n",
              "    <path d=\"M120-120v-720h720v720H120Zm60-500h600v-160H180v160Zm220 220h160v-160H400v160Zm0 220h160v-160H400v160ZM180-400h160v-160H180v160Zm440 0h160v-160H620v160ZM180-180h160v-160H180v160Zm440 0h160v-160H620v160Z\"/>\n",
              "  </svg>\n",
              "    </button>\n",
              "\n",
              "  <style>\n",
              "    .colab-df-container {\n",
              "      display:flex;\n",
              "      gap: 12px;\n",
              "    }\n",
              "\n",
              "    .colab-df-convert {\n",
              "      background-color: #E8F0FE;\n",
              "      border: none;\n",
              "      border-radius: 50%;\n",
              "      cursor: pointer;\n",
              "      display: none;\n",
              "      fill: #1967D2;\n",
              "      height: 32px;\n",
              "      padding: 0 0 0 0;\n",
              "      width: 32px;\n",
              "    }\n",
              "\n",
              "    .colab-df-convert:hover {\n",
              "      background-color: #E2EBFA;\n",
              "      box-shadow: 0px 1px 2px rgba(60, 64, 67, 0.3), 0px 1px 3px 1px rgba(60, 64, 67, 0.15);\n",
              "      fill: #174EA6;\n",
              "    }\n",
              "\n",
              "    .colab-df-buttons div {\n",
              "      margin-bottom: 4px;\n",
              "    }\n",
              "\n",
              "    [theme=dark] .colab-df-convert {\n",
              "      background-color: #3B4455;\n",
              "      fill: #D2E3FC;\n",
              "    }\n",
              "\n",
              "    [theme=dark] .colab-df-convert:hover {\n",
              "      background-color: #434B5C;\n",
              "      box-shadow: 0px 1px 3px 1px rgba(0, 0, 0, 0.15);\n",
              "      filter: drop-shadow(0px 1px 2px rgba(0, 0, 0, 0.3));\n",
              "      fill: #FFFFFF;\n",
              "    }\n",
              "  </style>\n",
              "\n",
              "    <script>\n",
              "      const buttonEl =\n",
              "        document.querySelector('#df-81b1e136-d464-4911-a72b-231e03cdb394 button.colab-df-convert');\n",
              "      buttonEl.style.display =\n",
              "        google.colab.kernel.accessAllowed ? 'block' : 'none';\n",
              "\n",
              "      async function convertToInteractive(key) {\n",
              "        const element = document.querySelector('#df-81b1e136-d464-4911-a72b-231e03cdb394');\n",
              "        const dataTable =\n",
              "          await google.colab.kernel.invokeFunction('convertToInteractive',\n",
              "                                                    [key], {});\n",
              "        if (!dataTable) return;\n",
              "\n",
              "        const docLinkHtml = 'Like what you see? Visit the ' +\n",
              "          '<a target=\"_blank\" href=https://colab.research.google.com/notebooks/data_table.ipynb>data table notebook</a>'\n",
              "          + ' to learn more about interactive tables.';\n",
              "        element.innerHTML = '';\n",
              "        dataTable['output_type'] = 'display_data';\n",
              "        await google.colab.output.renderOutput(dataTable, element);\n",
              "        const docLink = document.createElement('div');\n",
              "        docLink.innerHTML = docLinkHtml;\n",
              "        element.appendChild(docLink);\n",
              "      }\n",
              "    </script>\n",
              "  </div>\n",
              "\n",
              "\n",
              "<div id=\"df-7565d994-98f6-4284-91e8-3d6b3af9d42a\">\n",
              "  <button class=\"colab-df-quickchart\" onclick=\"quickchart('df-7565d994-98f6-4284-91e8-3d6b3af9d42a')\"\n",
              "            title=\"Suggest charts\"\n",
              "            style=\"display:none;\">\n",
              "\n",
              "<svg xmlns=\"http://www.w3.org/2000/svg\" height=\"24px\"viewBox=\"0 0 24 24\"\n",
              "     width=\"24px\">\n",
              "    <g>\n",
              "        <path d=\"M19 3H5c-1.1 0-2 .9-2 2v14c0 1.1.9 2 2 2h14c1.1 0 2-.9 2-2V5c0-1.1-.9-2-2-2zM9 17H7v-7h2v7zm4 0h-2V7h2v10zm4 0h-2v-4h2v4z\"/>\n",
              "    </g>\n",
              "</svg>\n",
              "  </button>\n",
              "\n",
              "<style>\n",
              "  .colab-df-quickchart {\n",
              "      --bg-color: #E8F0FE;\n",
              "      --fill-color: #1967D2;\n",
              "      --hover-bg-color: #E2EBFA;\n",
              "      --hover-fill-color: #174EA6;\n",
              "      --disabled-fill-color: #AAA;\n",
              "      --disabled-bg-color: #DDD;\n",
              "  }\n",
              "\n",
              "  [theme=dark] .colab-df-quickchart {\n",
              "      --bg-color: #3B4455;\n",
              "      --fill-color: #D2E3FC;\n",
              "      --hover-bg-color: #434B5C;\n",
              "      --hover-fill-color: #FFFFFF;\n",
              "      --disabled-bg-color: #3B4455;\n",
              "      --disabled-fill-color: #666;\n",
              "  }\n",
              "\n",
              "  .colab-df-quickchart {\n",
              "    background-color: var(--bg-color);\n",
              "    border: none;\n",
              "    border-radius: 50%;\n",
              "    cursor: pointer;\n",
              "    display: none;\n",
              "    fill: var(--fill-color);\n",
              "    height: 32px;\n",
              "    padding: 0;\n",
              "    width: 32px;\n",
              "  }\n",
              "\n",
              "  .colab-df-quickchart:hover {\n",
              "    background-color: var(--hover-bg-color);\n",
              "    box-shadow: 0 1px 2px rgba(60, 64, 67, 0.3), 0 1px 3px 1px rgba(60, 64, 67, 0.15);\n",
              "    fill: var(--button-hover-fill-color);\n",
              "  }\n",
              "\n",
              "  .colab-df-quickchart-complete:disabled,\n",
              "  .colab-df-quickchart-complete:disabled:hover {\n",
              "    background-color: var(--disabled-bg-color);\n",
              "    fill: var(--disabled-fill-color);\n",
              "    box-shadow: none;\n",
              "  }\n",
              "\n",
              "  .colab-df-spinner {\n",
              "    border: 2px solid var(--fill-color);\n",
              "    border-color: transparent;\n",
              "    border-bottom-color: var(--fill-color);\n",
              "    animation:\n",
              "      spin 1s steps(1) infinite;\n",
              "  }\n",
              "\n",
              "  @keyframes spin {\n",
              "    0% {\n",
              "      border-color: transparent;\n",
              "      border-bottom-color: var(--fill-color);\n",
              "      border-left-color: var(--fill-color);\n",
              "    }\n",
              "    20% {\n",
              "      border-color: transparent;\n",
              "      border-left-color: var(--fill-color);\n",
              "      border-top-color: var(--fill-color);\n",
              "    }\n",
              "    30% {\n",
              "      border-color: transparent;\n",
              "      border-left-color: var(--fill-color);\n",
              "      border-top-color: var(--fill-color);\n",
              "      border-right-color: var(--fill-color);\n",
              "    }\n",
              "    40% {\n",
              "      border-color: transparent;\n",
              "      border-right-color: var(--fill-color);\n",
              "      border-top-color: var(--fill-color);\n",
              "    }\n",
              "    60% {\n",
              "      border-color: transparent;\n",
              "      border-right-color: var(--fill-color);\n",
              "    }\n",
              "    80% {\n",
              "      border-color: transparent;\n",
              "      border-right-color: var(--fill-color);\n",
              "      border-bottom-color: var(--fill-color);\n",
              "    }\n",
              "    90% {\n",
              "      border-color: transparent;\n",
              "      border-bottom-color: var(--fill-color);\n",
              "    }\n",
              "  }\n",
              "</style>\n",
              "\n",
              "  <script>\n",
              "    async function quickchart(key) {\n",
              "      const quickchartButtonEl =\n",
              "        document.querySelector('#' + key + ' button');\n",
              "      quickchartButtonEl.disabled = true;  // To prevent multiple clicks.\n",
              "      quickchartButtonEl.classList.add('colab-df-spinner');\n",
              "      try {\n",
              "        const charts = await google.colab.kernel.invokeFunction(\n",
              "            'suggestCharts', [key], {});\n",
              "      } catch (error) {\n",
              "        console.error('Error during call to suggestCharts:', error);\n",
              "      }\n",
              "      quickchartButtonEl.classList.remove('colab-df-spinner');\n",
              "      quickchartButtonEl.classList.add('colab-df-quickchart-complete');\n",
              "    }\n",
              "    (() => {\n",
              "      let quickchartButtonEl =\n",
              "        document.querySelector('#df-7565d994-98f6-4284-91e8-3d6b3af9d42a button');\n",
              "      quickchartButtonEl.style.display =\n",
              "        google.colab.kernel.accessAllowed ? 'block' : 'none';\n",
              "    })();\n",
              "  </script>\n",
              "</div>\n",
              "\n",
              "    </div>\n",
              "  </div>\n"
            ],
            "application/vnd.google.colaboratory.intrinsic+json": {
              "type": "dataframe",
              "variable_name": "all_data"
            }
          },
          "metadata": {},
          "execution_count": 12
        }
      ]
    },
    {
      "cell_type": "code",
      "source": [
        "train, test = train_test_split(all_data, test_size=0.3, random_state=16)"
      ],
      "metadata": {
        "id": "dPAe3siL5y_w"
      },
      "execution_count": 13,
      "outputs": []
    },
    {
      "cell_type": "code",
      "source": [
        "del all_data"
      ],
      "metadata": {
        "id": "6CWR0hm26Od5"
      },
      "execution_count": 14,
      "outputs": []
    },
    {
      "cell_type": "code",
      "source": [
        "print(train.shape,'\\n',test.shape)"
      ],
      "metadata": {
        "id": "t9UaoB_T6TH9",
        "colab": {
          "base_uri": "https://localhost:8080/"
        },
        "outputId": "326de506-d792-414e-cf93-7c54dcf4581d"
      },
      "execution_count": 15,
      "outputs": [
        {
          "output_type": "stream",
          "name": "stdout",
          "text": [
            "(1778032, 49) \n",
            " (762015, 49)\n"
          ]
        }
      ]
    },
    {
      "cell_type": "code",
      "source": [
        "# checking for null values\n",
        "train.isnull().sum()"
      ],
      "metadata": {
        "id": "hkPbLDlI6VQV",
        "colab": {
          "base_uri": "https://localhost:8080/"
        },
        "outputId": "686f3f37-d043-4923-906e-6a684589c7a1"
      },
      "execution_count": 16,
      "outputs": [
        {
          "output_type": "execute_result",
          "data": {
            "text/plain": [
              "Name\n",
              "srcip                     0\n",
              "sport                     0\n",
              "dstip                     0\n",
              "dsport                    0\n",
              "proto                     0\n",
              "state                     0\n",
              "dur                       0\n",
              "sbytes                    0\n",
              "dbytes                    0\n",
              "sttl                      0\n",
              "dttl                      0\n",
              "sloss                     0\n",
              "dloss                     0\n",
              "service                   0\n",
              "sload                     0\n",
              "dload                     0\n",
              "spkts                     0\n",
              "dpkts                     0\n",
              "swin                      0\n",
              "dwin                      0\n",
              "stcpb                     0\n",
              "dtcpb                     0\n",
              "smeansz                   0\n",
              "dmeansz                   0\n",
              "trans_depth               0\n",
              "res_bdy_len               0\n",
              "sjit                      0\n",
              "djit                      0\n",
              "stime                     0\n",
              "ltime                     0\n",
              "sintpkt                   0\n",
              "dintpkt                   0\n",
              "tcprtt                    0\n",
              "synack                    0\n",
              "ackdat                    0\n",
              "is_sm_ips_ports           0\n",
              "ct_state_ttl              0\n",
              "ct_flw_http_mthd     943876\n",
              "is_ftp_login        1001037\n",
              "ct_ftp_cmd                0\n",
              "ct_srv_src                0\n",
              "ct_srv_dst                0\n",
              "ct_dst_ltm                0\n",
              "ct_src_ltm                0\n",
              "ct_src_dport_ltm          0\n",
              "ct_dst_sport_ltm          0\n",
              "ct_dst_src_ltm            0\n",
              "attack_cat          1552862\n",
              "label                     0\n",
              "dtype: int64"
            ]
          },
          "metadata": {},
          "execution_count": 16
        }
      ]
    },
    {
      "cell_type": "code",
      "source": [
        "train['attack_cat'].value_counts()"
      ],
      "metadata": {
        "id": "rgsyIkJV6XCO",
        "colab": {
          "base_uri": "https://localhost:8080/"
        },
        "outputId": "fb1ca96f-4884-4211-d8cc-a071fe4968d8"
      },
      "execution_count": 17,
      "outputs": [
        {
          "output_type": "execute_result",
          "data": {
            "text/plain": [
              "attack_cat\n",
              "Generic             150906\n",
              "Exploits             31507\n",
              " Fuzzers             13345\n",
              "DoS                  11433\n",
              " Reconnaissance       8544\n",
              " Fuzzers              3569\n",
              "Analysis              1855\n",
              "Backdoor              1242\n",
              "Reconnaissance        1220\n",
              " Shellcode             904\n",
              "Backdoors              374\n",
              "Shellcode              151\n",
              "Worms                  120\n",
              "Name: count, dtype: int64"
            ]
          },
          "metadata": {},
          "execution_count": 17
        }
      ]
    },
    {
      "cell_type": "code",
      "source": [
        "# We don't have \"normal\" values for \"attack_cat\", so we must fill Null values with \"normal\"\n",
        "train['attack_cat'] = train.attack_cat.fillna(value='normal').apply(lambda x: x.strip().lower())"
      ],
      "metadata": {
        "id": "Jr_eihfJ6iE-"
      },
      "execution_count": 18,
      "outputs": []
    },
    {
      "cell_type": "code",
      "source": [
        "train['attack_cat'].value_counts()"
      ],
      "metadata": {
        "id": "Xruq8Xgu6oUp",
        "colab": {
          "base_uri": "https://localhost:8080/"
        },
        "outputId": "85f4b236-a020-4bde-aba3-33ac6e4bc2b2"
      },
      "execution_count": 19,
      "outputs": [
        {
          "output_type": "execute_result",
          "data": {
            "text/plain": [
              "attack_cat\n",
              "normal            1552862\n",
              "generic            150906\n",
              "exploits            31507\n",
              "fuzzers             16914\n",
              "dos                 11433\n",
              "reconnaissance       9764\n",
              "analysis             1855\n",
              "backdoor             1242\n",
              "shellcode            1055\n",
              "backdoors             374\n",
              "worms                 120\n",
              "Name: count, dtype: int64"
            ]
          },
          "metadata": {},
          "execution_count": 19
        }
      ]
    },
    {
      "cell_type": "code",
      "source": [
        "train['ct_flw_http_mthd'] = train.ct_flw_http_mthd.fillna(value=0)"
      ],
      "metadata": {
        "id": "3vK5HTwL6p3-"
      },
      "execution_count": 20,
      "outputs": []
    },
    {
      "cell_type": "code",
      "source": [
        "# Even though it's a binary column, but there're values like 2 and 4\n",
        "train['is_ftp_login'].value_counts()"
      ],
      "metadata": {
        "id": "a0j6F6V26w2D",
        "colab": {
          "base_uri": "https://localhost:8080/"
        },
        "outputId": "5a63b9f9-26d4-4d67-b6a2-59d160110909"
      },
      "execution_count": 21,
      "outputs": [
        {
          "output_type": "execute_result",
          "data": {
            "text/plain": [
              "is_ftp_login\n",
              "0.0    746536\n",
              "1.0     30329\n",
              "4.0       109\n",
              "2.0        21\n",
              "Name: count, dtype: int64"
            ]
          },
          "metadata": {},
          "execution_count": 21
        }
      ]
    },
    {
      "cell_type": "code",
      "source": [
        "train['is_ftp_login'] = (train.is_ftp_login.fillna(value=0)).astype(int)"
      ],
      "metadata": {
        "id": "tSKSqF6861YV"
      },
      "execution_count": 22,
      "outputs": []
    },
    {
      "cell_type": "code",
      "source": [
        "# There are no Null values in the train data anymore\n",
        "train.isnull().sum().sum()"
      ],
      "metadata": {
        "id": "EOdlWc-0627m",
        "colab": {
          "base_uri": "https://localhost:8080/"
        },
        "outputId": "417f40ae-30c5-4866-b3a6-750a632c756d"
      },
      "execution_count": 23,
      "outputs": [
        {
          "output_type": "execute_result",
          "data": {
            "text/plain": [
              "0"
            ]
          },
          "metadata": {},
          "execution_count": 23
        }
      ]
    },
    {
      "cell_type": "code",
      "source": [
        "# Getting name of all the columns\n",
        "train.columns"
      ],
      "metadata": {
        "id": "0MG5ecs768A9",
        "colab": {
          "base_uri": "https://localhost:8080/"
        },
        "outputId": "7ac9d7df-9a3e-4fd1-d4f6-d185db3265ee"
      },
      "execution_count": 24,
      "outputs": [
        {
          "output_type": "execute_result",
          "data": {
            "text/plain": [
              "Index(['srcip', 'sport', 'dstip', 'dsport', 'proto', 'state', 'dur', 'sbytes',\n",
              "       'dbytes', 'sttl', 'dttl', 'sloss', 'dloss', 'service', 'sload', 'dload',\n",
              "       'spkts', 'dpkts', 'swin', 'dwin', 'stcpb', 'dtcpb', 'smeansz',\n",
              "       'dmeansz', 'trans_depth', 'res_bdy_len', 'sjit', 'djit', 'stime',\n",
              "       'ltime', 'sintpkt', 'dintpkt', 'tcprtt', 'synack', 'ackdat',\n",
              "       'is_sm_ips_ports', 'ct_state_ttl', 'ct_flw_http_mthd', 'is_ftp_login',\n",
              "       'ct_ftp_cmd', 'ct_srv_src', 'ct_srv_dst', 'ct_dst_ltm', 'ct_src_ltm',\n",
              "       'ct_src_dport_ltm', 'ct_dst_sport_ltm', 'ct_dst_src_ltm', 'attack_cat',\n",
              "       'label'],\n",
              "      dtype='object', name='Name')"
            ]
          },
          "metadata": {},
          "execution_count": 24
        }
      ]
    },
    {
      "cell_type": "code",
      "source": [
        "train_0, train_1 = train['label'].value_counts()[0] / len(train.index), train['label'].value_counts()[1] / len(train.index)\n",
        "test_0, test_1 = test['label'].value_counts()[0] / len(test.index), test['label'].value_counts()[1] / len(test.index)\n",
        "\n",
        "print(\"In Train: there are {} % of class 0 and {} % of class 1\".format(train_0, train_1))\n",
        "print(\"In Test: there are {} % of class 0 and {} % of class 1\".format(test_0, test_1))"
      ],
      "metadata": {
        "id": "W5GlPudi6-8d",
        "colab": {
          "base_uri": "https://localhost:8080/"
        },
        "outputId": "26ff3b62-d6cc-4b08-d2f2-bb3f0b774a0f"
      },
      "execution_count": 25,
      "outputs": [
        {
          "output_type": "stream",
          "name": "stdout",
          "text": [
            "In Train: there are 0.8733599845222133 % of class 0 and 0.12664001547778667 % of class 1\n",
            "In Test: there are 0.8738699369434985 % of class 0 and 0.1261300630565015 % of class 1\n"
          ]
        }
      ]
    },
    {
      "cell_type": "code",
      "source": [
        "# Plotting target label distribution\n",
        "plt.figure()\n",
        "plt.title(\"class distribution of train and test dataset\")\n",
        "train['label'].value_counts().plot(kind=\"bar\", color='b', label=\"train\")\n",
        "test['label'].value_counts().plot(kind=\"bar\", color='orange', label=\"test\")\n",
        "plt.xlabel(\"Class\")\n",
        "plt.ylabel(\"Count\")\n",
        "plt.legend()\n",
        "plt.show()"
      ],
      "metadata": {
        "id": "uNKuh9S07PtD",
        "colab": {
          "base_uri": "https://localhost:8080/",
          "height": 467
        },
        "outputId": "c80fe5d2-515b-4f14-c6c5-43de27b02c42"
      },
      "execution_count": 26,
      "outputs": [
        {
          "output_type": "display_data",
          "data": {
            "text/plain": [
              "<Figure size 640x480 with 1 Axes>"
            ],
            "image/png": "[encoded data removed]"
          },
          "metadata": {}
        }
      ]
    },
    {
      "cell_type": "code",
      "source": [
        "# Check if any null value present in datasets\n",
        "train.isnull().sum().sum(), test.isnull().sum().sum()  # No Null in train and test data is still raw"
      ],
      "metadata": {
        "id": "2Dwh9RVb7Sfi",
        "colab": {
          "base_uri": "https://localhost:8080/"
        },
        "outputId": "53b5fca7-77f9-4c5f-8e17-ed8cca428d37"
      },
      "execution_count": 27,
      "outputs": [
        {
          "output_type": "execute_result",
          "data": {
            "text/plain": [
              "(0, 1499013)"
            ]
          },
          "metadata": {},
          "execution_count": 27
        }
      ]
    },
    {
      "cell_type": "code",
      "source": [
        "train.info()"
      ],
      "metadata": {
        "id": "aNeu-8vc7UuY",
        "colab": {
          "base_uri": "https://localhost:8080/"
        },
        "outputId": "48166c81-d679-44c0-a3f8-5aa4b1ce7b93"
      },
      "execution_count": 28,
      "outputs": [
        {
          "output_type": "stream",
          "name": "stdout",
          "text": [
            "<class 'pandas.core.frame.DataFrame'>\n",
            "Index: 1778032 entries, 81030 to 2079982\n",
            "Data columns (total 49 columns):\n",
            " #   Column            Dtype  \n",
            "---  ------            -----  \n",
            " 0   srcip             object \n",
            " 1   sport             object \n",
            " 2   dstip             object \n",
            " 3   dsport            object \n",
            " 4   proto             object \n",
            " 5   state             object \n",
            " 6   dur               float64\n",
            " 7   sbytes            int64  \n",
            " 8   dbytes            int64  \n",
            " 9   sttl              int64  \n",
            " 10  dttl              int64  \n",
            " 11  sloss             int64  \n",
            " 12  dloss             int64  \n",
            " 13  service           object \n",
            " 14  sload             float64\n",
            " 15  dload             float64\n",
            " 16  spkts             int64  \n",
            " 17  dpkts             int64  \n",
            " 18  swin              int64  \n",
            " 19  dwin              int64  \n",
            " 20  stcpb             int64  \n",
            " 21  dtcpb             int64  \n",
            " 22  smeansz           int64  \n",
            " 23  dmeansz           int64  \n",
            " 24  trans_depth       int64  \n",
            " 25  res_bdy_len       int64  \n",
            " 26  sjit              float64\n",
            " 27  djit              float64\n",
            " 28  stime             int64  \n",
            " 29  ltime             int64  \n",
            " 30  sintpkt           float64\n",
            " 31  dintpkt           float64\n",
            " 32  tcprtt            float64\n",
            " 33  synack            float64\n",
            " 34  ackdat            float64\n",
            " 35  is_sm_ips_ports   int64  \n",
            " 36  ct_state_ttl      int64  \n",
            " 37  ct_flw_http_mthd  float64\n",
            " 38  is_ftp_login      int64  \n",
            " 39  ct_ftp_cmd        object \n",
            " 40  ct_srv_src        int64  \n",
            " 41  ct_srv_dst        int64  \n",
            " 42  ct_dst_ltm        int64  \n",
            " 43  ct_src_ltm        int64  \n",
            " 44  ct_src_dport_ltm  int64  \n",
            " 45  ct_dst_sport_ltm  int64  \n",
            " 46  ct_dst_src_ltm    int64  \n",
            " 47  attack_cat        object \n",
            " 48  label             int64  \n",
            "dtypes: float64(11), int64(29), object(9)\n",
            "memory usage: 678.3+ MB\n"
          ]
        }
      ]
    },
    {
      "cell_type": "code",
      "source": [
        "# All the datatypes in our dataset\n",
        "train.dtypes.value_counts()"
      ],
      "metadata": {
        "id": "qewo7qr67Xc-",
        "colab": {
          "base_uri": "https://localhost:8080/"
        },
        "outputId": "fb4f8974-8fd3-4c93-d383-991c53a4610a"
      },
      "execution_count": 29,
      "outputs": [
        {
          "output_type": "execute_result",
          "data": {
            "text/plain": [
              "int64      29\n",
              "float64    11\n",
              "object      9\n",
              "Name: count, dtype: int64"
            ]
          },
          "metadata": {},
          "execution_count": 29
        }
      ]
    },
    {
      "cell_type": "code",
      "source": [
        "# Categorical feature names\n",
        "#you're instructing pandas to select columns whose data types are not numeric.\n",
        "train.select_dtypes(exclude=np.number).columns"
      ],
      "metadata": {
        "id": "rapKXt3X7Yky",
        "colab": {
          "base_uri": "https://localhost:8080/"
        },
        "outputId": "edb1453b-4ca8-4341-af21-780f5c55c4d6"
      },
      "execution_count": 30,
      "outputs": [
        {
          "output_type": "execute_result",
          "data": {
            "text/plain": [
              "Index(['srcip', 'sport', 'dstip', 'dsport', 'proto', 'state', 'service',\n",
              "       'ct_ftp_cmd', 'attack_cat'],\n",
              "      dtype='object', name='Name')"
            ]
          },
          "metadata": {},
          "execution_count": 30
        }
      ]
    },
    {
      "cell_type": "code",
      "source": [
        "# In the research paper it was mentioned that, this is a numerical feature not a categorical\n",
        "train['ct_ftp_cmd'].unique()"
      ],
      "metadata": {
        "id": "uyOQqOru7oEw",
        "colab": {
          "base_uri": "https://localhost:8080/"
        },
        "outputId": "90bc1ce0-6297-402e-cd1f-af0e366b1d19"
      },
      "execution_count": 31,
      "outputs": [
        {
          "output_type": "execute_result",
          "data": {
            "text/plain": [
              "array([0, ' ', 1, '1', '0', 5, 2, 3, 4, '4', 6, '2', 8], dtype=object)"
            ]
          },
          "metadata": {},
          "execution_count": 31
        }
      ]
    },
    {
      "cell_type": "code",
      "source": [
        "# Removing empty space and converting it to numerical\n",
        "train['ct_ftp_cmd'] = train['ct_ftp_cmd'].replace(to_replace=' ', value=0).astype(int)"
      ],
      "metadata": {
        "id": "aGlM5C0x8KSG"
      },
      "execution_count": 32,
      "outputs": []
    },
    {
      "cell_type": "code",
      "source": [
        "train['ct_ftp_cmd'].unique()"
      ],
      "metadata": {
        "id": "rH8H-iog8aMK",
        "colab": {
          "base_uri": "https://localhost:8080/"
        },
        "outputId": "4bece1eb-22e6-4c48-e059-12ecf0ce76f3"
      },
      "execution_count": 33,
      "outputs": [
        {
          "output_type": "execute_result",
          "data": {
            "text/plain": [
              "array([0, 1, 5, 2, 3, 4, 6, 8])"
            ]
          },
          "metadata": {},
          "execution_count": 33
        }
      ]
    },
    {
      "cell_type": "code",
      "source": [
        "# Categorical feature names\n",
        "train.select_dtypes(exclude=np.number).columns"
      ],
      "metadata": {
        "id": "kNH-zAB98fjJ",
        "colab": {
          "base_uri": "https://localhost:8080/"
        },
        "outputId": "a9f2872d-4678-49de-a120-f959d42f4d01"
      },
      "execution_count": 34,
      "outputs": [
        {
          "output_type": "execute_result",
          "data": {
            "text/plain": [
              "Index(['srcip', 'sport', 'dstip', 'dsport', 'proto', 'state', 'service',\n",
              "       'attack_cat'],\n",
              "      dtype='object', name='Name')"
            ]
          },
          "metadata": {},
          "execution_count": 34
        }
      ]
    },
    {
      "cell_type": "code",
      "source": [
        "# Numeric features names\n",
        "train.select_dtypes(include=np.number).columns"
      ],
      "metadata": {
        "id": "5anRnfrA8g3n",
        "colab": {
          "base_uri": "https://localhost:8080/"
        },
        "outputId": "338b31a5-c588-4fc7-e0cf-d54d35d473e2"
      },
      "execution_count": 35,
      "outputs": [
        {
          "output_type": "execute_result",
          "data": {
            "text/plain": [
              "Index(['dur', 'sbytes', 'dbytes', 'sttl', 'dttl', 'sloss', 'dloss', 'sload',\n",
              "       'dload', 'spkts', 'dpkts', 'swin', 'dwin', 'stcpb', 'dtcpb', 'smeansz',\n",
              "       'dmeansz', 'trans_depth', 'res_bdy_len', 'sjit', 'djit', 'stime',\n",
              "       'ltime', 'sintpkt', 'dintpkt', 'tcprtt', 'synack', 'ackdat',\n",
              "       'is_sm_ips_ports', 'ct_state_ttl', 'ct_flw_http_mthd', 'is_ftp_login',\n",
              "       'ct_ftp_cmd', 'ct_srv_src', 'ct_srv_dst', 'ct_dst_ltm', 'ct_src_ltm',\n",
              "       'ct_src_dport_ltm', 'ct_dst_sport_ltm', 'ct_dst_src_ltm', 'label'],\n",
              "      dtype='object', name='Name')"
            ]
          },
          "metadata": {},
          "execution_count": 35
        }
      ]
    },
    {
      "cell_type": "code",
      "source": [
        " # Info for test data transformation\n",
        "saved_dict['binary_col'] = ['is_sm_ips_ports', 'is_ftp_login']"
      ],
      "metadata": {
        "id": "Bom_08gn8jr0"
      },
      "execution_count": 36,
      "outputs": []
    },
    {
      "cell_type": "code",
      "source": [
        "# see if binary columns are really binary\n",
        "for col in 'is_sm_ips_ports', 'is_ftp_login':\n",
        "    print(train[col].value_counts())\n",
        "    print()"
      ],
      "metadata": {
        "id": "FuUwQUuk9Zor",
        "colab": {
          "base_uri": "https://localhost:8080/"
        },
        "outputId": "8a9f8eb8-488d-4939-d970-5da80bf13f0a"
      },
      "execution_count": 37,
      "outputs": [
        {
          "output_type": "stream",
          "name": "stdout",
          "text": [
            "is_sm_ips_ports\n",
            "0    1775116\n",
            "1       2916\n",
            "Name: count, dtype: int64\n",
            "\n",
            "is_ftp_login\n",
            "0    1747573\n",
            "1      30329\n",
            "4        109\n",
            "2         21\n",
            "Name: count, dtype: int64\n",
            "\n"
          ]
        }
      ]
    },
    {
      "cell_type": "code",
      "source": [
        "# The col \"is_ftp_login\" has few wrong values like 2, 4. It should only have 0 and 1, If the ftp session is accessed by user and\n",
        "# password then 1 else 0. Need to fix this.\n",
        "\n",
        "# Replacing all the values apart from 0 and 1 from these two columns.\n",
        "train['is_ftp_login'] = np.where(train['is_ftp_login']>1, 1, train['is_ftp_login'])"
      ],
      "metadata": {
        "id": "YMzAdsyi9biP"
      },
      "execution_count": 38,
      "outputs": []
    },
    {
      "cell_type": "code",
      "source": [
        "train['is_ftp_login'].value_counts()"
      ],
      "metadata": {
        "id": "pb-5gXpw9lxA",
        "colab": {
          "base_uri": "https://localhost:8080/"
        },
        "outputId": "60bd42d0-3337-46d3-87cb-7339430ad97d"
      },
      "execution_count": 39,
      "outputs": [
        {
          "output_type": "execute_result",
          "data": {
            "text/plain": [
              "is_ftp_login\n",
              "0    1747573\n",
              "1      30459\n",
              "Name: count, dtype: int64"
            ]
          },
          "metadata": {},
          "execution_count": 39
        }
      ]
    },
    {
      "cell_type": "code",
      "source": [
        "train['service'].value_counts()"
      ],
      "metadata": {
        "id": "K2SJwfsA9oUn",
        "colab": {
          "base_uri": "https://localhost:8080/"
        },
        "outputId": "c33a8f62-f1a6-4f5a-a029-f70e38202971"
      },
      "execution_count": 40,
      "outputs": [
        {
          "output_type": "execute_result",
          "data": {
            "text/plain": [
              "service\n",
              "-           872286\n",
              "dns         547094\n",
              "http        144555\n",
              "ftp-data     88310\n",
              "smtp         57160\n",
              "ftp          34293\n",
              "ssh          32897\n",
              "pop3          1076\n",
              "dhcp           124\n",
              "ssl            109\n",
              "snmp            81\n",
              "radius          27\n",
              "irc             20\n",
              "Name: count, dtype: int64"
            ]
          },
          "metadata": {},
          "execution_count": 40
        }
      ]
    },
    {
      "cell_type": "code",
      "source": [
        "# removing all the \"-\" and replacing those with \"None\"\n",
        "train['service'] = train['service'].apply(lambda x:\"None\" if x==\"-\" else x)"
      ],
      "metadata": {
        "id": "F2rvzcKY9tEY"
      },
      "execution_count": 41,
      "outputs": []
    },
    {
      "cell_type": "code",
      "source": [
        "train['service'].value_counts()"
      ],
      "metadata": {
        "id": "qpFv2WUg9wzl",
        "colab": {
          "base_uri": "https://localhost:8080/"
        },
        "outputId": "b61c0a53-2a5a-41c3-873c-f9bb09a41b56"
      },
      "execution_count": 42,
      "outputs": [
        {
          "output_type": "execute_result",
          "data": {
            "text/plain": [
              "service\n",
              "None        872286\n",
              "dns         547094\n",
              "http        144555\n",
              "ftp-data     88310\n",
              "smtp         57160\n",
              "ftp          34293\n",
              "ssh          32897\n",
              "pop3          1076\n",
              "dhcp           124\n",
              "ssl            109\n",
              "snmp            81\n",
              "radius          27\n",
              "irc             20\n",
              "Name: count, dtype: int64"
            ]
          },
          "metadata": {},
          "execution_count": 42
        }
      ]
    },
    {
      "cell_type": "code",
      "source": [
        "# In the research paper there are not 10 unique values\n",
        "train['attack_cat'].nunique()"
      ],
      "metadata": {
        "colab": {
          "base_uri": "https://localhost:8080/"
        },
        "id": "zgczesmrS_k4",
        "outputId": "2a87518b-1ac8-4688-e6f2-ee454caac945"
      },
      "execution_count": 43,
      "outputs": [
        {
          "output_type": "execute_result",
          "data": {
            "text/plain": [
              "11"
            ]
          },
          "metadata": {},
          "execution_count": 43
        }
      ]
    },
    {
      "cell_type": "code",
      "source": [
        "train['attack_cat'].value_counts()"
      ],
      "metadata": {
        "colab": {
          "base_uri": "https://localhost:8080/"
        },
        "id": "NpWang0UTI3x",
        "outputId": "16e93284-4c46-49e5-c396-b4b98ca948aa"
      },
      "execution_count": 44,
      "outputs": [
        {
          "output_type": "execute_result",
          "data": {
            "text/plain": [
              "attack_cat\n",
              "normal            1552862\n",
              "generic            150906\n",
              "exploits            31507\n",
              "fuzzers             16914\n",
              "dos                 11433\n",
              "reconnaissance       9764\n",
              "analysis             1855\n",
              "backdoor             1242\n",
              "shellcode            1055\n",
              "backdoors             374\n",
              "worms                 120\n",
              "Name: count, dtype: int64"
            ]
          },
          "metadata": {},
          "execution_count": 44
        }
      ]
    },
    {
      "cell_type": "code",
      "source": [
        "train['attack_cat'] = train['attack_cat'].replace('backdoors','backdoor', regex=True).apply(lambda x: x.strip().lower())"
      ],
      "metadata": {
        "id": "ka-q6C3MTLx5"
      },
      "execution_count": 45,
      "outputs": []
    },
    {
      "cell_type": "code",
      "source": [
        "train.shape, test.shape"
      ],
      "metadata": {
        "colab": {
          "base_uri": "https://localhost:8080/"
        },
        "id": "MfcQjYXsTPwj",
        "outputId": "4b1fe0ba-644d-4f98-8ebe-89842d9aabac"
      },
      "execution_count": 46,
      "outputs": [
        {
          "output_type": "execute_result",
          "data": {
            "text/plain": [
              "((1778032, 49), (762015, 49))"
            ]
          },
          "metadata": {},
          "execution_count": 46
        }
      ]
    },
    {
      "cell_type": "code",
      "source": [
        "train.to_csv('/content/drive/MyDrive/UNSW/UNSW-NB15/Cleaned_UNSW_Trained_Data.txt', index=False)\n",
        "test.to_csv('/content/drive/MyDrive/UNSW/UNSW-NB15/Cleaned_UNSW_Tested_Data.txt', index=False)"
      ],
      "metadata": {
        "id": "2OpK6LTRTR5k"
      },
      "execution_count": 47,
      "outputs": []
    },
    {
      "cell_type": "code",
      "source": [],
      "metadata": {
        "id": "n0t-ZzqmPKOO"
      },
      "execution_count": null,
      "outputs": []
    }
  ]
}