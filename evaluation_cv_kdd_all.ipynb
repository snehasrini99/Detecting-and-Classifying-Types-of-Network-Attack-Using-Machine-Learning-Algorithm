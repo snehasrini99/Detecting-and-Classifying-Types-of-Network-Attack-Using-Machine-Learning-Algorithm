{
  "nbformat": 4,
  "nbformat_minor": 0,
  "metadata": {
    "colab": {
      "provenance": [],
      "collapsed_sections": [
        "PBDQD0m8cC7m",
        "P5zcegu_cIbB",
        "Sl-if34ycYAn",
        "IVFJov4acam7"
      ],
      "toc_visible": true,
      "authorship_tag": "ABX9TyM1UHz75RffvD/4l+cyB2ML",
      "include_colab_link": true
    },
    "kernelspec": {
      "name": "python3",
      "display_name": "Python 3"
    },
    "language_info": {
      "name": "python"
    }
  },
  "cells": [
    {
      "cell_type": "markdown",
      "metadata": {
        "id": "view-in-github",
        "colab_type": "text"
      },
      "source": [
        "<a href=\"https://colab.research.google.com/github/snehasrini99/Network_attack_classification/blob/main/evaluation_cv_kdd_all.ipynb\" target=\"_parent\"><img src=\"https://colab.research.google.com/assets/colab-badge.svg\" alt=\"Open In Colab\"/></a>"
      ]
    },
    {
      "cell_type": "markdown",
      "source": [
        "# 10-fold Cross Validation\n",
        "10-fold Cross validation code using kdd dataset\n",
        ": double checks if it is not overfitting for Random Forest and KNN models"
      ],
      "metadata": {
        "id": "ZAgs2U6taRTd"
      }
    },
    {
      "cell_type": "code",
      "execution_count": 1,
      "metadata": {
        "id": "zuOcnHmWaMq8"
      },
      "outputs": [],
      "source": [
        "import numpy as np\n",
        "import pandas as pd\n",
        "import matplotlib.pyplot as plt\n",
        "import seaborn as sns\n",
        "import warnings\n",
        "import statsmodels.api as sm\n",
        "from sklearn.preprocessing import LabelEncoder\n",
        "from sklearn.preprocessing import RobustScaler\n",
        "from sklearn.model_selection import train_test_split,GridSearchCV\n",
        "from sklearn.decomposition import PCA\n",
        "from sklearn.linear_model import LogisticRegression\n",
        "from sklearn.neighbors import KNeighborsClassifier\n",
        "from sklearn.tree  import DecisionTreeClassifier\n",
        "from sklearn.ensemble import RandomForestClassifier\n",
        "from sklearn import tree\n",
        "from sklearn import svm\n",
        "from sklearn.svm import SVC\n",
        "from sklearn.naive_bayes import GaussianNB\n",
        "from sklearn import metrics\n",
        "from sklearn.metrics import confusion_matrix\n",
        "from sklearn.metrics import RocCurveDisplay #changed From sklearn 1.2\n",
        "from sklearn.model_selection import GridSearchCV\n",
        "from mlxtend.plotting import plot_confusion_matrix\n",
        "\n",
        "# Turn off the warnings.\n",
        "warnings.filterwarnings(action='ignore')\n",
        "%matplotlib inline"
      ]
    },
    {
      "cell_type": "code",
      "source": [
        "from google.colab import drive\n",
        "drive.mount('/content/drive')"
      ],
      "metadata": {
        "colab": {
          "base_uri": "https://localhost:8080/"
        },
        "id": "K7XnZHcAaYLG",
        "outputId": "3d712e28-9082-4bc7-996e-ee6b2e983a24"
      },
      "execution_count": 2,
      "outputs": [
        {
          "output_type": "stream",
          "name": "stdout",
          "text": [
            "Drive already mounted at /content/drive; to attempt to forcibly remount, call drive.mount(\"/content/drive\", force_remount=True).\n"
          ]
        }
      ]
    },
    {
      "cell_type": "code",
      "source": [
        "%cd drive/MyDrive/24Spring/NSP/Project"
      ],
      "metadata": {
        "colab": {
          "base_uri": "https://localhost:8080/"
        },
        "id": "Bc0CJLvRajEp",
        "outputId": "7e40ec25-9687-4f9b-b4f2-1aa08664510e"
      },
      "execution_count": 3,
      "outputs": [
        {
          "output_type": "stream",
          "name": "stdout",
          "text": [
            "/content/drive/MyDrive/24Spring/NSP/Project\n"
          ]
        }
      ]
    },
    {
      "cell_type": "markdown",
      "source": [
        "### CROSS VALIDATION def"
      ],
      "metadata": {
        "id": "KDNvZ9ayctPb"
      }
    },
    {
      "cell_type": "code",
      "source": [
        "from tqdm.notebook import tqdm\n",
        "from sklearn.model_selection import cross_validate\n",
        "from sklearn.metrics import accuracy_score, precision_score, recall_score, f1_score, roc_auc_score\n",
        "\n",
        "def cv1(X,y, clf):\n",
        "  cv_outcome = cross_validate(clf, X,y, scoring=('accuracy','precision','recall','f1','roc_auc'), return_train_score=True, cv=10)\n",
        "  print_outcome1(cv_outcome)\n",
        "\n",
        "#outcome def\n",
        "def print_outcome1(result):\n",
        "\n",
        "  mean_test_accuracy = np.mean(result[\"test_accuracy\"])\n",
        "  mean_train_accuracy = np.mean(result[\"train_accuracy\"])\n",
        "  mean_test_precision = np.mean(result[\"test_precision\"])\n",
        "  mean_train_precision = np.mean(result[\"train_precision\"])\n",
        "  mean_test_recall = np.mean(result[\"test_recall\"])\n",
        "  mean_train_recall = np.mean(result[\"train_recall\"])\n",
        "  mean_test_f1 = np.mean(result[\"test_f1\"])\n",
        "  mean_train_f1 = np.mean(result[\"train_f1\"])\n",
        "  mean_test_auc = np.mean(result[\"test_roc_auc\"])\n",
        "  mean_train_auc = np.mean(result[\"train_roc_auc\"])\n",
        "\n",
        "  outcome_dict = {\n",
        "      \"Metric\" : [\"accuracy\", \"precision\", \"recall\", \"f1\", \"auc\"],\n",
        "      \"Mean Train Score\" : [mean_train_accuracy, mean_train_precision, mean_train_recall, mean_train_f1, mean_train_auc],\n",
        "      \"Mean Test Score\" : [mean_test_accuracy, mean_test_precision, mean_test_recall, mean_test_f1, mean_test_auc]\n",
        "\n",
        "  }\n",
        "\n",
        "  outcome_df = pd.DataFrame(outcome_dict)\n",
        "  print(outcome_df)\n",
        "\n",
        "  plt.figure(figsize=(10, 6))\n",
        "  plt.bar(outcome_df['Metric'], outcome_df['Mean Train Score'], width=0.4, label='Train Score', align='center') #training\n",
        "  plt.bar(outcome_df['Metric'], outcome_df['Mean Test Score'], width=0.4, label='Test Score', align='edge') #testing\n",
        "  plt.xlabel('Metrics')\n",
        "  plt.ylabel('Scores')\n",
        "  plt.legend()\n",
        "  plt.show()"
      ],
      "metadata": {
        "id": "TBtJXKFBgXQu"
      },
      "execution_count": 4,
      "outputs": []
    },
    {
      "cell_type": "code",
      "source": [
        "def GridSearch(Model_Abb, Parameters, X_train, Y_train):\n",
        "    Grid = GridSearchCV(estimator=Model_Abb, param_grid= Parameters, cv = 3, n_jobs=-1)\n",
        "    Grid_Result = Grid.fit(X_train, Y_train)\n",
        "    Model_Name = Grid_Result.best_estimator_\n",
        "\n",
        "    return (Model_Name)"
      ],
      "metadata": {
        "id": "6Xe-jK5YhvQh"
      },
      "execution_count": 5,
      "outputs": []
    },
    {
      "cell_type": "markdown",
      "source": [
        "## Cleaned KDD Data"
      ],
      "metadata": {
        "id": "LurvQ34ebWw7"
      }
    },
    {
      "cell_type": "code",
      "source": [
        "Trained_Data = pd.read_csv(\"/content/drive/MyDrive/24Spring/NSP/Project/Data_final/Cleaned_Trained_Data.csv\" , sep = \",\" , encoding = 'utf-8')\n",
        "Tested_Data  = pd.read_csv(\"/content/drive/MyDrive/24Spring/NSP/Project/Data_final/Cleaned_Tested_Data.csv\" , sep = \",\" , encoding = 'utf-8')"
      ],
      "metadata": {
        "id": "R8tt6n4zaUqq"
      },
      "execution_count": 6,
      "outputs": []
    },
    {
      "cell_type": "code",
      "source": [
        "# Trained_Data.info()"
      ],
      "metadata": {
        "id": "e5vz0oGBbQTz"
      },
      "execution_count": 7,
      "outputs": []
    },
    {
      "cell_type": "code",
      "source": [
        "# Tested_Data.info()"
      ],
      "metadata": {
        "id": "DZeTkLC6bRJ1"
      },
      "execution_count": 8,
      "outputs": []
    },
    {
      "cell_type": "markdown",
      "source": [
        "### Data Encoding"
      ],
      "metadata": {
        "id": "PBDQD0m8cC7m"
      }
    },
    {
      "cell_type": "code",
      "source": [
        "Trained_Data = pd.get_dummies(Trained_Data,columns=['protocol_type','service','flag'],prefix=\"\",prefix_sep=\"\")\n",
        "Tested_Data = pd.get_dummies(Tested_Data,columns=['protocol_type','service','flag'],prefix=\"\",prefix_sep=\"\")"
      ],
      "metadata": {
        "id": "hDedJ9EJcAQo"
      },
      "execution_count": 9,
      "outputs": []
    },
    {
      "cell_type": "code",
      "source": [
        "LE = LabelEncoder()\n",
        "attack_LE= LabelEncoder()\n",
        "Trained_Data['attack'] = attack_LE.fit_transform(Trained_Data[\"attack\"])\n",
        "Tested_Data['attack'] = attack_LE.fit_transform(Tested_Data[\"attack\"])"
      ],
      "metadata": {
        "id": "vjw3zkB0cHVo"
      },
      "execution_count": 10,
      "outputs": []
    },
    {
      "cell_type": "markdown",
      "source": [
        "### Data Splitting"
      ],
      "metadata": {
        "id": "P5zcegu_cIbB"
      }
    },
    {
      "cell_type": "code",
      "source": [
        "X_train = Trained_Data.drop(['attack', 'level', 'attack_state'], axis=1)\n",
        "X_test = Tested_Data.drop(['attack', 'level', 'attack_state'], axis=1)\n",
        "\n",
        "\n",
        "Y_train = Trained_Data['attack_state']\n",
        "Y_test = Tested_Data['attack_state']\n",
        "\n",
        "X_train_train,X_test_train ,Y_train_train,Y_test_train = train_test_split(X_train, Y_train, test_size= 0.25 , random_state=42)\n",
        "X_train_test,X_test_test,Y_train_test,Y_test_test = train_test_split(X_test, Y_test, test_size= 0.25 , random_state=42)"
      ],
      "metadata": {
        "id": "SSoa2iyScJbV"
      },
      "execution_count": 11,
      "outputs": []
    },
    {
      "cell_type": "markdown",
      "source": [
        "### Data Scaling"
      ],
      "metadata": {
        "id": "Sl-if34ycYAn"
      }
    },
    {
      "cell_type": "code",
      "source": [
        "Ro_scaler = RobustScaler()\n",
        "X_train_train = Ro_scaler.fit_transform(X_train_train)\n",
        "X_test_train = Ro_scaler.transform(X_test_train)\n",
        "X_train_test = Ro_scaler.fit_transform(X_train_test)\n",
        "X_test_test = Ro_scaler.transform(X_test_test)"
      ],
      "metadata": {
        "id": "4blyhGStcL7s"
      },
      "execution_count": 12,
      "outputs": []
    },
    {
      "cell_type": "code",
      "source": [
        "X_train_train.shape, Y_train_train.shape\n",
        "X_test_train.shape, Y_test_train.shape\n",
        "X_train_test.shape, Y_train_test.shape\n",
        "X_test_test.shape, Y_test_test.shape"
      ],
      "metadata": {
        "colab": {
          "base_uri": "https://localhost:8080/"
        },
        "id": "VNTrQs-tcaz1",
        "outputId": "f58f4707-7b14-4e55-9f7b-d80f26d63d4f"
      },
      "execution_count": 13,
      "outputs": [
        {
          "output_type": "execute_result",
          "data": {
            "text/plain": [
              "((5636, 116), (5636,))"
            ]
          },
          "metadata": {},
          "execution_count": 13
        }
      ]
    },
    {
      "cell_type": "markdown",
      "source": [
        "### VIF"
      ],
      "metadata": {
        "id": "IVFJov4acam7"
      }
    },
    {
      "cell_type": "code",
      "source": [
        "A = sm.add_constant(X_train.astype(float))\n",
        "Est1 = sm.GLM(Y_train, A)\n",
        "Est2 = Est1.fit()\n",
        "Est2.summary()"
      ],
      "metadata": {
        "colab": {
          "base_uri": "https://localhost:8080/",
          "height": 1000
        },
        "id": "wzthjYjscg3z",
        "outputId": "cd515eaa-df93-4daa-8b3c-42dbb21ce05e"
      },
      "execution_count": 14,
      "outputs": [
        {
          "output_type": "execute_result",
          "data": {
            "text/plain": [
              "<class 'statsmodels.iolib.summary.Summary'>\n",
              "\"\"\"\n",
              "                 Generalized Linear Model Regression Results                  \n",
              "==============================================================================\n",
              "Dep. Variable:           attack_state   No. Observations:               125972\n",
              "Model:                            GLM   Df Residuals:                   125854\n",
              "Model Family:                Gaussian   Df Model:                          117\n",
              "Link Function:               Identity   Scale:                        0.030165\n",
              "Method:                          IRLS   Log-Likelihood:                 41832.\n",
              "Date:                Tue, 07 May 2024   Deviance:                       3796.3\n",
              "Time:                        00:46:53   Pearson chi2:                 3.80e+03\n",
              "No. Iterations:                     3   Pseudo R-squ. (CS):             0.9993\n",
              "Covariance Type:            nonrobust                                         \n",
              "===============================================================================================\n",
              "                                  coef    std err          z      P>|z|      [0.025      0.975]\n",
              "-----------------------------------------------------------------------------------------------\n",
              "const                           0.3035      0.008     40.015      0.000       0.289       0.318\n",
              "duration                    -4.074e-06   2.35e-07    -17.350      0.000   -4.53e-06   -3.61e-06\n",
              "src_bytes                    4.584e-10   8.53e-11      5.373      0.000    2.91e-10    6.26e-10\n",
              "dst_bytes                     1.67e-10   1.22e-10      1.372      0.170   -7.17e-11    4.06e-10\n",
              "land                           -0.2506      0.035     -7.079      0.000      -0.320      -0.181\n",
              "wrong_fragment                  0.1968      0.002     86.967      0.000       0.192       0.201\n",
              "urgent                         -0.0057      0.035     -0.165      0.869      -0.073       0.062\n",
              "hot                             0.0251      0.000     55.886      0.000       0.024       0.026\n",
              "num_failed_logins               0.0499      0.011      4.470      0.000       0.028       0.072\n",
              "logged_in                       0.1670      0.004     42.903      0.000       0.159       0.175\n",
              "num_compromised                 0.0086      0.001     13.969      0.000       0.007       0.010\n",
              "root_shell                      0.1463      0.017      8.532      0.000       0.113       0.180\n",
              "su_attempted                   -0.0668      0.018     -3.779      0.000      -0.101      -0.032\n",
              "num_root                       -0.0086      0.001    -13.991      0.000      -0.010      -0.007\n",
              "num_file_creations             -0.0121      0.001    -11.550      0.000      -0.014      -0.010\n",
              "num_shells                     -0.0192      0.022     -0.858      0.391      -0.063       0.025\n",
              "num_access_files                0.0338      0.007      4.991      0.000       0.021       0.047\n",
              "num_outbound_cmds            6.425e-16   6.05e-16      1.062      0.288   -5.44e-16    1.83e-15\n",
              "is_host_login                  -0.3679      0.174     -2.117      0.034      -0.708      -0.027\n",
              "is_guest_login                 -0.4361      0.013    -34.383      0.000      -0.461      -0.411\n",
              "count                           0.0002   1.03e-05     15.557      0.000       0.000       0.000\n",
              "srv_count                       0.0004   1.53e-05     24.095      0.000       0.000       0.000\n",
              "serror_rate                    -0.0656      0.012     -5.335      0.000      -0.090      -0.042\n",
              "srv_serror_rate                 0.2685      0.013     20.041      0.000       0.242       0.295\n",
              "rerror_rate                    -0.0820      0.013     -6.233      0.000      -0.108      -0.056\n",
              "srv_rerror_rate                 0.6245      0.015     40.926      0.000       0.595       0.654\n",
              "same_srv_rate                  -0.3404      0.004    -78.481      0.000      -0.349      -0.332\n",
              "diff_srv_rate                  -0.0645      0.004    -15.392      0.000      -0.073      -0.056\n",
              "srv_diff_host_rate              0.0376      0.002     15.366      0.000       0.033       0.042\n",
              "dst_host_count                  0.0004   7.64e-06     47.651      0.000       0.000       0.000\n",
              "dst_host_srv_count             -0.0009   1.35e-05    -65.196      0.000      -0.001      -0.001\n",
              "dst_host_same_srv_rate          0.1352      0.004     32.953      0.000       0.127       0.143\n",
              "dst_host_diff_srv_rate          0.1916      0.005     39.700      0.000       0.182       0.201\n",
              "dst_host_same_src_port_rate     0.1257      0.003     41.639      0.000       0.120       0.132\n",
              "dst_host_srv_diff_host_rate     0.1657      0.007     24.500      0.000       0.152       0.179\n",
              "dst_host_serror_rate            0.0622      0.008      8.211      0.000       0.047       0.077\n",
              "dst_host_srv_serror_rate       -0.0014      0.009     -0.150      0.880      -0.020       0.017\n",
              "dst_host_rerror_rate            0.1079      0.005     20.498      0.000       0.098       0.118\n",
              "dst_host_srv_rerror_rate        0.1521      0.007     21.255      0.000       0.138       0.166\n",
              "icmp                            0.1695      0.012     14.368      0.000       0.146       0.193\n",
              "tcp                            -0.0220      0.006     -3.891      0.000      -0.033      -0.011\n",
              "udp                             0.1560      0.006     27.514      0.000       0.145       0.167\n",
              "aol                            -0.0554      0.121     -0.458      0.647      -0.293       0.182\n",
              "auth                           -0.0263      0.007     -3.576      0.000      -0.041      -0.012\n",
              "bgp                             0.0419      0.008      5.207      0.000       0.026       0.058\n",
              "courier                         0.0701      0.008      8.775      0.000       0.054       0.086\n",
              "csnet_ns                        0.0412      0.009      4.698      0.000       0.024       0.058\n",
              "ctf                             0.0455      0.009      5.240      0.000       0.028       0.062\n",
              "daytime                         0.0272      0.009      3.040      0.002       0.010       0.045\n",
              "discard                         0.0284      0.009      3.207      0.001       0.011       0.046\n",
              "domain                          0.0113      0.009      1.305      0.192      -0.006       0.028\n",
              "domain_u                       -0.2174      0.006    -34.060      0.000      -0.230      -0.205\n",
              "echo                            0.0327      0.010      3.424      0.001       0.014       0.051\n",
              "eco_i                           0.4787      0.016     30.380      0.000       0.448       0.510\n",
              "ecr_i                           0.4834      0.016     30.458      0.000       0.452       0.515\n",
              "efs                             0.0812      0.009      8.846      0.000       0.063       0.099\n",
              "exec                            0.0628      0.009      6.753      0.000       0.045       0.081\n",
              "finger                          0.0743      0.006     11.456      0.000       0.062       0.087\n",
              "ftp                             0.0233      0.009      2.682      0.007       0.006       0.040\n",
              "ftp_data                       -0.0473      0.006     -8.338      0.000      -0.058      -0.036\n",
              "gopher                          0.0575      0.009      6.432      0.000       0.040       0.075\n",
              "harvest                        -0.1189      0.121     -0.981      0.327      -0.356       0.119\n",
              "hostnames                       0.0409      0.009      4.384      0.000       0.023       0.059\n",
              "http                           -0.0931      0.006    -16.134      0.000      -0.104      -0.082\n",
              "http_2784                      -0.0531      0.171     -0.311      0.756      -0.389       0.282\n",
              "http_443                        0.0801      0.009      9.005      0.000       0.063       0.097\n",
              "http_8001                      -0.1198      0.121     -0.988      0.323      -0.357       0.118\n",
              "imap4                           0.0454      0.008      5.481      0.000       0.029       0.062\n",
              "irc                            -0.6544      0.014    -46.844      0.000      -0.682      -0.627\n",
              "iso_tsap                        0.0381      0.008      4.686      0.000       0.022       0.054\n",
              "klogin                          0.0890      0.010      9.308      0.000       0.070       0.108\n",
              "kshell                          0.0806      0.011      7.304      0.000       0.059       0.102\n",
              "ldap                            0.0664      0.010      6.816      0.000       0.047       0.085\n",
              "link                            0.0453      0.009      4.917      0.000       0.027       0.063\n",
              "login                           0.0720      0.010      7.484      0.000       0.053       0.091\n",
              "mtp                             0.0425      0.009      4.478      0.000       0.024       0.061\n",
              "name                            0.0496      0.009      5.278      0.000       0.031       0.068\n",
              "netbios_dgm                     0.0409      0.010      4.183      0.000       0.022       0.060\n",
              "netbios_ns                      0.0512      0.010      4.937      0.000       0.031       0.072\n",
              "netbios_ssn                     0.0481      0.010      4.715      0.000       0.028       0.068\n",
              "netstat                         0.0436      0.010      4.265      0.000       0.024       0.064\n",
              "nnsp                            0.0707      0.008      8.429      0.000       0.054       0.087\n",
              "nntp                            0.0446      0.011      4.032      0.000       0.023       0.066\n",
              "ntp_u                          -0.2945      0.014    -20.440      0.000      -0.323      -0.266\n",
              "other                          -0.2807      0.006    -46.687      0.000      -0.292      -0.269\n",
              "pm_dump                         0.7045      0.077      9.152      0.000       0.554       0.855\n",
              "pop_2                           0.0564      0.020      2.824      0.005       0.017       0.095\n",
              "pop_3                          -0.1725      0.012    -14.626      0.000      -0.196      -0.149\n",
              "printer                         0.0692      0.021      3.267      0.001       0.028       0.111\n",
              "private                         0.0768      0.005     15.429      0.000       0.067       0.087\n",
              "red_i                          -0.2018      0.054     -3.754      0.000      -0.307      -0.096\n",
              "remote_job                      0.0613      0.020      3.071      0.002       0.022       0.100\n",
              "rje                             0.0710      0.019      3.727      0.000       0.034       0.108\n",
              "shell                           0.0580      0.022      2.665      0.008       0.015       0.101\n",
              "smtp                           -0.1565      0.006    -26.540      0.000      -0.168      -0.145\n",
              "sql_net                         0.0606      0.012      5.072      0.000       0.037       0.084\n",
              "ssh                             0.0510      0.011      4.705      0.000       0.030       0.072\n",
              "sunrpc                          0.0368      0.010      3.668      0.000       0.017       0.056\n",
              "supdup                          0.0451      0.009      5.140      0.000       0.028       0.062\n",
              "systat                          0.0414      0.009      4.499      0.000       0.023       0.059\n",
              "telnet                         -0.0056      0.006     -0.908      0.364      -0.018       0.007\n",
              "tftp_u                         -0.4851      0.099     -4.903      0.000      -0.679      -0.291\n",
              "tim_i                           0.0519      0.054      0.965      0.334      -0.053       0.157\n",
              "time                            0.0196      0.008      2.370      0.018       0.003       0.036\n",
              "urh_i                          -0.2483      0.049     -5.114      0.000      -0.343      -0.153\n",
              "urp_i                          -0.3944      0.017    -23.893      0.000      -0.427      -0.362\n",
              "uucp                            0.0606      0.008      7.677      0.000       0.045       0.076\n",
              "uucp_path                       0.0431      0.008      5.310      0.000       0.027       0.059\n",
              "vmnet                           0.0414      0.008      4.916      0.000       0.025       0.058\n",
              "whois                           0.0445      0.008      5.490      0.000       0.029       0.060\n",
              "x11                            -0.2164      0.021    -10.442      0.000      -0.257      -0.176\n",
              "z39_50                          0.0431      0.008      5.685      0.000       0.028       0.058\n",
              "oth                             0.5159      0.025     20.858      0.000       0.467       0.564\n",
              "rej                            -0.3271      0.011    -29.174      0.000      -0.349      -0.305\n",
              "rsto                           -0.2507      0.012    -21.416      0.000      -0.274      -0.228\n",
              "rstos0                          0.0238      0.017      1.411      0.158      -0.009       0.057\n",
              "rstr                            0.0259      0.012      2.256      0.024       0.003       0.048\n",
              "s0                              0.3162      0.009     35.854      0.000       0.299       0.333\n",
              "s1                             -0.1687      0.011    -15.280      0.000      -0.190      -0.147\n",
              "s2                             -0.0999      0.016     -6.308      0.000      -0.131      -0.069\n",
              "s3                             -0.1089      0.024     -4.627      0.000      -0.155      -0.063\n",
              "sf                             -0.0026      0.008     -0.347      0.729      -0.017       0.012\n",
              "sh                              0.3796      0.014     27.975      0.000       0.353       0.406\n",
              "===============================================================================================\n",
              "\"\"\""
            ],
            "text/html": [
              "<table class=\"simpletable\">\n",
              "<caption>Generalized Linear Model Regression Results</caption>\n",
              "<tr>\n",
              "  <th>Dep. Variable:</th>     <td>attack_state</td>   <th>  No. Observations:  </th>  <td>125972</td> \n",
              "</tr>\n",
              "<tr>\n",
              "  <th>Model:</th>                  <td>GLM</td>       <th>  Df Residuals:      </th>  <td>125854</td> \n",
              "</tr>\n",
              "<tr>\n",
              "  <th>Model Family:</th>        <td>Gaussian</td>     <th>  Df Model:          </th>  <td>   117</td> \n",
              "</tr>\n",
              "<tr>\n",
              "  <th>Link Function:</th>       <td>Identity</td>     <th>  Scale:             </th> <td>0.030165</td>\n",
              "</tr>\n",
              "<tr>\n",
              "  <th>Method:</th>                <td>IRLS</td>       <th>  Log-Likelihood:    </th> <td>  41832.</td>\n",
              "</tr>\n",
              "<tr>\n",
              "  <th>Date:</th>            <td>Tue, 07 May 2024</td> <th>  Deviance:          </th> <td>  3796.3</td>\n",
              "</tr>\n",
              "<tr>\n",
              "  <th>Time:</th>                <td>00:46:53</td>     <th>  Pearson chi2:      </th> <td>3.80e+03</td>\n",
              "</tr>\n",
              "<tr>\n",
              "  <th>No. Iterations:</th>          <td>3</td>        <th>  Pseudo R-squ. (CS):</th>  <td>0.9993</td> \n",
              "</tr>\n",
              "<tr>\n",
              "  <th>Covariance Type:</th>     <td>nonrobust</td>    <th>                     </th>     <td> </td>   \n",
              "</tr>\n",
              "</table>\n",
              "<table class=\"simpletable\">\n",
              "<tr>\n",
              "               <td></td>                  <th>coef</th>     <th>std err</th>      <th>z</th>      <th>P>|z|</th>  <th>[0.025</th>    <th>0.975]</th>  \n",
              "</tr>\n",
              "<tr>\n",
              "  <th>const</th>                       <td>    0.3035</td> <td>    0.008</td> <td>   40.015</td> <td> 0.000</td> <td>    0.289</td> <td>    0.318</td>\n",
              "</tr>\n",
              "<tr>\n",
              "  <th>duration</th>                    <td>-4.074e-06</td> <td> 2.35e-07</td> <td>  -17.350</td> <td> 0.000</td> <td>-4.53e-06</td> <td>-3.61e-06</td>\n",
              "</tr>\n",
              "<tr>\n",
              "  <th>src_bytes</th>                   <td> 4.584e-10</td> <td> 8.53e-11</td> <td>    5.373</td> <td> 0.000</td> <td> 2.91e-10</td> <td> 6.26e-10</td>\n",
              "</tr>\n",
              "<tr>\n",
              "  <th>dst_bytes</th>                   <td>  1.67e-10</td> <td> 1.22e-10</td> <td>    1.372</td> <td> 0.170</td> <td>-7.17e-11</td> <td> 4.06e-10</td>\n",
              "</tr>\n",
              "<tr>\n",
              "  <th>land</th>                        <td>   -0.2506</td> <td>    0.035</td> <td>   -7.079</td> <td> 0.000</td> <td>   -0.320</td> <td>   -0.181</td>\n",
              "</tr>\n",
              "<tr>\n",
              "  <th>wrong_fragment</th>              <td>    0.1968</td> <td>    0.002</td> <td>   86.967</td> <td> 0.000</td> <td>    0.192</td> <td>    0.201</td>\n",
              "</tr>\n",
              "<tr>\n",
              "  <th>urgent</th>                      <td>   -0.0057</td> <td>    0.035</td> <td>   -0.165</td> <td> 0.869</td> <td>   -0.073</td> <td>    0.062</td>\n",
              "</tr>\n",
              "<tr>\n",
              "  <th>hot</th>                         <td>    0.0251</td> <td>    0.000</td> <td>   55.886</td> <td> 0.000</td> <td>    0.024</td> <td>    0.026</td>\n",
              "</tr>\n",
              "<tr>\n",
              "  <th>num_failed_logins</th>           <td>    0.0499</td> <td>    0.011</td> <td>    4.470</td> <td> 0.000</td> <td>    0.028</td> <td>    0.072</td>\n",
              "</tr>\n",
              "<tr>\n",
              "  <th>logged_in</th>                   <td>    0.1670</td> <td>    0.004</td> <td>   42.903</td> <td> 0.000</td> <td>    0.159</td> <td>    0.175</td>\n",
              "</tr>\n",
              "<tr>\n",
              "  <th>num_compromised</th>             <td>    0.0086</td> <td>    0.001</td> <td>   13.969</td> <td> 0.000</td> <td>    0.007</td> <td>    0.010</td>\n",
              "</tr>\n",
              "<tr>\n",
              "  <th>root_shell</th>                  <td>    0.1463</td> <td>    0.017</td> <td>    8.532</td> <td> 0.000</td> <td>    0.113</td> <td>    0.180</td>\n",
              "</tr>\n",
              "<tr>\n",
              "  <th>su_attempted</th>                <td>   -0.0668</td> <td>    0.018</td> <td>   -3.779</td> <td> 0.000</td> <td>   -0.101</td> <td>   -0.032</td>\n",
              "</tr>\n",
              "<tr>\n",
              "  <th>num_root</th>                    <td>   -0.0086</td> <td>    0.001</td> <td>  -13.991</td> <td> 0.000</td> <td>   -0.010</td> <td>   -0.007</td>\n",
              "</tr>\n",
              "<tr>\n",
              "  <th>num_file_creations</th>          <td>   -0.0121</td> <td>    0.001</td> <td>  -11.550</td> <td> 0.000</td> <td>   -0.014</td> <td>   -0.010</td>\n",
              "</tr>\n",
              "<tr>\n",
              "  <th>num_shells</th>                  <td>   -0.0192</td> <td>    0.022</td> <td>   -0.858</td> <td> 0.391</td> <td>   -0.063</td> <td>    0.025</td>\n",
              "</tr>\n",
              "<tr>\n",
              "  <th>num_access_files</th>            <td>    0.0338</td> <td>    0.007</td> <td>    4.991</td> <td> 0.000</td> <td>    0.021</td> <td>    0.047</td>\n",
              "</tr>\n",
              "<tr>\n",
              "  <th>num_outbound_cmds</th>           <td> 6.425e-16</td> <td> 6.05e-16</td> <td>    1.062</td> <td> 0.288</td> <td>-5.44e-16</td> <td> 1.83e-15</td>\n",
              "</tr>\n",
              "<tr>\n",
              "  <th>is_host_login</th>               <td>   -0.3679</td> <td>    0.174</td> <td>   -2.117</td> <td> 0.034</td> <td>   -0.708</td> <td>   -0.027</td>\n",
              "</tr>\n",
              "<tr>\n",
              "  <th>is_guest_login</th>              <td>   -0.4361</td> <td>    0.013</td> <td>  -34.383</td> <td> 0.000</td> <td>   -0.461</td> <td>   -0.411</td>\n",
              "</tr>\n",
              "<tr>\n",
              "  <th>count</th>                       <td>    0.0002</td> <td> 1.03e-05</td> <td>   15.557</td> <td> 0.000</td> <td>    0.000</td> <td>    0.000</td>\n",
              "</tr>\n",
              "<tr>\n",
              "  <th>srv_count</th>                   <td>    0.0004</td> <td> 1.53e-05</td> <td>   24.095</td> <td> 0.000</td> <td>    0.000</td> <td>    0.000</td>\n",
              "</tr>\n",
              "<tr>\n",
              "  <th>serror_rate</th>                 <td>   -0.0656</td> <td>    0.012</td> <td>   -5.335</td> <td> 0.000</td> <td>   -0.090</td> <td>   -0.042</td>\n",
              "</tr>\n",
              "<tr>\n",
              "  <th>srv_serror_rate</th>             <td>    0.2685</td> <td>    0.013</td> <td>   20.041</td> <td> 0.000</td> <td>    0.242</td> <td>    0.295</td>\n",
              "</tr>\n",
              "<tr>\n",
              "  <th>rerror_rate</th>                 <td>   -0.0820</td> <td>    0.013</td> <td>   -6.233</td> <td> 0.000</td> <td>   -0.108</td> <td>   -0.056</td>\n",
              "</tr>\n",
              "<tr>\n",
              "  <th>srv_rerror_rate</th>             <td>    0.6245</td> <td>    0.015</td> <td>   40.926</td> <td> 0.000</td> <td>    0.595</td> <td>    0.654</td>\n",
              "</tr>\n",
              "<tr>\n",
              "  <th>same_srv_rate</th>               <td>   -0.3404</td> <td>    0.004</td> <td>  -78.481</td> <td> 0.000</td> <td>   -0.349</td> <td>   -0.332</td>\n",
              "</tr>\n",
              "<tr>\n",
              "  <th>diff_srv_rate</th>               <td>   -0.0645</td> <td>    0.004</td> <td>  -15.392</td> <td> 0.000</td> <td>   -0.073</td> <td>   -0.056</td>\n",
              "</tr>\n",
              "<tr>\n",
              "  <th>srv_diff_host_rate</th>          <td>    0.0376</td> <td>    0.002</td> <td>   15.366</td> <td> 0.000</td> <td>    0.033</td> <td>    0.042</td>\n",
              "</tr>\n",
              "<tr>\n",
              "  <th>dst_host_count</th>              <td>    0.0004</td> <td> 7.64e-06</td> <td>   47.651</td> <td> 0.000</td> <td>    0.000</td> <td>    0.000</td>\n",
              "</tr>\n",
              "<tr>\n",
              "  <th>dst_host_srv_count</th>          <td>   -0.0009</td> <td> 1.35e-05</td> <td>  -65.196</td> <td> 0.000</td> <td>   -0.001</td> <td>   -0.001</td>\n",
              "</tr>\n",
              "<tr>\n",
              "  <th>dst_host_same_srv_rate</th>      <td>    0.1352</td> <td>    0.004</td> <td>   32.953</td> <td> 0.000</td> <td>    0.127</td> <td>    0.143</td>\n",
              "</tr>\n",
              "<tr>\n",
              "  <th>dst_host_diff_srv_rate</th>      <td>    0.1916</td> <td>    0.005</td> <td>   39.700</td> <td> 0.000</td> <td>    0.182</td> <td>    0.201</td>\n",
              "</tr>\n",
              "<tr>\n",
              "  <th>dst_host_same_src_port_rate</th> <td>    0.1257</td> <td>    0.003</td> <td>   41.639</td> <td> 0.000</td> <td>    0.120</td> <td>    0.132</td>\n",
              "</tr>\n",
              "<tr>\n",
              "  <th>dst_host_srv_diff_host_rate</th> <td>    0.1657</td> <td>    0.007</td> <td>   24.500</td> <td> 0.000</td> <td>    0.152</td> <td>    0.179</td>\n",
              "</tr>\n",
              "<tr>\n",
              "  <th>dst_host_serror_rate</th>        <td>    0.0622</td> <td>    0.008</td> <td>    8.211</td> <td> 0.000</td> <td>    0.047</td> <td>    0.077</td>\n",
              "</tr>\n",
              "<tr>\n",
              "  <th>dst_host_srv_serror_rate</th>    <td>   -0.0014</td> <td>    0.009</td> <td>   -0.150</td> <td> 0.880</td> <td>   -0.020</td> <td>    0.017</td>\n",
              "</tr>\n",
              "<tr>\n",
              "  <th>dst_host_rerror_rate</th>        <td>    0.1079</td> <td>    0.005</td> <td>   20.498</td> <td> 0.000</td> <td>    0.098</td> <td>    0.118</td>\n",
              "</tr>\n",
              "<tr>\n",
              "  <th>dst_host_srv_rerror_rate</th>    <td>    0.1521</td> <td>    0.007</td> <td>   21.255</td> <td> 0.000</td> <td>    0.138</td> <td>    0.166</td>\n",
              "</tr>\n",
              "<tr>\n",
              "  <th>icmp</th>                        <td>    0.1695</td> <td>    0.012</td> <td>   14.368</td> <td> 0.000</td> <td>    0.146</td> <td>    0.193</td>\n",
              "</tr>\n",
              "<tr>\n",
              "  <th>tcp</th>                         <td>   -0.0220</td> <td>    0.006</td> <td>   -3.891</td> <td> 0.000</td> <td>   -0.033</td> <td>   -0.011</td>\n",
              "</tr>\n",
              "<tr>\n",
              "  <th>udp</th>                         <td>    0.1560</td> <td>    0.006</td> <td>   27.514</td> <td> 0.000</td> <td>    0.145</td> <td>    0.167</td>\n",
              "</tr>\n",
              "<tr>\n",
              "  <th>aol</th>                         <td>   -0.0554</td> <td>    0.121</td> <td>   -0.458</td> <td> 0.647</td> <td>   -0.293</td> <td>    0.182</td>\n",
              "</tr>\n",
              "<tr>\n",
              "  <th>auth</th>                        <td>   -0.0263</td> <td>    0.007</td> <td>   -3.576</td> <td> 0.000</td> <td>   -0.041</td> <td>   -0.012</td>\n",
              "</tr>\n",
              "<tr>\n",
              "  <th>bgp</th>                         <td>    0.0419</td> <td>    0.008</td> <td>    5.207</td> <td> 0.000</td> <td>    0.026</td> <td>    0.058</td>\n",
              "</tr>\n",
              "<tr>\n",
              "  <th>courier</th>                     <td>    0.0701</td> <td>    0.008</td> <td>    8.775</td> <td> 0.000</td> <td>    0.054</td> <td>    0.086</td>\n",
              "</tr>\n",
              "<tr>\n",
              "  <th>csnet_ns</th>                    <td>    0.0412</td> <td>    0.009</td> <td>    4.698</td> <td> 0.000</td> <td>    0.024</td> <td>    0.058</td>\n",
              "</tr>\n",
              "<tr>\n",
              "  <th>ctf</th>                         <td>    0.0455</td> <td>    0.009</td> <td>    5.240</td> <td> 0.000</td> <td>    0.028</td> <td>    0.062</td>\n",
              "</tr>\n",
              "<tr>\n",
              "  <th>daytime</th>                     <td>    0.0272</td> <td>    0.009</td> <td>    3.040</td> <td> 0.002</td> <td>    0.010</td> <td>    0.045</td>\n",
              "</tr>\n",
              "<tr>\n",
              "  <th>discard</th>                     <td>    0.0284</td> <td>    0.009</td> <td>    3.207</td> <td> 0.001</td> <td>    0.011</td> <td>    0.046</td>\n",
              "</tr>\n",
              "<tr>\n",
              "  <th>domain</th>                      <td>    0.0113</td> <td>    0.009</td> <td>    1.305</td> <td> 0.192</td> <td>   -0.006</td> <td>    0.028</td>\n",
              "</tr>\n",
              "<tr>\n",
              "  <th>domain_u</th>                    <td>   -0.2174</td> <td>    0.006</td> <td>  -34.060</td> <td> 0.000</td> <td>   -0.230</td> <td>   -0.205</td>\n",
              "</tr>\n",
              "<tr>\n",
              "  <th>echo</th>                        <td>    0.0327</td> <td>    0.010</td> <td>    3.424</td> <td> 0.001</td> <td>    0.014</td> <td>    0.051</td>\n",
              "</tr>\n",
              "<tr>\n",
              "  <th>eco_i</th>                       <td>    0.4787</td> <td>    0.016</td> <td>   30.380</td> <td> 0.000</td> <td>    0.448</td> <td>    0.510</td>\n",
              "</tr>\n",
              "<tr>\n",
              "  <th>ecr_i</th>                       <td>    0.4834</td> <td>    0.016</td> <td>   30.458</td> <td> 0.000</td> <td>    0.452</td> <td>    0.515</td>\n",
              "</tr>\n",
              "<tr>\n",
              "  <th>efs</th>                         <td>    0.0812</td> <td>    0.009</td> <td>    8.846</td> <td> 0.000</td> <td>    0.063</td> <td>    0.099</td>\n",
              "</tr>\n",
              "<tr>\n",
              "  <th>exec</th>                        <td>    0.0628</td> <td>    0.009</td> <td>    6.753</td> <td> 0.000</td> <td>    0.045</td> <td>    0.081</td>\n",
              "</tr>\n",
              "<tr>\n",
              "  <th>finger</th>                      <td>    0.0743</td> <td>    0.006</td> <td>   11.456</td> <td> 0.000</td> <td>    0.062</td> <td>    0.087</td>\n",
              "</tr>\n",
              "<tr>\n",
              "  <th>ftp</th>                         <td>    0.0233</td> <td>    0.009</td> <td>    2.682</td> <td> 0.007</td> <td>    0.006</td> <td>    0.040</td>\n",
              "</tr>\n",
              "<tr>\n",
              "  <th>ftp_data</th>                    <td>   -0.0473</td> <td>    0.006</td> <td>   -8.338</td> <td> 0.000</td> <td>   -0.058</td> <td>   -0.036</td>\n",
              "</tr>\n",
              "<tr>\n",
              "  <th>gopher</th>                      <td>    0.0575</td> <td>    0.009</td> <td>    6.432</td> <td> 0.000</td> <td>    0.040</td> <td>    0.075</td>\n",
              "</tr>\n",
              "<tr>\n",
              "  <th>harvest</th>                     <td>   -0.1189</td> <td>    0.121</td> <td>   -0.981</td> <td> 0.327</td> <td>   -0.356</td> <td>    0.119</td>\n",
              "</tr>\n",
              "<tr>\n",
              "  <th>hostnames</th>                   <td>    0.0409</td> <td>    0.009</td> <td>    4.384</td> <td> 0.000</td> <td>    0.023</td> <td>    0.059</td>\n",
              "</tr>\n",
              "<tr>\n",
              "  <th>http</th>                        <td>   -0.0931</td> <td>    0.006</td> <td>  -16.134</td> <td> 0.000</td> <td>   -0.104</td> <td>   -0.082</td>\n",
              "</tr>\n",
              "<tr>\n",
              "  <th>http_2784</th>                   <td>   -0.0531</td> <td>    0.171</td> <td>   -0.311</td> <td> 0.756</td> <td>   -0.389</td> <td>    0.282</td>\n",
              "</tr>\n",
              "<tr>\n",
              "  <th>http_443</th>                    <td>    0.0801</td> <td>    0.009</td> <td>    9.005</td> <td> 0.000</td> <td>    0.063</td> <td>    0.097</td>\n",
              "</tr>\n",
              "<tr>\n",
              "  <th>http_8001</th>                   <td>   -0.1198</td> <td>    0.121</td> <td>   -0.988</td> <td> 0.323</td> <td>   -0.357</td> <td>    0.118</td>\n",
              "</tr>\n",
              "<tr>\n",
              "  <th>imap4</th>                       <td>    0.0454</td> <td>    0.008</td> <td>    5.481</td> <td> 0.000</td> <td>    0.029</td> <td>    0.062</td>\n",
              "</tr>\n",
              "<tr>\n",
              "  <th>irc</th>                         <td>   -0.6544</td> <td>    0.014</td> <td>  -46.844</td> <td> 0.000</td> <td>   -0.682</td> <td>   -0.627</td>\n",
              "</tr>\n",
              "<tr>\n",
              "  <th>iso_tsap</th>                    <td>    0.0381</td> <td>    0.008</td> <td>    4.686</td> <td> 0.000</td> <td>    0.022</td> <td>    0.054</td>\n",
              "</tr>\n",
              "<tr>\n",
              "  <th>klogin</th>                      <td>    0.0890</td> <td>    0.010</td> <td>    9.308</td> <td> 0.000</td> <td>    0.070</td> <td>    0.108</td>\n",
              "</tr>\n",
              "<tr>\n",
              "  <th>kshell</th>                      <td>    0.0806</td> <td>    0.011</td> <td>    7.304</td> <td> 0.000</td> <td>    0.059</td> <td>    0.102</td>\n",
              "</tr>\n",
              "<tr>\n",
              "  <th>ldap</th>                        <td>    0.0664</td> <td>    0.010</td> <td>    6.816</td> <td> 0.000</td> <td>    0.047</td> <td>    0.085</td>\n",
              "</tr>\n",
              "<tr>\n",
              "  <th>link</th>                        <td>    0.0453</td> <td>    0.009</td> <td>    4.917</td> <td> 0.000</td> <td>    0.027</td> <td>    0.063</td>\n",
              "</tr>\n",
              "<tr>\n",
              "  <th>login</th>                       <td>    0.0720</td> <td>    0.010</td> <td>    7.484</td> <td> 0.000</td> <td>    0.053</td> <td>    0.091</td>\n",
              "</tr>\n",
              "<tr>\n",
              "  <th>mtp</th>                         <td>    0.0425</td> <td>    0.009</td> <td>    4.478</td> <td> 0.000</td> <td>    0.024</td> <td>    0.061</td>\n",
              "</tr>\n",
              "<tr>\n",
              "  <th>name</th>                        <td>    0.0496</td> <td>    0.009</td> <td>    5.278</td> <td> 0.000</td> <td>    0.031</td> <td>    0.068</td>\n",
              "</tr>\n",
              "<tr>\n",
              "  <th>netbios_dgm</th>                 <td>    0.0409</td> <td>    0.010</td> <td>    4.183</td> <td> 0.000</td> <td>    0.022</td> <td>    0.060</td>\n",
              "</tr>\n",
              "<tr>\n",
              "  <th>netbios_ns</th>                  <td>    0.0512</td> <td>    0.010</td> <td>    4.937</td> <td> 0.000</td> <td>    0.031</td> <td>    0.072</td>\n",
              "</tr>\n",
              "<tr>\n",
              "  <th>netbios_ssn</th>                 <td>    0.0481</td> <td>    0.010</td> <td>    4.715</td> <td> 0.000</td> <td>    0.028</td> <td>    0.068</td>\n",
              "</tr>\n",
              "<tr>\n",
              "  <th>netstat</th>                     <td>    0.0436</td> <td>    0.010</td> <td>    4.265</td> <td> 0.000</td> <td>    0.024</td> <td>    0.064</td>\n",
              "</tr>\n",
              "<tr>\n",
              "  <th>nnsp</th>                        <td>    0.0707</td> <td>    0.008</td> <td>    8.429</td> <td> 0.000</td> <td>    0.054</td> <td>    0.087</td>\n",
              "</tr>\n",
              "<tr>\n",
              "  <th>nntp</th>                        <td>    0.0446</td> <td>    0.011</td> <td>    4.032</td> <td> 0.000</td> <td>    0.023</td> <td>    0.066</td>\n",
              "</tr>\n",
              "<tr>\n",
              "  <th>ntp_u</th>                       <td>   -0.2945</td> <td>    0.014</td> <td>  -20.440</td> <td> 0.000</td> <td>   -0.323</td> <td>   -0.266</td>\n",
              "</tr>\n",
              "<tr>\n",
              "  <th>other</th>                       <td>   -0.2807</td> <td>    0.006</td> <td>  -46.687</td> <td> 0.000</td> <td>   -0.292</td> <td>   -0.269</td>\n",
              "</tr>\n",
              "<tr>\n",
              "  <th>pm_dump</th>                     <td>    0.7045</td> <td>    0.077</td> <td>    9.152</td> <td> 0.000</td> <td>    0.554</td> <td>    0.855</td>\n",
              "</tr>\n",
              "<tr>\n",
              "  <th>pop_2</th>                       <td>    0.0564</td> <td>    0.020</td> <td>    2.824</td> <td> 0.005</td> <td>    0.017</td> <td>    0.095</td>\n",
              "</tr>\n",
              "<tr>\n",
              "  <th>pop_3</th>                       <td>   -0.1725</td> <td>    0.012</td> <td>  -14.626</td> <td> 0.000</td> <td>   -0.196</td> <td>   -0.149</td>\n",
              "</tr>\n",
              "<tr>\n",
              "  <th>printer</th>                     <td>    0.0692</td> <td>    0.021</td> <td>    3.267</td> <td> 0.001</td> <td>    0.028</td> <td>    0.111</td>\n",
              "</tr>\n",
              "<tr>\n",
              "  <th>private</th>                     <td>    0.0768</td> <td>    0.005</td> <td>   15.429</td> <td> 0.000</td> <td>    0.067</td> <td>    0.087</td>\n",
              "</tr>\n",
              "<tr>\n",
              "  <th>red_i</th>                       <td>   -0.2018</td> <td>    0.054</td> <td>   -3.754</td> <td> 0.000</td> <td>   -0.307</td> <td>   -0.096</td>\n",
              "</tr>\n",
              "<tr>\n",
              "  <th>remote_job</th>                  <td>    0.0613</td> <td>    0.020</td> <td>    3.071</td> <td> 0.002</td> <td>    0.022</td> <td>    0.100</td>\n",
              "</tr>\n",
              "<tr>\n",
              "  <th>rje</th>                         <td>    0.0710</td> <td>    0.019</td> <td>    3.727</td> <td> 0.000</td> <td>    0.034</td> <td>    0.108</td>\n",
              "</tr>\n",
              "<tr>\n",
              "  <th>shell</th>                       <td>    0.0580</td> <td>    0.022</td> <td>    2.665</td> <td> 0.008</td> <td>    0.015</td> <td>    0.101</td>\n",
              "</tr>\n",
              "<tr>\n",
              "  <th>smtp</th>                        <td>   -0.1565</td> <td>    0.006</td> <td>  -26.540</td> <td> 0.000</td> <td>   -0.168</td> <td>   -0.145</td>\n",
              "</tr>\n",
              "<tr>\n",
              "  <th>sql_net</th>                     <td>    0.0606</td> <td>    0.012</td> <td>    5.072</td> <td> 0.000</td> <td>    0.037</td> <td>    0.084</td>\n",
              "</tr>\n",
              "<tr>\n",
              "  <th>ssh</th>                         <td>    0.0510</td> <td>    0.011</td> <td>    4.705</td> <td> 0.000</td> <td>    0.030</td> <td>    0.072</td>\n",
              "</tr>\n",
              "<tr>\n",
              "  <th>sunrpc</th>                      <td>    0.0368</td> <td>    0.010</td> <td>    3.668</td> <td> 0.000</td> <td>    0.017</td> <td>    0.056</td>\n",
              "</tr>\n",
              "<tr>\n",
              "  <th>supdup</th>                      <td>    0.0451</td> <td>    0.009</td> <td>    5.140</td> <td> 0.000</td> <td>    0.028</td> <td>    0.062</td>\n",
              "</tr>\n",
              "<tr>\n",
              "  <th>systat</th>                      <td>    0.0414</td> <td>    0.009</td> <td>    4.499</td> <td> 0.000</td> <td>    0.023</td> <td>    0.059</td>\n",
              "</tr>\n",
              "<tr>\n",
              "  <th>telnet</th>                      <td>   -0.0056</td> <td>    0.006</td> <td>   -0.908</td> <td> 0.364</td> <td>   -0.018</td> <td>    0.007</td>\n",
              "</tr>\n",
              "<tr>\n",
              "  <th>tftp_u</th>                      <td>   -0.4851</td> <td>    0.099</td> <td>   -4.903</td> <td> 0.000</td> <td>   -0.679</td> <td>   -0.291</td>\n",
              "</tr>\n",
              "<tr>\n",
              "  <th>tim_i</th>                       <td>    0.0519</td> <td>    0.054</td> <td>    0.965</td> <td> 0.334</td> <td>   -0.053</td> <td>    0.157</td>\n",
              "</tr>\n",
              "<tr>\n",
              "  <th>time</th>                        <td>    0.0196</td> <td>    0.008</td> <td>    2.370</td> <td> 0.018</td> <td>    0.003</td> <td>    0.036</td>\n",
              "</tr>\n",
              "<tr>\n",
              "  <th>urh_i</th>                       <td>   -0.2483</td> <td>    0.049</td> <td>   -5.114</td> <td> 0.000</td> <td>   -0.343</td> <td>   -0.153</td>\n",
              "</tr>\n",
              "<tr>\n",
              "  <th>urp_i</th>                       <td>   -0.3944</td> <td>    0.017</td> <td>  -23.893</td> <td> 0.000</td> <td>   -0.427</td> <td>   -0.362</td>\n",
              "</tr>\n",
              "<tr>\n",
              "  <th>uucp</th>                        <td>    0.0606</td> <td>    0.008</td> <td>    7.677</td> <td> 0.000</td> <td>    0.045</td> <td>    0.076</td>\n",
              "</tr>\n",
              "<tr>\n",
              "  <th>uucp_path</th>                   <td>    0.0431</td> <td>    0.008</td> <td>    5.310</td> <td> 0.000</td> <td>    0.027</td> <td>    0.059</td>\n",
              "</tr>\n",
              "<tr>\n",
              "  <th>vmnet</th>                       <td>    0.0414</td> <td>    0.008</td> <td>    4.916</td> <td> 0.000</td> <td>    0.025</td> <td>    0.058</td>\n",
              "</tr>\n",
              "<tr>\n",
              "  <th>whois</th>                       <td>    0.0445</td> <td>    0.008</td> <td>    5.490</td> <td> 0.000</td> <td>    0.029</td> <td>    0.060</td>\n",
              "</tr>\n",
              "<tr>\n",
              "  <th>x11</th>                         <td>   -0.2164</td> <td>    0.021</td> <td>  -10.442</td> <td> 0.000</td> <td>   -0.257</td> <td>   -0.176</td>\n",
              "</tr>\n",
              "<tr>\n",
              "  <th>z39_50</th>                      <td>    0.0431</td> <td>    0.008</td> <td>    5.685</td> <td> 0.000</td> <td>    0.028</td> <td>    0.058</td>\n",
              "</tr>\n",
              "<tr>\n",
              "  <th>oth</th>                         <td>    0.5159</td> <td>    0.025</td> <td>   20.858</td> <td> 0.000</td> <td>    0.467</td> <td>    0.564</td>\n",
              "</tr>\n",
              "<tr>\n",
              "  <th>rej</th>                         <td>   -0.3271</td> <td>    0.011</td> <td>  -29.174</td> <td> 0.000</td> <td>   -0.349</td> <td>   -0.305</td>\n",
              "</tr>\n",
              "<tr>\n",
              "  <th>rsto</th>                        <td>   -0.2507</td> <td>    0.012</td> <td>  -21.416</td> <td> 0.000</td> <td>   -0.274</td> <td>   -0.228</td>\n",
              "</tr>\n",
              "<tr>\n",
              "  <th>rstos0</th>                      <td>    0.0238</td> <td>    0.017</td> <td>    1.411</td> <td> 0.158</td> <td>   -0.009</td> <td>    0.057</td>\n",
              "</tr>\n",
              "<tr>\n",
              "  <th>rstr</th>                        <td>    0.0259</td> <td>    0.012</td> <td>    2.256</td> <td> 0.024</td> <td>    0.003</td> <td>    0.048</td>\n",
              "</tr>\n",
              "<tr>\n",
              "  <th>s0</th>                          <td>    0.3162</td> <td>    0.009</td> <td>   35.854</td> <td> 0.000</td> <td>    0.299</td> <td>    0.333</td>\n",
              "</tr>\n",
              "<tr>\n",
              "  <th>s1</th>                          <td>   -0.1687</td> <td>    0.011</td> <td>  -15.280</td> <td> 0.000</td> <td>   -0.190</td> <td>   -0.147</td>\n",
              "</tr>\n",
              "<tr>\n",
              "  <th>s2</th>                          <td>   -0.0999</td> <td>    0.016</td> <td>   -6.308</td> <td> 0.000</td> <td>   -0.131</td> <td>   -0.069</td>\n",
              "</tr>\n",
              "<tr>\n",
              "  <th>s3</th>                          <td>   -0.1089</td> <td>    0.024</td> <td>   -4.627</td> <td> 0.000</td> <td>   -0.155</td> <td>   -0.063</td>\n",
              "</tr>\n",
              "<tr>\n",
              "  <th>sf</th>                          <td>   -0.0026</td> <td>    0.008</td> <td>   -0.347</td> <td> 0.729</td> <td>   -0.017</td> <td>    0.012</td>\n",
              "</tr>\n",
              "<tr>\n",
              "  <th>sh</th>                          <td>    0.3796</td> <td>    0.014</td> <td>   27.975</td> <td> 0.000</td> <td>    0.353</td> <td>    0.406</td>\n",
              "</tr>\n",
              "</table>"
            ],
            "text/latex": "\\begin{center}\n\\begin{tabular}{lclc}\n\\toprule\n\\textbf{Dep. Variable:}                   &  attack\\_state   & \\textbf{  No. Observations:  } &   125972    \\\\\n\\textbf{Model:}                           &       GLM        & \\textbf{  Df Residuals:      } &   125854    \\\\\n\\textbf{Model Family:}                    &     Gaussian     & \\textbf{  Df Model:          } &      117    \\\\\n\\textbf{Link Function:}                   &     Identity     & \\textbf{  Scale:             } &  0.030165   \\\\\n\\textbf{Method:}                          &       IRLS       & \\textbf{  Log-Likelihood:    } &    41832.   \\\\\n\\textbf{Date:}                            & Tue, 07 May 2024 & \\textbf{  Deviance:          } &    3796.3   \\\\\n\\textbf{Time:}                            &     00:46:53     & \\textbf{  Pearson chi2:      } &  3.80e+03   \\\\\n\\textbf{No. Iterations:}                  &        3         & \\textbf{  Pseudo R-squ. (CS):} &   0.9993    \\\\\n\\textbf{Covariance Type:}                 &    nonrobust     & \\textbf{                     } &             \\\\\n\\bottomrule\n\\end{tabular}\n\\begin{tabular}{lcccccc}\n                                          & \\textbf{coef} & \\textbf{std err} & \\textbf{z} & \\textbf{P$> |$z$|$} & \\textbf{[0.025} & \\textbf{0.975]}  \\\\\n\\midrule\n\\textbf{const}                            &       0.3035  &        0.008     &    40.015  &         0.000        &        0.289    &        0.318     \\\\\n\\textbf{duration}                         &   -4.074e-06  &     2.35e-07     &   -17.350  &         0.000        &    -4.53e-06    &    -3.61e-06     \\\\\n\\textbf{src\\_bytes}                       &    4.584e-10  &     8.53e-11     &     5.373  &         0.000        &     2.91e-10    &     6.26e-10     \\\\\n\\textbf{dst\\_bytes}                       &     1.67e-10  &     1.22e-10     &     1.372  &         0.170        &    -7.17e-11    &     4.06e-10     \\\\\n\\textbf{land}                             &      -0.2506  &        0.035     &    -7.079  &         0.000        &       -0.320    &       -0.181     \\\\\n\\textbf{wrong\\_fragment}                  &       0.1968  &        0.002     &    86.967  &         0.000        &        0.192    &        0.201     \\\\\n\\textbf{urgent}                           &      -0.0057  &        0.035     &    -0.165  &         0.869        &       -0.073    &        0.062     \\\\\n\\textbf{hot}                              &       0.0251  &        0.000     &    55.886  &         0.000        &        0.024    &        0.026     \\\\\n\\textbf{num\\_failed\\_logins}              &       0.0499  &        0.011     &     4.470  &         0.000        &        0.028    &        0.072     \\\\\n\\textbf{logged\\_in}                       &       0.1670  &        0.004     &    42.903  &         0.000        &        0.159    &        0.175     \\\\\n\\textbf{num\\_compromised}                 &       0.0086  &        0.001     &    13.969  &         0.000        &        0.007    &        0.010     \\\\\n\\textbf{root\\_shell}                      &       0.1463  &        0.017     &     8.532  &         0.000        &        0.113    &        0.180     \\\\\n\\textbf{su\\_attempted}                    &      -0.0668  &        0.018     &    -3.779  &         0.000        &       -0.101    &       -0.032     \\\\\n\\textbf{num\\_root}                        &      -0.0086  &        0.001     &   -13.991  &         0.000        &       -0.010    &       -0.007     \\\\\n\\textbf{num\\_file\\_creations}             &      -0.0121  &        0.001     &   -11.550  &         0.000        &       -0.014    &       -0.010     \\\\\n\\textbf{num\\_shells}                      &      -0.0192  &        0.022     &    -0.858  &         0.391        &       -0.063    &        0.025     \\\\\n\\textbf{num\\_access\\_files}               &       0.0338  &        0.007     &     4.991  &         0.000        &        0.021    &        0.047     \\\\\n\\textbf{num\\_outbound\\_cmds}              &    6.425e-16  &     6.05e-16     &     1.062  &         0.288        &    -5.44e-16    &     1.83e-15     \\\\\n\\textbf{is\\_host\\_login}                  &      -0.3679  &        0.174     &    -2.117  &         0.034        &       -0.708    &       -0.027     \\\\\n\\textbf{is\\_guest\\_login}                 &      -0.4361  &        0.013     &   -34.383  &         0.000        &       -0.461    &       -0.411     \\\\\n\\textbf{count}                            &       0.0002  &     1.03e-05     &    15.557  &         0.000        &        0.000    &        0.000     \\\\\n\\textbf{srv\\_count}                       &       0.0004  &     1.53e-05     &    24.095  &         0.000        &        0.000    &        0.000     \\\\\n\\textbf{serror\\_rate}                     &      -0.0656  &        0.012     &    -5.335  &         0.000        &       -0.090    &       -0.042     \\\\\n\\textbf{srv\\_serror\\_rate}                &       0.2685  &        0.013     &    20.041  &         0.000        &        0.242    &        0.295     \\\\\n\\textbf{rerror\\_rate}                     &      -0.0820  &        0.013     &    -6.233  &         0.000        &       -0.108    &       -0.056     \\\\\n\\textbf{srv\\_rerror\\_rate}                &       0.6245  &        0.015     &    40.926  &         0.000        &        0.595    &        0.654     \\\\\n\\textbf{same\\_srv\\_rate}                  &      -0.3404  &        0.004     &   -78.481  &         0.000        &       -0.349    &       -0.332     \\\\\n\\textbf{diff\\_srv\\_rate}                  &      -0.0645  &        0.004     &   -15.392  &         0.000        &       -0.073    &       -0.056     \\\\\n\\textbf{srv\\_diff\\_host\\_rate}            &       0.0376  &        0.002     &    15.366  &         0.000        &        0.033    &        0.042     \\\\\n\\textbf{dst\\_host\\_count}                 &       0.0004  &     7.64e-06     &    47.651  &         0.000        &        0.000    &        0.000     \\\\\n\\textbf{dst\\_host\\_srv\\_count}            &      -0.0009  &     1.35e-05     &   -65.196  &         0.000        &       -0.001    &       -0.001     \\\\\n\\textbf{dst\\_host\\_same\\_srv\\_rate}       &       0.1352  &        0.004     &    32.953  &         0.000        &        0.127    &        0.143     \\\\\n\\textbf{dst\\_host\\_diff\\_srv\\_rate}       &       0.1916  &        0.005     &    39.700  &         0.000        &        0.182    &        0.201     \\\\\n\\textbf{dst\\_host\\_same\\_src\\_port\\_rate} &       0.1257  &        0.003     &    41.639  &         0.000        &        0.120    &        0.132     \\\\\n\\textbf{dst\\_host\\_srv\\_diff\\_host\\_rate} &       0.1657  &        0.007     &    24.500  &         0.000        &        0.152    &        0.179     \\\\\n\\textbf{dst\\_host\\_serror\\_rate}          &       0.0622  &        0.008     &     8.211  &         0.000        &        0.047    &        0.077     \\\\\n\\textbf{dst\\_host\\_srv\\_serror\\_rate}     &      -0.0014  &        0.009     &    -0.150  &         0.880        &       -0.020    &        0.017     \\\\\n\\textbf{dst\\_host\\_rerror\\_rate}          &       0.1079  &        0.005     &    20.498  &         0.000        &        0.098    &        0.118     \\\\\n\\textbf{dst\\_host\\_srv\\_rerror\\_rate}     &       0.1521  &        0.007     &    21.255  &         0.000        &        0.138    &        0.166     \\\\\n\\textbf{icmp}                             &       0.1695  &        0.012     &    14.368  &         0.000        &        0.146    &        0.193     \\\\\n\\textbf{tcp}                              &      -0.0220  &        0.006     &    -3.891  &         0.000        &       -0.033    &       -0.011     \\\\\n\\textbf{udp}                              &       0.1560  &        0.006     &    27.514  &         0.000        &        0.145    &        0.167     \\\\\n\\textbf{aol}                              &      -0.0554  &        0.121     &    -0.458  &         0.647        &       -0.293    &        0.182     \\\\\n\\textbf{auth}                             &      -0.0263  &        0.007     &    -3.576  &         0.000        &       -0.041    &       -0.012     \\\\\n\\textbf{bgp}                              &       0.0419  &        0.008     &     5.207  &         0.000        &        0.026    &        0.058     \\\\\n\\textbf{courier}                          &       0.0701  &        0.008     &     8.775  &         0.000        &        0.054    &        0.086     \\\\\n\\textbf{csnet\\_ns}                        &       0.0412  &        0.009     &     4.698  &         0.000        &        0.024    &        0.058     \\\\\n\\textbf{ctf}                              &       0.0455  &        0.009     &     5.240  &         0.000        &        0.028    &        0.062     \\\\\n\\textbf{daytime}                          &       0.0272  &        0.009     &     3.040  &         0.002        &        0.010    &        0.045     \\\\\n\\textbf{discard}                          &       0.0284  &        0.009     &     3.207  &         0.001        &        0.011    &        0.046     \\\\\n\\textbf{domain}                           &       0.0113  &        0.009     &     1.305  &         0.192        &       -0.006    &        0.028     \\\\\n\\textbf{domain\\_u}                        &      -0.2174  &        0.006     &   -34.060  &         0.000        &       -0.230    &       -0.205     \\\\\n\\textbf{echo}                             &       0.0327  &        0.010     &     3.424  &         0.001        &        0.014    &        0.051     \\\\\n\\textbf{eco\\_i}                           &       0.4787  &        0.016     &    30.380  &         0.000        &        0.448    &        0.510     \\\\\n\\textbf{ecr\\_i}                           &       0.4834  &        0.016     &    30.458  &         0.000        &        0.452    &        0.515     \\\\\n\\textbf{efs}                              &       0.0812  &        0.009     &     8.846  &         0.000        &        0.063    &        0.099     \\\\\n\\textbf{exec}                             &       0.0628  &        0.009     &     6.753  &         0.000        &        0.045    &        0.081     \\\\\n\\textbf{finger}                           &       0.0743  &        0.006     &    11.456  &         0.000        &        0.062    &        0.087     \\\\\n\\textbf{ftp}                              &       0.0233  &        0.009     &     2.682  &         0.007        &        0.006    &        0.040     \\\\\n\\textbf{ftp\\_data}                        &      -0.0473  &        0.006     &    -8.338  &         0.000        &       -0.058    &       -0.036     \\\\\n\\textbf{gopher}                           &       0.0575  &        0.009     &     6.432  &         0.000        &        0.040    &        0.075     \\\\\n\\textbf{harvest}                          &      -0.1189  &        0.121     &    -0.981  &         0.327        &       -0.356    &        0.119     \\\\\n\\textbf{hostnames}                        &       0.0409  &        0.009     &     4.384  &         0.000        &        0.023    &        0.059     \\\\\n\\textbf{http}                             &      -0.0931  &        0.006     &   -16.134  &         0.000        &       -0.104    &       -0.082     \\\\\n\\textbf{http\\_2784}                       &      -0.0531  &        0.171     &    -0.311  &         0.756        &       -0.389    &        0.282     \\\\\n\\textbf{http\\_443}                        &       0.0801  &        0.009     &     9.005  &         0.000        &        0.063    &        0.097     \\\\\n\\textbf{http\\_8001}                       &      -0.1198  &        0.121     &    -0.988  &         0.323        &       -0.357    &        0.118     \\\\\n\\textbf{imap4}                            &       0.0454  &        0.008     &     5.481  &         0.000        &        0.029    &        0.062     \\\\\n\\textbf{irc}                              &      -0.6544  &        0.014     &   -46.844  &         0.000        &       -0.682    &       -0.627     \\\\\n\\textbf{iso\\_tsap}                        &       0.0381  &        0.008     &     4.686  &         0.000        &        0.022    &        0.054     \\\\\n\\textbf{klogin}                           &       0.0890  &        0.010     &     9.308  &         0.000        &        0.070    &        0.108     \\\\\n\\textbf{kshell}                           &       0.0806  &        0.011     &     7.304  &         0.000        &        0.059    &        0.102     \\\\\n\\textbf{ldap}                             &       0.0664  &        0.010     &     6.816  &         0.000        &        0.047    &        0.085     \\\\\n\\textbf{link}                             &       0.0453  &        0.009     &     4.917  &         0.000        &        0.027    &        0.063     \\\\\n\\textbf{login}                            &       0.0720  &        0.010     &     7.484  &         0.000        &        0.053    &        0.091     \\\\\n\\textbf{mtp}                              &       0.0425  &        0.009     &     4.478  &         0.000        &        0.024    &        0.061     \\\\\n\\textbf{name}                             &       0.0496  &        0.009     &     5.278  &         0.000        &        0.031    &        0.068     \\\\\n\\textbf{netbios\\_dgm}                     &       0.0409  &        0.010     &     4.183  &         0.000        &        0.022    &        0.060     \\\\\n\\textbf{netbios\\_ns}                      &       0.0512  &        0.010     &     4.937  &         0.000        &        0.031    &        0.072     \\\\\n\\textbf{netbios\\_ssn}                     &       0.0481  &        0.010     &     4.715  &         0.000        &        0.028    &        0.068     \\\\\n\\textbf{netstat}                          &       0.0436  &        0.010     &     4.265  &         0.000        &        0.024    &        0.064     \\\\\n\\textbf{nnsp}                             &       0.0707  &        0.008     &     8.429  &         0.000        &        0.054    &        0.087     \\\\\n\\textbf{nntp}                             &       0.0446  &        0.011     &     4.032  &         0.000        &        0.023    &        0.066     \\\\\n\\textbf{ntp\\_u}                           &      -0.2945  &        0.014     &   -20.440  &         0.000        &       -0.323    &       -0.266     \\\\\n\\textbf{other}                            &      -0.2807  &        0.006     &   -46.687  &         0.000        &       -0.292    &       -0.269     \\\\\n\\textbf{pm\\_dump}                         &       0.7045  &        0.077     &     9.152  &         0.000        &        0.554    &        0.855     \\\\\n\\textbf{pop\\_2}                           &       0.0564  &        0.020     &     2.824  &         0.005        &        0.017    &        0.095     \\\\\n\\textbf{pop\\_3}                           &      -0.1725  &        0.012     &   -14.626  &         0.000        &       -0.196    &       -0.149     \\\\\n\\textbf{printer}                          &       0.0692  &        0.021     &     3.267  &         0.001        &        0.028    &        0.111     \\\\\n\\textbf{private}                          &       0.0768  &        0.005     &    15.429  &         0.000        &        0.067    &        0.087     \\\\\n\\textbf{red\\_i}                           &      -0.2018  &        0.054     &    -3.754  &         0.000        &       -0.307    &       -0.096     \\\\\n\\textbf{remote\\_job}                      &       0.0613  &        0.020     &     3.071  &         0.002        &        0.022    &        0.100     \\\\\n\\textbf{rje}                              &       0.0710  &        0.019     &     3.727  &         0.000        &        0.034    &        0.108     \\\\\n\\textbf{shell}                            &       0.0580  &        0.022     &     2.665  &         0.008        &        0.015    &        0.101     \\\\\n\\textbf{smtp}                             &      -0.1565  &        0.006     &   -26.540  &         0.000        &       -0.168    &       -0.145     \\\\\n\\textbf{sql\\_net}                         &       0.0606  &        0.012     &     5.072  &         0.000        &        0.037    &        0.084     \\\\\n\\textbf{ssh}                              &       0.0510  &        0.011     &     4.705  &         0.000        &        0.030    &        0.072     \\\\\n\\textbf{sunrpc}                           &       0.0368  &        0.010     &     3.668  &         0.000        &        0.017    &        0.056     \\\\\n\\textbf{supdup}                           &       0.0451  &        0.009     &     5.140  &         0.000        &        0.028    &        0.062     \\\\\n\\textbf{systat}                           &       0.0414  &        0.009     &     4.499  &         0.000        &        0.023    &        0.059     \\\\\n\\textbf{telnet}                           &      -0.0056  &        0.006     &    -0.908  &         0.364        &       -0.018    &        0.007     \\\\\n\\textbf{tftp\\_u}                          &      -0.4851  &        0.099     &    -4.903  &         0.000        &       -0.679    &       -0.291     \\\\\n\\textbf{tim\\_i}                           &       0.0519  &        0.054     &     0.965  &         0.334        &       -0.053    &        0.157     \\\\\n\\textbf{time}                             &       0.0196  &        0.008     &     2.370  &         0.018        &        0.003    &        0.036     \\\\\n\\textbf{urh\\_i}                           &      -0.2483  &        0.049     &    -5.114  &         0.000        &       -0.343    &       -0.153     \\\\\n\\textbf{urp\\_i}                           &      -0.3944  &        0.017     &   -23.893  &         0.000        &       -0.427    &       -0.362     \\\\\n\\textbf{uucp}                             &       0.0606  &        0.008     &     7.677  &         0.000        &        0.045    &        0.076     \\\\\n\\textbf{uucp\\_path}                       &       0.0431  &        0.008     &     5.310  &         0.000        &        0.027    &        0.059     \\\\\n\\textbf{vmnet}                            &       0.0414  &        0.008     &     4.916  &         0.000        &        0.025    &        0.058     \\\\\n\\textbf{whois}                            &       0.0445  &        0.008     &     5.490  &         0.000        &        0.029    &        0.060     \\\\\n\\textbf{x11}                              &      -0.2164  &        0.021     &   -10.442  &         0.000        &       -0.257    &       -0.176     \\\\\n\\textbf{z39\\_50}                          &       0.0431  &        0.008     &     5.685  &         0.000        &        0.028    &        0.058     \\\\\n\\textbf{oth}                              &       0.5159  &        0.025     &    20.858  &         0.000        &        0.467    &        0.564     \\\\\n\\textbf{rej}                              &      -0.3271  &        0.011     &   -29.174  &         0.000        &       -0.349    &       -0.305     \\\\\n\\textbf{rsto}                             &      -0.2507  &        0.012     &   -21.416  &         0.000        &       -0.274    &       -0.228     \\\\\n\\textbf{rstos0}                           &       0.0238  &        0.017     &     1.411  &         0.158        &       -0.009    &        0.057     \\\\\n\\textbf{rstr}                             &       0.0259  &        0.012     &     2.256  &         0.024        &        0.003    &        0.048     \\\\\n\\textbf{s0}                               &       0.3162  &        0.009     &    35.854  &         0.000        &        0.299    &        0.333     \\\\\n\\textbf{s1}                               &      -0.1687  &        0.011     &   -15.280  &         0.000        &       -0.190    &       -0.147     \\\\\n\\textbf{s2}                               &      -0.0999  &        0.016     &    -6.308  &         0.000        &       -0.131    &       -0.069     \\\\\n\\textbf{s3}                               &      -0.1089  &        0.024     &    -4.627  &         0.000        &       -0.155    &       -0.063     \\\\\n\\textbf{sf}                               &      -0.0026  &        0.008     &    -0.347  &         0.729        &       -0.017    &        0.012     \\\\\n\\textbf{sh}                               &       0.3796  &        0.014     &    27.975  &         0.000        &        0.353    &        0.406     \\\\\n\\bottomrule\n\\end{tabular}\n%\\caption{Generalized Linear Model Regression Results}\n\\end{center}"
          },
          "metadata": {},
          "execution_count": 14
        }
      ]
    },
    {
      "cell_type": "markdown",
      "source": [
        "### Cross Validation"
      ],
      "metadata": {
        "id": "RT6KFVZSMxvm"
      }
    },
    {
      "cell_type": "code",
      "source": [
        "LR = LogisticRegression()\n",
        "LR.fit(X_train_train , Y_train_train)\n",
        "# cv1(X_train, Y_train, LR)\n",
        "cv1(X_train_train, Y_train_train, LR)"
      ],
      "metadata": {
        "id": "Ig6T0j8LgkJG",
        "colab": {
          "base_uri": "https://localhost:8080/",
          "height": 646
        },
        "outputId": "9487da1c-a7bf-4dca-d190-f845138f07d0"
      },
      "execution_count": 15,
      "outputs": [
        {
          "output_type": "stream",
          "name": "stdout",
          "text": [
            "      Metric  Mean Train Score  Mean Test Score\n",
            "0   accuracy          0.871474         0.871125\n",
            "1  precision          0.849321         0.848782\n",
            "2     recall          0.880754         0.880930\n",
            "3         f1          0.864044         0.863804\n",
            "4        auc          0.908189         0.908368\n"
          ]
        },
        {
          "output_type": "display_data",
          "data": {
            "text/plain": [
              "<Figure size 1000x600 with 1 Axes>"
            ],
            "image/png": "[encoded data removed]"
          },
          "metadata": {}
        }
      ]
    },
    {
      "cell_type": "code",
      "source": [
        "DT = DecisionTreeClassifier(max_features=6, max_depth=4)\n",
        "DT.fit(X_train_train, Y_train_train)\n",
        "cv1(X_train_train, Y_train_train, DT)"
      ],
      "metadata": {
        "id": "tc0e8tp5hKZh",
        "colab": {
          "base_uri": "https://localhost:8080/",
          "height": 646
        },
        "outputId": "6dd4a72c-43df-4cf3-8b8b-0882814c0e09"
      },
      "execution_count": 16,
      "outputs": [
        {
          "output_type": "stream",
          "name": "stdout",
          "text": [
            "      Metric  Mean Train Score  Mean Test Score\n",
            "0   accuracy          0.892710         0.891890\n",
            "1  precision          0.906201         0.904595\n",
            "2     recall          0.867914         0.867386\n",
            "3         f1          0.883707         0.882657\n",
            "4        auc          0.923817         0.923153\n"
          ]
        },
        {
          "output_type": "display_data",
          "data": {
            "text/plain": [
              "<Figure size 1000x600 with 1 Axes>"
            ],
            "image/png": "[encoded data removed]"
          },
          "metadata": {}
        }
      ]
    },
    {
      "cell_type": "code",
      "source": [
        "max_depth= [1, 2, 3, 4, 5, 6, 7, 8, 9, 10, 11]\n",
        "\n",
        "Parameters={ 'max_depth': max_depth}\n",
        "RF= RandomForestClassifier()\n",
        "GridSearch(RF, Parameters, X_train_train, Y_train_train)\n",
        "RF.fit(X_train_train, Y_train_train)\n",
        "cv1(X_train_train, Y_train_train, RF)"
      ],
      "metadata": {
        "id": "9RRgMsw_hVFJ",
        "colab": {
          "base_uri": "https://localhost:8080/",
          "height": 646
        },
        "outputId": "a7b48b25-f06c-4b18-c5aa-a6f45f5b7d7b"
      },
      "execution_count": 17,
      "outputs": [
        {
          "output_type": "stream",
          "name": "stdout",
          "text": [
            "      Metric  Mean Train Score  Mean Test Score\n",
            "0   accuracy          0.999952         0.998825\n",
            "1  precision          0.999942         0.999361\n",
            "2     recall          0.999954         0.998108\n",
            "3         f1          0.999948         0.998734\n",
            "4        auc          1.000000         0.999991\n"
          ]
        },
        {
          "output_type": "display_data",
          "data": {
            "text/plain": [
              "<Figure size 1000x600 with 1 Axes>"
            ],
            "image/png": "[encoded data removed]"
          },
          "metadata": {}
        }
      ]
    },
    {
      "cell_type": "code",
      "source": [
        "KNN= KNeighborsClassifier(n_neighbors=6)\n",
        "KNN.fit(X_train_train, Y_train_train)\n",
        "cv1(X_train_train, Y_train_train, KNN)"
      ],
      "metadata": {
        "id": "owHKaDvrhgyy",
        "colab": {
          "base_uri": "https://localhost:8080/",
          "height": 646
        },
        "outputId": "4ba5ad0d-c1a1-46d4-f08a-d1084bf1ceac"
      },
      "execution_count": 18,
      "outputs": [
        {
          "output_type": "stream",
          "name": "stdout",
          "text": [
            "      Metric  Mean Train Score  Mean Test Score\n",
            "0   accuracy          0.993382         0.991522\n",
            "1  precision          0.995974         0.993785\n",
            "2     recall          0.989744         0.987915\n",
            "3         f1          0.992850         0.990841\n",
            "4        auc          0.999882         0.997970\n"
          ]
        },
        {
          "output_type": "display_data",
          "data": {
            "text/plain": [
              "<Figure size 1000x600 with 1 Axes>"
            ],
            "image/png": "[encoded data removed]"
          },
          "metadata": {}
        }
      ]
    },
    {
      "cell_type": "code",
      "source": [
        "Linear_SVC = svm.LinearSVC(C=1)\n",
        "Linear_SVC.fit(X_train_train, Y_train_train)\n",
        "cv1(X_train_train, Y_train_train, Linear_SVC)"
      ],
      "metadata": {
        "id": "hB8_Cm6hhooJ",
        "colab": {
          "base_uri": "https://localhost:8080/",
          "height": 646
        },
        "outputId": "e341b65c-55cf-458c-ca8b-815821aad973"
      },
      "execution_count": 19,
      "outputs": [
        {
          "output_type": "stream",
          "name": "stdout",
          "text": [
            "      Metric  Mean Train Score  Mean Test Score\n",
            "0   accuracy          0.970518         0.969909\n",
            "1  precision          0.971105         0.970101\n",
            "2     recall          0.965388         0.965068\n",
            "3         f1          0.968134         0.967479\n",
            "4        auc          0.980218         0.979744\n"
          ]
        },
        {
          "output_type": "display_data",
          "data": {
            "text/plain": [
              "<Figure size 1000x600 with 1 Axes>"
            ],
            "image/png": "[encoded data removed]"
          },
          "metadata": {}
        }
      ]
    }
  ]
}