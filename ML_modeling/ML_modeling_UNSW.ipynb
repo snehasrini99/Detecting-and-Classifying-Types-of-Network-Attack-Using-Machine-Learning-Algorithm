{
  "nbformat": 4,
  "nbformat_minor": 0,
  "metadata": {
    "colab": {
      "provenance": [],
      "authorship_tag": "ABX9TyNX9Tw+NnwvRTNeoxoKBcXv",
      "include_colab_link": true
    },
    "kernelspec": {
      "name": "python3",
      "display_name": "Python 3"
    },
    "language_info": {
      "name": "python"
    }
  },
  "cells": [
    {
      "cell_type": "markdown",
      "metadata": {
        "id": "view-in-github",
        "colab_type": "text"
      },
      "source": [
        "<a href=\"https://colab.research.google.com/github/snehasrini99/Network_attack_classification/blob/main/ML_modeling_UNSW.ipynb\" target=\"_parent\"><img src=\"https://colab.research.google.com/assets/colab-badge.svg\" alt=\"Open In Colab\"/></a>"
      ]
    },
    {
      "cell_type": "markdown",
      "source": [
        "# ML Modeling_UNSW\n",
        "running different ML algorithms with UNSW dataset to sort which ML algorithm works best with Network dataset"
      ],
      "metadata": {
        "id": "ZAgs2U6taRTd"
      }
    },
    {
      "cell_type": "code",
      "execution_count": 1,
      "metadata": {
        "id": "zuOcnHmWaMq8"
      },
      "outputs": [],
      "source": [
        "import numpy as np\n",
        "import pandas as pd\n",
        "import matplotlib.pyplot as plt\n",
        "import seaborn as sns\n",
        "import warnings\n",
        "import statsmodels.api as sm\n",
        "from sklearn.preprocessing import LabelEncoder\n",
        "from sklearn.preprocessing import RobustScaler\n",
        "from sklearn.model_selection import train_test_split,GridSearchCV\n",
        "from sklearn.decomposition import PCA\n",
        "from sklearn.linear_model import LogisticRegression\n",
        "from sklearn.neighbors import KNeighborsClassifier\n",
        "from sklearn.tree  import DecisionTreeClassifier\n",
        "from sklearn.ensemble import RandomForestClassifier\n",
        "from sklearn import tree\n",
        "from sklearn import svm\n",
        "from sklearn.svm import SVC\n",
        "from sklearn.naive_bayes import GaussianNB\n",
        "from sklearn import metrics\n",
        "from sklearn.metrics import confusion_matrix\n",
        "from sklearn.metrics import RocCurveDisplay #changed From sklearn 1.2\n",
        "from sklearn.model_selection import GridSearchCV\n",
        "from mlxtend.plotting import plot_confusion_matrix\n",
        "\n",
        "# Turn off the warnings.\n",
        "warnings.filterwarnings(action='ignore')\n",
        "%matplotlib inline"
      ]
    },
    {
      "cell_type": "code",
      "source": [
        "from google.colab import drive\n",
        "drive.mount('/content/drive')"
      ],
      "metadata": {
        "colab": {
          "base_uri": "https://localhost:8080/",
          "height": 304
        },
        "id": "K7XnZHcAaYLG",
        "outputId": "9084ccb6-ae6f-4387-adca-a80a6188c4b8"
      },
      "execution_count": 2,
      "outputs": [
        {
          "output_type": "error",
          "ename": "MessageError",
          "evalue": "Error: credential propagation was unsuccessful",
          "traceback": [
            "\u001b[0;31m---------------------------------------------------------------------------\u001b[0m",
            "\u001b[0;31mMessageError\u001b[0m                              Traceback (most recent call last)",
            "\u001b[0;32m<ipython-input-2-d5df0069828e>\u001b[0m in \u001b[0;36m<cell line: 2>\u001b[0;34m()\u001b[0m\n\u001b[1;32m      1\u001b[0m \u001b[0;32mfrom\u001b[0m \u001b[0mgoogle\u001b[0m\u001b[0;34m.\u001b[0m\u001b[0mcolab\u001b[0m \u001b[0;32mimport\u001b[0m \u001b[0mdrive\u001b[0m\u001b[0;34m\u001b[0m\u001b[0;34m\u001b[0m\u001b[0m\n\u001b[0;32m----> 2\u001b[0;31m \u001b[0mdrive\u001b[0m\u001b[0;34m.\u001b[0m\u001b[0mmount\u001b[0m\u001b[0;34m(\u001b[0m\u001b[0;34m'/content/drive'\u001b[0m\u001b[0;34m)\u001b[0m\u001b[0;34m\u001b[0m\u001b[0;34m\u001b[0m\u001b[0m\n\u001b[0m",
            "\u001b[0;32m/usr/local/lib/python3.10/dist-packages/google/colab/drive.py\u001b[0m in \u001b[0;36mmount\u001b[0;34m(mountpoint, force_remount, timeout_ms, readonly)\u001b[0m\n\u001b[1;32m     98\u001b[0m \u001b[0;32mdef\u001b[0m \u001b[0mmount\u001b[0m\u001b[0;34m(\u001b[0m\u001b[0mmountpoint\u001b[0m\u001b[0;34m,\u001b[0m \u001b[0mforce_remount\u001b[0m\u001b[0;34m=\u001b[0m\u001b[0;32mFalse\u001b[0m\u001b[0;34m,\u001b[0m \u001b[0mtimeout_ms\u001b[0m\u001b[0;34m=\u001b[0m\u001b[0;36m120000\u001b[0m\u001b[0;34m,\u001b[0m \u001b[0mreadonly\u001b[0m\u001b[0;34m=\u001b[0m\u001b[0;32mFalse\u001b[0m\u001b[0;34m)\u001b[0m\u001b[0;34m:\u001b[0m\u001b[0;34m\u001b[0m\u001b[0;34m\u001b[0m\u001b[0m\n\u001b[1;32m     99\u001b[0m   \u001b[0;34m\"\"\"Mount your Google Drive at the specified mountpoint path.\"\"\"\u001b[0m\u001b[0;34m\u001b[0m\u001b[0;34m\u001b[0m\u001b[0m\n\u001b[0;32m--> 100\u001b[0;31m   return _mount(\n\u001b[0m\u001b[1;32m    101\u001b[0m       \u001b[0mmountpoint\u001b[0m\u001b[0;34m,\u001b[0m\u001b[0;34m\u001b[0m\u001b[0;34m\u001b[0m\u001b[0m\n\u001b[1;32m    102\u001b[0m       \u001b[0mforce_remount\u001b[0m\u001b[0;34m=\u001b[0m\u001b[0mforce_remount\u001b[0m\u001b[0;34m,\u001b[0m\u001b[0;34m\u001b[0m\u001b[0;34m\u001b[0m\u001b[0m\n",
            "\u001b[0;32m/usr/local/lib/python3.10/dist-packages/google/colab/drive.py\u001b[0m in \u001b[0;36m_mount\u001b[0;34m(mountpoint, force_remount, timeout_ms, ephemeral, readonly)\u001b[0m\n\u001b[1;32m    131\u001b[0m   )\n\u001b[1;32m    132\u001b[0m   \u001b[0;32mif\u001b[0m \u001b[0mephemeral\u001b[0m\u001b[0;34m:\u001b[0m\u001b[0;34m\u001b[0m\u001b[0;34m\u001b[0m\u001b[0m\n\u001b[0;32m--> 133\u001b[0;31m     _message.blocking_request(\n\u001b[0m\u001b[1;32m    134\u001b[0m         \u001b[0;34m'request_auth'\u001b[0m\u001b[0;34m,\u001b[0m \u001b[0mrequest\u001b[0m\u001b[0;34m=\u001b[0m\u001b[0;34m{\u001b[0m\u001b[0;34m'authType'\u001b[0m\u001b[0;34m:\u001b[0m \u001b[0;34m'dfs_ephemeral'\u001b[0m\u001b[0;34m}\u001b[0m\u001b[0;34m,\u001b[0m \u001b[0mtimeout_sec\u001b[0m\u001b[0;34m=\u001b[0m\u001b[0;32mNone\u001b[0m\u001b[0;34m\u001b[0m\u001b[0;34m\u001b[0m\u001b[0m\n\u001b[1;32m    135\u001b[0m     )\n",
            "\u001b[0;32m/usr/local/lib/python3.10/dist-packages/google/colab/_message.py\u001b[0m in \u001b[0;36mblocking_request\u001b[0;34m(request_type, request, timeout_sec, parent)\u001b[0m\n\u001b[1;32m    174\u001b[0m       \u001b[0mrequest_type\u001b[0m\u001b[0;34m,\u001b[0m \u001b[0mrequest\u001b[0m\u001b[0;34m,\u001b[0m \u001b[0mparent\u001b[0m\u001b[0;34m=\u001b[0m\u001b[0mparent\u001b[0m\u001b[0;34m,\u001b[0m \u001b[0mexpect_reply\u001b[0m\u001b[0;34m=\u001b[0m\u001b[0;32mTrue\u001b[0m\u001b[0;34m\u001b[0m\u001b[0;34m\u001b[0m\u001b[0m\n\u001b[1;32m    175\u001b[0m   )\n\u001b[0;32m--> 176\u001b[0;31m   \u001b[0;32mreturn\u001b[0m \u001b[0mread_reply_from_input\u001b[0m\u001b[0;34m(\u001b[0m\u001b[0mrequest_id\u001b[0m\u001b[0;34m,\u001b[0m \u001b[0mtimeout_sec\u001b[0m\u001b[0;34m)\u001b[0m\u001b[0;34m\u001b[0m\u001b[0;34m\u001b[0m\u001b[0m\n\u001b[0m",
            "\u001b[0;32m/usr/local/lib/python3.10/dist-packages/google/colab/_message.py\u001b[0m in \u001b[0;36mread_reply_from_input\u001b[0;34m(message_id, timeout_sec)\u001b[0m\n\u001b[1;32m    101\u001b[0m     ):\n\u001b[1;32m    102\u001b[0m       \u001b[0;32mif\u001b[0m \u001b[0;34m'error'\u001b[0m \u001b[0;32min\u001b[0m \u001b[0mreply\u001b[0m\u001b[0;34m:\u001b[0m\u001b[0;34m\u001b[0m\u001b[0;34m\u001b[0m\u001b[0m\n\u001b[0;32m--> 103\u001b[0;31m         \u001b[0;32mraise\u001b[0m \u001b[0mMessageError\u001b[0m\u001b[0;34m(\u001b[0m\u001b[0mreply\u001b[0m\u001b[0;34m[\u001b[0m\u001b[0;34m'error'\u001b[0m\u001b[0;34m]\u001b[0m\u001b[0;34m)\u001b[0m\u001b[0;34m\u001b[0m\u001b[0;34m\u001b[0m\u001b[0m\n\u001b[0m\u001b[1;32m    104\u001b[0m       \u001b[0;32mreturn\u001b[0m \u001b[0mreply\u001b[0m\u001b[0;34m.\u001b[0m\u001b[0mget\u001b[0m\u001b[0;34m(\u001b[0m\u001b[0;34m'data'\u001b[0m\u001b[0;34m,\u001b[0m \u001b[0;32mNone\u001b[0m\u001b[0;34m)\u001b[0m\u001b[0;34m\u001b[0m\u001b[0;34m\u001b[0m\u001b[0m\n\u001b[1;32m    105\u001b[0m \u001b[0;34m\u001b[0m\u001b[0m\n",
            "\u001b[0;31mMessageError\u001b[0m: Error: credential propagation was unsuccessful"
          ]
        }
      ]
    },
    {
      "cell_type": "code",
      "source": [
        "%cd drive/MyDrive/24Spring/NSP/Project"
      ],
      "metadata": {
        "id": "Bc0CJLvRajEp"
      },
      "execution_count": null,
      "outputs": []
    },
    {
      "cell_type": "markdown",
      "source": [
        "## Cleaned UNSW Data\n",
        "need to run cleaned unsw dataset\n",
        "(change path/name of dataset)\n",
        "(change if column names are different - data encoding & splitting)"
      ],
      "metadata": {
        "id": "qNFPkoE9OGUO"
      }
    },
    {
      "cell_type": "code",
      "source": [
        "Trained_Data_UNSW = pd.read_csv(\"/content/drive/MyDrive/24Spring/NSP/Project/Data_final/Cleaned_Trained_Data_UNSW.csv\" , sep = \",\" , encoding = 'utf-8')\n",
        "Tested_Data_UNSW = pd.read_csv(\"/content/drive/MyDrive/24Spring/NSP/Project/Data_final/Cleaned_Tested_Data_UNSW.csv\" , sep = \",\" , encoding = 'utf-8')"
      ],
      "metadata": {
        "id": "8uSjHTc8UWH3"
      },
      "execution_count": null,
      "outputs": []
    },
    {
      "cell_type": "code",
      "source": [
        "Trained_Data_UNSW.info()"
      ],
      "metadata": {
        "id": "UXodSJ0lUWH3"
      },
      "execution_count": null,
      "outputs": []
    },
    {
      "cell_type": "code",
      "source": [
        "Tested_Data_UNSW.info()"
      ],
      "metadata": {
        "id": "4r1R-0lSUWH3"
      },
      "execution_count": null,
      "outputs": []
    },
    {
      "cell_type": "markdown",
      "source": [
        "### Data Encoding"
      ],
      "metadata": {
        "id": "ITMAp4ZlUWH3"
      }
    },
    {
      "cell_type": "code",
      "source": [
        "Trained_Data_UNSW = pd.get_dummies(Trained_Data_UNSW,columns=['proto','service','state'],prefix=\"\",prefix_sep=\"\")\n",
        "Tested_Data_UNSW = pd.get_dummies(Tested_Data_UNSW,columns=['proto','service','state'],prefix=\"\",prefix_sep=\"\")"
      ],
      "metadata": {
        "id": "gukj9pOpUWH3"
      },
      "execution_count": null,
      "outputs": []
    },
    {
      "cell_type": "code",
      "source": [
        "LE = LabelEncoder()\n",
        "attack_LE= LabelEncoder()\n",
        "Trained_Data_UNSW[\"attack_cat\"] = attack_LE.fit_transform(Trained_Data_UNSW[\"attack_cat\"])\n",
        "Tested_Data_UNSW[\"attack_cat\"] = attack_LE.fit_transform(Tested_Data_UNSW[\"attack_cat\"])"
      ],
      "metadata": {
        "id": "v8yClVrAUWH3"
      },
      "execution_count": null,
      "outputs": []
    },
    {
      "cell_type": "markdown",
      "source": [
        "### Data Splitting"
      ],
      "metadata": {
        "id": "kkopQeU-UWH3"
      }
    },
    {
      "cell_type": "code",
      "source": [
        "X_train_UNSW = Trained_Data_UNSW.drop(['attack_cat', 'label', 'ct_dst_ltm'], axis=1)\n",
        "X_test_UNSW = Tested_Data_UNSW.drop(['attack_cat', 'label', 'ct_dst_ltm'], axis=1)\n",
        "\n",
        "\n",
        "Y_train_UNSW = Trained_Data_UNSW['label']\n",
        "Y_test_UNSW = Tested_Data_UNSW['label']\n",
        "\n",
        "X_train_train_UNSW,X_test_train_UNSW ,Y_train_train_UNSW,Y_test_train_UNSW = train_test_split(X_train_UNSW, Y_train_UNSW, test_size= 0.25 , random_state=42)\n",
        "X_train_test_UNSW,X_test_test_UNSW,Y_train_test_UNSW,Y_test_test_UNSW = train_test_split(X_test_UNSW, Y_test_UNSW, test_size= 0.25 , random_state=42)"
      ],
      "metadata": {
        "id": "4wJTPGNPUWH3"
      },
      "execution_count": null,
      "outputs": []
    },
    {
      "cell_type": "markdown",
      "source": [
        "### Data Scaling"
      ],
      "metadata": {
        "id": "5yFd-Dy7UWH3"
      }
    },
    {
      "cell_type": "code",
      "source": [
        "Ro_scaler = RobustScaler()\n",
        "X_train_train_UNSW = Ro_scaler.fit_transform(X_train_train_UNSW)\n",
        "X_test_train_UNSW = Ro_scaler.transform(X_test_train_UNSW)\n",
        "X_train_test_UNSW = Ro_scaler.fit_transform(X_train_test_UNSW)\n",
        "X_test_test_UNSW = Ro_scaler.transform(X_test_test_UNSW)"
      ],
      "metadata": {
        "id": "UNGfyyyQUWH3"
      },
      "execution_count": null,
      "outputs": []
    },
    {
      "cell_type": "code",
      "source": [
        "X_train_train_UNSW.shape, Y_train_train_UNSW.shape\n",
        "X_test_train_UNSW.shape, Y_test_train_UNSW.shape\n",
        "X_train_test_UNSW.shape, Y_train_test_UNSW.shape\n",
        "X_test_test_UNSW.shape, Y_test_test_UNSW.shape"
      ],
      "metadata": {
        "id": "_626PZu0UWH3"
      },
      "execution_count": null,
      "outputs": []
    },
    {
      "cell_type": "markdown",
      "source": [
        "### VIF"
      ],
      "metadata": {
        "id": "IQnKHUZgUWH4"
      }
    },
    {
      "cell_type": "code",
      "source": [
        "A = sm.add_constant(X_train_UNSW.astype(float))\n",
        "Est1 = sm.GLM(Y_train_UNSW, A)\n",
        "Est2 = Est1.fit()\n",
        "Est2.summary()"
      ],
      "metadata": {
        "id": "naQv9sT6UWH4"
      },
      "execution_count": null,
      "outputs": []
    },
    {
      "cell_type": "markdown",
      "source": [
        "### Data Modeling"
      ],
      "metadata": {
        "id": "JVi8oiWzUWH4"
      }
    },
    {
      "cell_type": "code",
      "source": [
        "def Evaluate(Model_Name, Model_Abb, X_test, Y_test):\n",
        "\n",
        "    Pred_Value= Model_Abb.predict(X_test)\n",
        "    Accuracy = metrics.accuracy_score(Y_test,Pred_Value)\n",
        "    Sensitivity = metrics.recall_score(Y_test,Pred_Value)\n",
        "    Precision = metrics.precision_score(Y_test,Pred_Value)\n",
        "    F1_score = metrics.f1_score(Y_test,Pred_Value)\n",
        "    Recall = metrics.recall_score(Y_test,Pred_Value)\n",
        "\n",
        "    print('--------------------------------------------------\\n')\n",
        "    print('The {} Model Accuracy   = {}\\n'.format(Model_Name, np.round(Accuracy,3)))\n",
        "    print('The {} Model Sensitvity = {}\\n'.format(Model_Name, np.round(Sensitivity,3)))\n",
        "    print('The {} Model Precision  = {}\\n'.format(Model_Name, np.round(Precision,3)))\n",
        "    print('The {} Model F1 Score   = {}\\n'.format(Model_Name, np.round(F1_score,3)))\n",
        "    print('The {} Model Recall     = {}\\n'.format(Model_Name, np.round(Recall,3)))\n",
        "    print('--------------------------------------------------\\n')\n",
        "\n",
        "    Confusion_Matrix = metrics.confusion_matrix(Y_test, Pred_Value)\n",
        "    plot_confusion_matrix(Confusion_Matrix,class_names=['Normal', 'Attack'],figsize=(5.55,5), colorbar= \"blue\")\n",
        "\n",
        "    # changed into RocCurveDisplay https://github.com/mrdbourke/zero-to-mastery-ml/issues/45\n",
        "    # RocCurveDisplay.from_estimator(estimator=gs_log_reg, X=X_test, y=y_test);\n",
        "    RocCurveDisplay.from_estimator(estimator=Model_Abb, X=X_test, y=Y_test)\n",
        "\n",
        "    return X_test, Y_test, Pred_Value"
      ],
      "metadata": {
        "id": "mleNTg-1DAvY"
      },
      "execution_count": null,
      "outputs": []
    },
    {
      "cell_type": "code",
      "source": [
        "def GridSearch(Model_Abb, Parameters, X_train, Y_train):\n",
        "    Grid = GridSearchCV(estimator=Model_Abb, param_grid= Parameters, cv = 3, n_jobs=-1)\n",
        "    Grid_Result = Grid.fit(X_train, Y_train)\n",
        "    Model_Name = Grid_Result.best_estimator_\n",
        "\n",
        "    return (Model_Name)"
      ],
      "metadata": {
        "id": "mMvKR85IDCHC"
      },
      "execution_count": null,
      "outputs": []
    },
    {
      "cell_type": "markdown",
      "source": [
        "#### Logistic Regression"
      ],
      "metadata": {
        "id": "dDH__IwnUWH4"
      }
    },
    {
      "cell_type": "code",
      "source": [
        "LR_UNSW = LogisticRegression()\n",
        "LR_UNSW.fit(X_train_train_UNSW , Y_train_train_UNSW)"
      ],
      "metadata": {
        "id": "gjzKN3xSUWH4"
      },
      "execution_count": null,
      "outputs": []
    },
    {
      "cell_type": "code",
      "source": [
        "X_test_UNSW_LR, Y_test_UNSW_LR, Pred_Value_UNSW_LR = Evaluate('Logistic Regression', LR_UNSW, X_test_train_UNSW, Y_test_train_UNSW)"
      ],
      "metadata": {
        "id": "rkcRQEIFDGiD"
      },
      "execution_count": null,
      "outputs": []
    },
    {
      "cell_type": "markdown",
      "source": [
        "#### Decision Tree"
      ],
      "metadata": {
        "id": "bSRBfHYAUWH4"
      }
    },
    {
      "cell_type": "code",
      "source": [
        "DT_UNSW = DecisionTreeClassifier(max_features=6, max_depth=4)\n",
        "DT_UNSW.fit(X_train_train_UNSW, Y_train_train_UNSW)"
      ],
      "metadata": {
        "id": "B33gT8iKUWH4"
      },
      "execution_count": null,
      "outputs": []
    },
    {
      "cell_type": "code",
      "source": [
        "X_test_UNSW_DT, Y_test_UNSW_DT, Pred_Value_UNSW_DT = Evaluate('Decision Tree Classifier', DT_UNSW, X_test_train_UNSW, Y_test_train_UNSW)"
      ],
      "metadata": {
        "id": "YxFSLdW8UWH4"
      },
      "execution_count": null,
      "outputs": []
    },
    {
      "cell_type": "markdown",
      "source": [
        "#### Random Forest"
      ],
      "metadata": {
        "id": "Ir6nAMjTUWH4"
      }
    },
    {
      "cell_type": "code",
      "source": [
        "max_depth= [1, 2, 3, 4, 5, 6, 7, 8, 9, 10, 11]\n",
        "Parameters={ 'max_depth': max_depth}"
      ],
      "metadata": {
        "id": "oCCWjx3GUWH4"
      },
      "execution_count": null,
      "outputs": []
    },
    {
      "cell_type": "code",
      "source": [
        "RF_UNSW = RandomForestClassifier()\n",
        "GridSearch(RF_UNSW, Parameters, X_train_train_UNSW, Y_train_train_UNSW)\n",
        "RF_UNSW.fit(X_train_train_UNSW, Y_train_train_UNSW)"
      ],
      "metadata": {
        "id": "2F0uOm3lUWH4"
      },
      "execution_count": null,
      "outputs": []
    },
    {
      "cell_type": "code",
      "source": [
        "X_test_UNSW_RF, Y_test_UNSW_RF, Pred_Value_UNSW_RF = Evaluate('Random Forest Classifier', RF_UNSW, X_test_train_UNSW, Y_test_train_UNSW)"
      ],
      "metadata": {
        "id": "dOlMWoVNUWH5"
      },
      "execution_count": null,
      "outputs": []
    },
    {
      "cell_type": "markdown",
      "source": [
        "#### KNN"
      ],
      "metadata": {
        "id": "wD2lSzExUWH5"
      }
    },
    {
      "cell_type": "code",
      "source": [
        "KNN_UNSW = KNeighborsClassifier(n_neighbors=6)\n",
        "KNN_UNSW.fit(X_train_train_UNSW, Y_train_train_UNSW)"
      ],
      "metadata": {
        "id": "wvVMQMiJUWH5"
      },
      "execution_count": null,
      "outputs": []
    },
    {
      "cell_type": "code",
      "source": [
        "X_test_UNSW_KNN, Y_test_UNSW_KNN, Pred_Value_UNSW_KNN = Evaluate('KNN', KNN_UNSW, X_test_train_UNSW, Y_test_train_UNSW)"
      ],
      "metadata": {
        "id": "qPD3y3ieUWH5"
      },
      "execution_count": null,
      "outputs": []
    },
    {
      "cell_type": "markdown",
      "source": [
        "#### SVM"
      ],
      "metadata": {
        "id": "RPtSkKosUWH5"
      }
    },
    {
      "cell_type": "code",
      "source": [
        "Linear_SVC_UNSW = svm.LinearSVC(C=1)\n",
        "Linear_SVC_UNSW.fit(X_train_train_UNSW, Y_train_train_UNSW)"
      ],
      "metadata": {
        "id": "WBvzfk65UWH5"
      },
      "execution_count": null,
      "outputs": []
    },
    {
      "cell_type": "code",
      "source": [
        "X_test_UNSW_SVM, Y_test_UNSW_SVM, Pred_Value_UNSW_SVM = Evaluate('SVM Linear SVC Kernel', Linear_SVC_UNSW, X_test_train_UNSW, Y_test_train_UNSW)"
      ],
      "metadata": {
        "id": "3e145lXwUWH5"
      },
      "execution_count": null,
      "outputs": []
    },
    {
      "cell_type": "markdown",
      "source": [
        "# Saving results to CSV\n",
        "for further features on classifying which type of attack it was, we are saving the results from the Best Performed model using UNSW dataset"
      ],
      "metadata": {
        "id": "3XkcGhwSPHc9"
      }
    },
    {
      "cell_type": "code",
      "source": [
        "def result(X_test, Y_test, Pred_Value):\n",
        "# (122column, id as index, attack_state)\n",
        "\n",
        "    # df_X_test = pd.DataFrame(X_test)\n",
        "    df_Pred_Value_m = pd.Series(Pred_Value).rename('pred')\n",
        "    m_Y_test = Y_test.reset_index()\n",
        "    m_Y_test.columns = ['id', 'attack_state']\n",
        "\n",
        "    # result = pd.concat([df_X_test, m_Y_test, df_Pred_Value_m], axis=1)\n",
        "    result = pd.concat([m_Y_test, df_Pred_Value_m], axis=1)\n",
        "    result = result.set_index('id')\n",
        "\n",
        "    # count correct rows\n",
        "    matching_df = (result['attack_state'] == result['pred']).sum()\n",
        "    print(f\"number of correct perdiction is: {matching_df}\")\n",
        "    print(f\"total number of rows are: {len(X_test)}\")\n",
        "\n",
        "    # filter attacks\n",
        "    filtered_df = result[result['attack_state'] == 1]\n",
        "    print(f\"number of rows that are attack is: {len(filtered_df)}\")\n",
        "    filtered_df\n",
        "\n",
        "    return result, filtered_df"
      ],
      "metadata": {
        "id": "bZaBbFxVtFMh"
      },
      "execution_count": null,
      "outputs": []
    },
    {
      "cell_type": "code",
      "source": [
        "# Logistic Regression\n",
        "result_UNSW_lr, filtered_UNSW_lr = result(X_test_UNSW_LR, Y_test_UNSW_LR, Pred_Value_UNSW_LR)\n",
        "result_UNSW_lr.to_csv(r'/content/drive/MyDrive/24Spring/NSP/Project/outcome/modeling_result_unsw_lr.csv',index = False)\n",
        "filtered_UNSW_lr.to_csv(r'/content/drive/MyDrive/24Spring/NSP/Project/outcome/modeling_attacks_unsw_lr.csv',index = False)"
      ],
      "metadata": {
        "id": "8RwhN_0o-nEv"
      },
      "execution_count": null,
      "outputs": []
    },
    {
      "cell_type": "code",
      "source": [
        "# Decision Tree\n",
        "result_UNSW_dt, filtered_UNSW_dt = result(X_test_UNSW_DT, Y_test_UNSW_DT, Pred_Value_UNSW_DT)\n",
        "result_UNSW_dt.to_csv(r'/content/drive/MyDrive/24Spring/NSP/Project/outcome/modeling_result_unsw_dt.csv',index = False)\n",
        "filtered_UNSW_dt.to_csv(r'/content/drive/MyDrive/24Spring/NSP/Project/outcome/modeling_attacks_unsw_dt.csv',index = False)"
      ],
      "metadata": {
        "id": "2xt5lvZu-ysA"
      },
      "execution_count": null,
      "outputs": []
    },
    {
      "cell_type": "code",
      "source": [
        "# Random Forest\n",
        "result_UNSW_rf, filtered_UNSW_rf = result(X_test_UNSW_RF, Y_test_UNSW_RF, Pred_Value_UNSW_RF)\n",
        "result_UNSW_rf.to_csv(r'/content/drive/MyDrive/24Spring/NSP/Project/outcome/modeling_result_unsw_rf.csv',index = False)\n",
        "filtered_UNSW_rf.to_csv(r'/content/drive/MyDrive/24Spring/NSP/Project/outcome/modeling_attacks_unsw_rf.csv',index = False)"
      ],
      "metadata": {
        "id": "GxBR1aHMLlCg"
      },
      "execution_count": null,
      "outputs": []
    },
    {
      "cell_type": "code",
      "source": [
        "# KNN\n",
        "result_UNSW_knn, filtered_UNSW_knn = result(X_test_UNSW_KNN, Y_test_UNSW_KNN, Pred_Value_UNSW_KNN)\n",
        "result_UNSW_knn.to_csv(r'/content/drive/MyDrive/24Spring/NSP/Project/outcome/modeling_result_unsw_knn.csv',index = False)\n",
        "filtered_UNSW_knn.to_csv(r'/content/drive/MyDrive/24Spring/NSP/Project/outcome/modeling_attacks_unsw_knn.csv',index = False)"
      ],
      "metadata": {
        "id": "1Q51FH1p8bAc"
      },
      "execution_count": null,
      "outputs": []
    },
    {
      "cell_type": "code",
      "source": [
        "# SVM\n",
        "result_UNSW_svm, filtered_UNSW_svm = result(X_test_UNSW_SVM, Y_test_UNSW_SVM, Pred_Value_UNSW_SVM)\n",
        "result_UNSW_svm.to_csv(r'/content/drive/MyDrive/24Spring/NSP/Project/outcome/modeling_result_unsw_svm.csv',index = False)\n",
        "filtered_UNSW_svm.to_csv(r'/content/drive/MyDrive/24Spring/NSP/Project/outcome/modeling_attacks_unsw_svm.csv',index = False)"
      ],
      "metadata": {
        "id": "mjcMGodZ_OJs"
      },
      "execution_count": null,
      "outputs": []
    }
  ]
}
