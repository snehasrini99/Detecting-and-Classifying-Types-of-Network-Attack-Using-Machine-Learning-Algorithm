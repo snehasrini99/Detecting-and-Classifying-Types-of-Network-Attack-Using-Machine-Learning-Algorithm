{
  "nbformat": 4,
  "nbformat_minor": 0,
  "metadata": {
    "colab": {
      "provenance": []
    },
    "kernelspec": {
      "name": "python3",
      "display_name": "Python 3"
    },
    "language_info": {
      "name": "python"
    }
  },
  "cells": [
    {
      "cell_type": "code",
      "execution_count": 19,
      "metadata": {
        "colab": {
          "base_uri": "https://localhost:8080/"
        },
        "id": "epqx-zo040z6",
        "outputId": "42120525-a8de-4563-9b52-db794f9f6e97"
      },
      "outputs": [
        {
          "output_type": "stream",
          "name": "stdout",
          "text": [
            "Requirement already satisfied: catboost in /usr/local/lib/python3.10/dist-packages (1.2.5)\n",
            "Requirement already satisfied: graphviz in /usr/local/lib/python3.10/dist-packages (from catboost) (0.20.3)\n",
            "Requirement already satisfied: matplotlib in /usr/local/lib/python3.10/dist-packages (from catboost) (3.7.1)\n",
            "Requirement already satisfied: numpy>=1.16.0 in /usr/local/lib/python3.10/dist-packages (from catboost) (1.25.2)\n",
            "Requirement already satisfied: pandas>=0.24 in /usr/local/lib/python3.10/dist-packages (from catboost) (2.0.3)\n",
            "Requirement already satisfied: scipy in /usr/local/lib/python3.10/dist-packages (from catboost) (1.11.4)\n",
            "Requirement already satisfied: plotly in /usr/local/lib/python3.10/dist-packages (from catboost) (5.15.0)\n",
            "Requirement already satisfied: six in /usr/local/lib/python3.10/dist-packages (from catboost) (1.16.0)\n",
            "Requirement already satisfied: python-dateutil>=2.8.2 in /usr/local/lib/python3.10/dist-packages (from pandas>=0.24->catboost) (2.8.2)\n",
            "Requirement already satisfied: pytz>=2020.1 in /usr/local/lib/python3.10/dist-packages (from pandas>=0.24->catboost) (2023.4)\n",
            "Requirement already satisfied: tzdata>=2022.1 in /usr/local/lib/python3.10/dist-packages (from pandas>=0.24->catboost) (2024.1)\n",
            "Requirement already satisfied: contourpy>=1.0.1 in /usr/local/lib/python3.10/dist-packages (from matplotlib->catboost) (1.2.1)\n",
            "Requirement already satisfied: cycler>=0.10 in /usr/local/lib/python3.10/dist-packages (from matplotlib->catboost) (0.12.1)\n",
            "Requirement already satisfied: fonttools>=4.22.0 in /usr/local/lib/python3.10/dist-packages (from matplotlib->catboost) (4.51.0)\n",
            "Requirement already satisfied: kiwisolver>=1.0.1 in /usr/local/lib/python3.10/dist-packages (from matplotlib->catboost) (1.4.5)\n",
            "Requirement already satisfied: packaging>=20.0 in /usr/local/lib/python3.10/dist-packages (from matplotlib->catboost) (24.0)\n",
            "Requirement already satisfied: pillow>=6.2.0 in /usr/local/lib/python3.10/dist-packages (from matplotlib->catboost) (9.4.0)\n",
            "Requirement already satisfied: pyparsing>=2.3.1 in /usr/local/lib/python3.10/dist-packages (from matplotlib->catboost) (3.1.2)\n",
            "Requirement already satisfied: tenacity>=6.2.0 in /usr/local/lib/python3.10/dist-packages (from plotly->catboost) (8.2.3)\n",
            "Requirement already satisfied: scikit-learn in /usr/local/lib/python3.10/dist-packages (1.2.2)\n",
            "Requirement already satisfied: numpy>=1.17.3 in /usr/local/lib/python3.10/dist-packages (from scikit-learn) (1.25.2)\n",
            "Requirement already satisfied: scipy>=1.3.2 in /usr/local/lib/python3.10/dist-packages (from scikit-learn) (1.11.4)\n",
            "Requirement already satisfied: joblib>=1.1.1 in /usr/local/lib/python3.10/dist-packages (from scikit-learn) (1.4.0)\n",
            "Requirement already satisfied: threadpoolctl>=2.0.0 in /usr/local/lib/python3.10/dist-packages (from scikit-learn) (3.4.0)\n"
          ]
        }
      ],
      "source": [
        "import os\n",
        "import timeit\n",
        "import warnings\n",
        "from collections import defaultdict\n",
        "!pip install catboost\n",
        "!pip install scikit-learn\n",
        "\n",
        "\n",
        "import catboost as cb\n",
        "import lightgbm as lgb\n",
        "import matplotlib.pyplot as plt\n",
        "import numpy as np\n",
        "import pandas as pd\n",
        "import xgboost as xgb\n",
        "from imblearn.under_sampling import CondensedNearestNeighbour\n",
        "from sklearn.ensemble import AdaBoostClassifier\n",
        "from sklearn.ensemble import RandomForestClassifier, VotingClassifier\n",
        "from sklearn.linear_model import LogisticRegression\n",
        "from sklearn.linear_model import SGDClassifier\n",
        "from sklearn.metrics import accuracy_score, classification_report\n",
        "# from sklearn.metrics import plot_confusion_matrix\n",
        "\n",
        "from sklearn.metrics import confusion_matrix, zero_one_loss\n",
        "from sklearn.model_selection import GridSearchCV\n",
        "from sklearn.neighbors import KNeighborsClassifier\n",
        "from sklearn.neural_network import MLPClassifier\n",
        "from sklearn.preprocessing import MinMaxScaler\n",
        "from sklearn.preprocessing import RobustScaler\n",
        "from sklearn.preprocessing import StandardScaler\n",
        "from sklearn.svm import SVC\n",
        "from sklearn.tree import DecisionTreeClassifier\n",
        "from termcolor import colored\n"
      ]
    },
    {
      "cell_type": "code",
      "source": [
        "warnings.filterwarnings('ignore')\n",
        "\n",
        "np.random.seed(100)\n",
        "from google.colab import drive\n",
        "drive.mount('/content/drive')\n",
        "\n",
        "dataset_root = '/content/drive/My Drive/uva1/nslkdd'\n",
        "\n",
        "train_file = os.path.join(dataset_root, 'KDDTrain+.txt')\n",
        "test_file = os.path.join(dataset_root, 'KDDTest+.txt')\n",
        "\n",
        "# Original KDD dataset feature names obtained from\n",
        "# http://kdd.ics.uci.edu/databases/kddcup99/kddcup.names\n",
        "# http://kdd.ics.uci.edu/databases/kddcup99/kddcup99.html\n",
        "\n",
        "header_names = ['duration', 'protocol_type', 'service', 'flag', 'src_bytes', 'dst_bytes', 'land', 'wrong_fragment',\n",
        "                'urgent', 'hot', 'num_failed_logins', 'logged_in', 'num_compromised', 'root_shell', 'su_attempted',\n",
        "                'num_root', 'num_file_creations', 'num_shells', 'num_access_files', 'num_outbound_cmds',\n",
        "                'is_host_login', 'is_guest_login', 'count', 'srv_count', 'serror_rate', 'srv_serror_rate',\n",
        "                'rerror_rate', 'srv_rerror_rate', 'same_srv_rate', 'diff_srv_rate', 'srv_diff_host_rate',\n",
        "                'dst_host_count', 'dst_host_srv_count', 'dst_host_same_srv_rate', 'dst_host_diff_srv_rate',\n",
        "                'dst_host_same_src_port_rate', 'dst_host_srv_diff_host_rate', 'dst_host_serror_rate',\n",
        "                'dst_host_srv_serror_rate', 'dst_host_rerror_rate', 'dst_host_srv_rerror_rate', 'attack_type',\n",
        "                'success_pred']"
      ],
      "metadata": {
        "colab": {
          "base_uri": "https://localhost:8080/"
        },
        "id": "mFZumaaj6-Nl",
        "outputId": "582a8271-3245-44e2-b67f-17b74cfd778a"
      },
      "execution_count": 20,
      "outputs": [
        {
          "output_type": "stream",
          "name": "stdout",
          "text": [
            "Drive already mounted at /content/drive; to attempt to forcibly remount, call drive.mount(\"/content/drive\", force_remount=True).\n"
          ]
        }
      ]
    },
    {
      "cell_type": "code",
      "source": [
        "# Differentiating between nominal, binary, and numeric features\n",
        "\n",
        "# root_shell is marked as a continuous feature in the kddcup.names\n",
        "# file, but it is supposed to be a binary feature according to the\n",
        "# dataset documentation\n",
        "\n",
        "col_names = np.array(header_names)\n",
        "\n",
        "nominal_idx = [1, 2, 3]\n",
        "binary_idx = [6, 11, 13, 14, 20, 21]\n",
        "numeric_idx = list(set(range(41)).difference(nominal_idx).difference(binary_idx))\n",
        "\n",
        "nominal_cols = col_names[nominal_idx].tolist()\n",
        "binary_cols = col_names[binary_idx].tolist()\n",
        "numeric_cols = col_names[numeric_idx].tolist()"
      ],
      "metadata": {
        "id": "w-76Pm478ZL5"
      },
      "execution_count": 21,
      "outputs": []
    },
    {
      "cell_type": "code",
      "source": [
        "# training_attack_types.txt maps each of the 22 different attacks to 1 of 4 categories\n",
        "# file obtained from http://kdd.ics.uci.edu/databases/kddcup99/training_attack_types\n",
        "\n",
        "\n",
        "category = defaultdict(list)\n",
        "category['benign'].append('normal')\n",
        "\n",
        "with open('/content/drive/My Drive/uva1/nslkdd/training_attack_types.txt', 'r') as f:\n",
        "    for line in f.readlines():\n",
        "        attack, cat = line.strip().split(' ')\n",
        "        category[cat].append(attack)\n",
        "\n",
        "attack_mapping = dict((v, k) for k in category for v in category[k])\n",
        "\n",
        "train_df = pd.read_csv(train_file, names=header_names)\n",
        "\n",
        "train_df['attack_category'] = train_df['attack_type'] \\\n",
        "    .map(lambda x: attack_mapping[x])\n",
        "train_df.drop(['success_pred'], axis=1, inplace=True)\n",
        "\n",
        "test_df = pd.read_csv(test_file, names=header_names)\n",
        "test_df['attack_category'] = test_df['attack_type'] \\\n",
        "    .map(lambda x: attack_mapping[x])\n",
        "test_df.drop(['success_pred'], axis=1, inplace=True)\n",
        "\n",
        "train_attack_types = train_df['attack_type'].value_counts()\n",
        "train_attack_cats = train_df['attack_category'].value_counts()\n",
        "\n",
        "test_attack_types = test_df['attack_type'].value_counts()\n",
        "test_attack_cats = test_df['attack_category'].value_counts()\n",
        "\n",
        "train_attack_types.plot(kind='barh', figsize=(20, 10), fontsize=20)\n",
        "\n",
        "train_attack_cats.plot(kind='barh', figsize=(20, 10), fontsize=30)\n",
        "\n",
        "test_attack_types.plot(kind='barh', figsize=(20, 10), fontsize=15)\n",
        "\n",
        "test_attack_cats.plot(kind='barh', figsize=(20, 10), fontsize=30)"
      ],
      "metadata": {
        "colab": {
          "base_uri": "https://localhost:8080/",
          "height": 667
        },
        "id": "kpKnil7N8l8d",
        "outputId": "1a2307f2-cfe3-4d0a-e975-048e0a2b7be2"
      },
      "execution_count": 22,
      "outputs": [
        {
          "output_type": "execute_result",
          "data": {
            "text/plain": [
              "<Axes: ylabel='attack_category'>"
            ]
          },
          "metadata": {},
          "execution_count": 22
        },
        {
          "output_type": "display_data",
          "data": {
            "text/plain": [
              "<Figure size 2000x1000 with 1 Axes>"
            ],
            "image/png": "[encoded data removed]"
          },
          "metadata": {}
        }
      ]
    },
    {
      "cell_type": "code",
      "source": [
        "# Let's take a look at the binary features\n",
        "# By definition, all of these features should have a min of 0.0 and a max of 1.0\n",
        "# execute the commands in console\n",
        "\n",
        "train_df[binary_cols].describe().transpose()\n",
        "\n",
        "# Wait a minute... the su_attempted column has a max value of 2.0?\n",
        "\n",
        "train_df.groupby(['su_attempted']).size()\n",
        "\n",
        "# Let's fix this discrepancy and assume that su_attempted=2 -> su_attempted=0\n",
        "\n",
        "train_df['su_attempted'].replace(2, 0, inplace=True)\n",
        "test_df['su_attempted'].replace(2, 0, inplace=True)\n",
        "train_df.groupby(['su_attempted']).size()\n",
        "# Next, we notice that the num_outbound_cmds column only takes on one value!\n",
        "print(train_df.columns)\n",
        "\n",
        "\n",
        "# train_df.groupby(['num_outbound_cmds']).size()\n",
        "\n",
        "# # Now, that's not a very useful feature - let's drop it from the dataset\n",
        "\n",
        "# train_df.drop('num_outbound_cmds', axis=1, inplace=True)\n",
        "# test_df.drop('num_outbound_cmds', axis=1, inplace=True)\n",
        "# numeric_cols.remove('num_outbound_cmds')\n"
      ],
      "metadata": {
        "colab": {
          "base_uri": "https://localhost:8080/"
        },
        "id": "p25TZIAc8xYT",
        "outputId": "bd456b28-bdb4-4e77-9c5c-a16a7f5c2576"
      },
      "execution_count": 26,
      "outputs": [
        {
          "output_type": "stream",
          "name": "stdout",
          "text": [
            "Index(['duration', 'protocol_type', 'service', 'flag', 'src_bytes',\n",
            "       'dst_bytes', 'land', 'wrong_fragment', 'urgent', 'hot',\n",
            "       'num_failed_logins', 'logged_in', 'num_compromised', 'root_shell',\n",
            "       'su_attempted', 'num_root', 'num_file_creations', 'num_shells',\n",
            "       'num_access_files', 'is_host_login', 'is_guest_login', 'count',\n",
            "       'srv_count', 'serror_rate', 'srv_serror_rate', 'rerror_rate',\n",
            "       'srv_rerror_rate', 'same_srv_rate', 'diff_srv_rate',\n",
            "       'srv_diff_host_rate', 'dst_host_count', 'dst_host_srv_count',\n",
            "       'dst_host_same_srv_rate', 'dst_host_diff_srv_rate',\n",
            "       'dst_host_same_src_port_rate', 'dst_host_srv_diff_host_rate',\n",
            "       'dst_host_serror_rate', 'dst_host_srv_serror_rate',\n",
            "       'dst_host_rerror_rate', 'dst_host_srv_rerror_rate', 'attack_type',\n",
            "       'attack_category'],\n",
            "      dtype='object')\n"
          ]
        }
      ]
    },
    {
      "cell_type": "code",
      "source": [
        "\"\"\"\n",
        "Data Preparation\n",
        "\n",
        "\"\"\"\n",
        "train_Y = train_df['attack_category']\n",
        "train_x_raw = train_df.drop(['attack_category', 'attack_type'], axis=1)\n",
        "test_Y = test_df['attack_category']\n",
        "test_x_raw = test_df.drop(['attack_category', 'attack_type'], axis=1)\n",
        "\n",
        "'''# feature selection\n",
        "def select_features(X_train, y_train, X_test):\n",
        "    fs = SelectKBest(score_func=mutual_info_classif, k=30)\n",
        "    fs.fit(X_train, y_train)\n",
        "    X_train_fs = fs.transform(X_train)\n",
        "    X_test_fs = fs.transform(X_test)\n",
        "    return X_train_fs, X_test_fs\n",
        "'''\n",
        "\n",
        "combined_df_raw = pd.concat([train_x_raw, test_x_raw])\n",
        "combined_df = pd.get_dummies(combined_df_raw, columns=nominal_cols, drop_first=True)\n",
        "\n",
        "train_x = combined_df[:len(train_x_raw)]\n",
        "test_x = combined_df[len(train_x_raw):]\n",
        "\n",
        "# use this for catboost\n",
        "x_train = train_x_raw\n",
        "x_test = test_x_raw\n",
        "\n",
        "# Store dummy variable feature names\n",
        "dummy_variables = list(set(train_x) - set(combined_df_raw))\n",
        "\n",
        "# execute the commands in console\n",
        "train_x.describe()\n",
        "train_x['duration'].describe()\n",
        "\n",
        "# Experimenting with StandardScaler on the single 'duration' feature\n",
        "durations = train_x['duration'].values.reshape(-1, 1)\n",
        "standard_scaler = StandardScaler().fit(durations)\n",
        "scaled_durations = standard_scaler.transform(durations)\n",
        "pd.Series(scaled_durations.flatten()).describe()\n",
        "\n",
        "# Experimenting with MinMaxScaler on the single 'duration' feature\n",
        "\n",
        "min_max_scaler = MinMaxScaler().fit(durations)\n",
        "min_max_scaled_durations = min_max_scaler.transform(durations)\n",
        "pd.Series(min_max_scaled_durations.flatten()).describe()\n",
        "\n",
        "# Experimenting with RobustScaler on the single 'duration' feature\n",
        "\n",
        "min_max_scaler = RobustScaler().fit(durations)\n",
        "robust_scaled_durations = min_max_scaler.transform(durations)\n",
        "pd.Series(robust_scaled_durations.flatten()).describe()\n",
        "\n",
        "# Let's proceed with StandardScaler- Apply to all the numeric columns\n",
        "\n",
        "standard_scaler = StandardScaler().fit(train_x[numeric_cols])\n",
        "\n",
        "train_x[numeric_cols] = \\\n",
        "    standard_scaler.transform(train_x[numeric_cols])\n",
        "\n",
        "test_x[numeric_cols] = \\\n",
        "    standard_scaler.transform(test_x[numeric_cols])\n",
        "\n",
        "train_x.describe()\n",
        "\n",
        "train_Y_bin = train_Y.apply(lambda x: 0 if x is 'benign' else 1)\n",
        "test_Y_bin = test_Y.apply(lambda x: 0 if x is 'benign' else 1)\n",
        "\n",
        "'''# transform the dataset\n",
        "oversample = SMOTE()\n",
        "train_x, train_Y = oversample.fit_resample(train_x, train_Y)'''"
      ],
      "metadata": {
        "colab": {
          "base_uri": "https://localhost:8080/",
          "height": 35
        },
        "id": "IPOFfmlD87Oa",
        "outputId": "4a3adf2b-5955-4629-d464-c54682027f86"
      },
      "execution_count": 27,
      "outputs": [
        {
          "output_type": "execute_result",
          "data": {
            "text/plain": [
              "'# transform the dataset\\noversample = SMOTE()\\ntrain_x, train_Y = oversample.fit_resample(train_x, train_Y)'"
            ],
            "application/vnd.google.colaboratory.intrinsic+json": {
              "type": "string"
            }
          },
          "metadata": {},
          "execution_count": 27
        }
      ]
    },
    {
      "cell_type": "code",
      "source": [
        "\"\"\"\n",
        "multi class classification using decision tree\n",
        "\n",
        "\"\"\"\n",
        "\n",
        "from sklearn.metrics import accuracy_score, precision_score, recall_score\n",
        "# Decision Tree\n",
        "def decision_tree_clf():\n",
        "    print(\"------Decision Tree Classification-------\")\n",
        "\n",
        "    # build Decision Tree classifier\n",
        "    classifier = DecisionTreeClassifier(random_state=17)\n",
        "\n",
        "    # Train Classifier\n",
        "    classifier.fit(train_x, train_Y)\n",
        "\n",
        "    # predict\n",
        "    pred_y = classifier.predict(test_x)\n",
        "\n",
        "    # confusion matrix\n",
        "    results = confusion_matrix(test_Y, pred_y)\n",
        "\n",
        "    # error rate\n",
        "    error = zero_one_loss(test_Y, pred_y)\n",
        "\n",
        "    # print results\n",
        "    print(results)\n",
        "    print(error)\n",
        "    # Accuracy\n",
        "    accuracy = accuracy_score(test_Y, pred_y)\n",
        "\n",
        "    # Precision\n",
        "    precision = precision_score(test_Y, pred_y, average='weighted')\n",
        "\n",
        "    # Recall\n",
        "    recall = recall_score(test_Y, pred_y, average='weighted')\n",
        "\n",
        "    # Error Rate\n",
        "    error = zero_one_loss(test_Y, pred_y)\n",
        "\n",
        "    # Print results\n",
        "    print(\"Confusion Matrix:\")\n",
        "    print(results)\n",
        "    print(\"Accuracy:\", accuracy)\n",
        "    print(\"Precision:\", precision)\n",
        "    print(\"Recall:\", recall)\n",
        "    print(\"Error Rate:\", error)\n",
        "decision_tree_clf()\n"
      ],
      "metadata": {
        "colab": {
          "base_uri": "https://localhost:8080/"
        },
        "id": "r3Bv6Piq_W3V",
        "outputId": "223c8185-a36d-42b3-bc32-62de5a0a9efd"
      },
      "execution_count": 30,
      "outputs": [
        {
          "output_type": "stream",
          "name": "stdout",
          "text": [
            "------Decision Tree Classification-------\n",
            "[[9365   56  289    1    0]\n",
            " [1541 5998   97    0    0]\n",
            " [ 677  220 1526    0    0]\n",
            " [2278    1   14  277    4]\n",
            " [ 175    0    5    5   15]]\n",
            "0.2378903477643719\n",
            "Confusion Matrix:\n",
            "[[9365   56  289    1    0]\n",
            " [1541 5998   97    0    0]\n",
            " [ 677  220 1526    0    0]\n",
            " [2278    1   14  277    4]\n",
            " [ 175    0    5    5   15]]\n",
            "Accuracy: 0.7621096522356281\n",
            "Precision: 0.8148668083524764\n",
            "Recall: 0.7621096522356281\n",
            "Error Rate: 0.2378903477643719\n"
          ]
        }
      ]
    }
  ]
}